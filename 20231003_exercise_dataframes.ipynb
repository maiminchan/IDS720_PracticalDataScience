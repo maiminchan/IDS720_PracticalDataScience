{
 "cells": [
  {
   "cell_type": "markdown",
   "metadata": {},
   "source": [
    "# Exercise 1\n",
    "Import `US_ACS_2017_10pct_sample.dta` into a pandas DataFrame (read it directly from a URL to help the autograder, please).\n",
    "\n",
    "This can be done with the command `pd.read_stata`, which will read in files created in the program Stata (and which uses the file suffix `.dta`). This is a format commonly used by social scientists."
   ]
  },
  {
   "cell_type": "code",
   "execution_count": 1,
   "metadata": {},
   "outputs": [],
   "source": [
    "import pandas as pd\n",
    "\n",
    "df = pd.read_stata(\n",
    "    \"https://github.com/nickeubank/MIDS_Data/raw/master/US_AmericanCommunitySurvey/US_ACS_2017_10pct_sample.dta\"\n",
    ")"
   ]
  },
  {
   "cell_type": "markdown",
   "metadata": {},
   "source": [
    "# Exercise 2\n",
    "How many observations are in your data? Store the answer in your results dictionary with the key \"ex2_num_obs\"."
   ]
  },
  {
   "cell_type": "code",
   "execution_count": 2,
   "metadata": {},
   "outputs": [],
   "source": [
    "ex2_num_obs = df.shape[0]\n",
    "results = {\"ex2_num_obs\": ex2_num_obs}"
   ]
  },
  {
   "cell_type": "markdown",
   "metadata": {},
   "source": [
    "# Exercise 3\n",
    "How many variables are in your data? Store the answer in your results dictionary with the key \"ex3_num_vars\"."
   ]
  },
  {
   "cell_type": "code",
   "execution_count": 3,
   "metadata": {},
   "outputs": [],
   "source": [
    "ex3_num_vars = df.shape[1]\n",
    "results = {\"ex3_num_vars\": ex3_num_vars}"
   ]
  },
  {
   "cell_type": "markdown",
   "metadata": {},
   "source": [
    "# Exercise 4"
   ]
  },
  {
   "cell_type": "code",
   "execution_count": 4,
   "metadata": {},
   "outputs": [
    {
     "data": {
      "text/plain": [
       "Index(['year', 'datanum', 'serial', 'cbserial', 'numprec', 'subsamp', 'hhwt',\n",
       "       'hhtype', 'cluster', 'adjust',\n",
       "       ...\n",
       "       'migcounty1', 'migmet131', 'vetdisab', 'diffrem', 'diffphys', 'diffmob',\n",
       "       'diffcare', 'diffsens', 'diffeye', 'diffhear'],\n",
       "      dtype='object', length=104)"
      ]
     },
     "execution_count": 4,
     "metadata": {},
     "output_type": "execute_result"
    }
   ],
   "source": [
    "df.columns"
   ]
  },
  {
   "cell_type": "code",
   "execution_count": 5,
   "metadata": {},
   "outputs": [
    {
     "name": "stdout",
     "output_type": "stream",
     "text": [
      "year\n",
      "datanum\n",
      "serial\n",
      "cbserial\n",
      "numprec\n",
      "subsamp\n",
      "hhwt\n",
      "hhtype\n",
      "cluster\n",
      "adjust\n",
      "cpi99\n",
      "region\n",
      "stateicp\n",
      "statefip\n",
      "countyicp\n",
      "countyfip\n",
      "metro\n",
      "city\n",
      "citypop\n",
      "strata\n",
      "gq\n",
      "farm\n",
      "ownershp\n",
      "ownershpd\n",
      "mortgage\n",
      "mortgag2\n",
      "mortamt1\n",
      "mortamt2\n",
      "respmode\n",
      "pernum\n",
      "cbpernum\n",
      "perwt\n",
      "slwt\n",
      "famunit\n",
      "sex\n",
      "age\n",
      "marst\n",
      "birthyr\n",
      "race\n",
      "raced\n",
      "hispan\n",
      "hispand\n",
      "bpl\n",
      "bpld\n",
      "citizen\n",
      "yrnatur\n",
      "yrimmig\n",
      "language\n",
      "languaged\n",
      "speakeng\n",
      "hcovany\n",
      "hcovpriv\n",
      "hinsemp\n",
      "hinspur\n",
      "hinstri\n",
      "hcovpub\n",
      "hinscaid\n",
      "hinscare\n",
      "hinsva\n",
      "hinsihs\n",
      "school\n",
      "educ\n",
      "educd\n",
      "gradeatt\n",
      "gradeattd\n",
      "schltype\n",
      "degfield\n",
      "degfieldd\n",
      "degfield2\n",
      "degfield2d\n",
      "empstat\n",
      "empstatd\n",
      "labforce\n",
      "occ\n",
      "ind\n",
      "classwkr\n",
      "classwkrd\n",
      "looking\n",
      "availble\n",
      "inctot\n",
      "ftotinc\n",
      "incwage\n",
      "incbus00\n",
      "incss\n",
      "incwelfr\n",
      "incinvst\n",
      "incretir\n",
      "incsupp\n",
      "incother\n",
      "incearn\n",
      "poverty\n",
      "migrate1\n",
      "migrate1d\n",
      "migplac1\n",
      "migcounty1\n",
      "migmet131\n",
      "vetdisab\n",
      "diffrem\n",
      "diffphys\n",
      "diffmob\n",
      "diffcare\n",
      "diffsens\n",
      "diffeye\n",
      "diffhear\n"
     ]
    }
   ],
   "source": [
    "for c in df.columns:\n",
    "    print(c)"
   ]
  },
  {
   "cell_type": "markdown",
   "metadata": {},
   "source": [
    "# Exercise 5\n",
    "Subset your data to just those variables: `age, inctot, educ, and empstat`"
   ]
  },
  {
   "cell_type": "code",
   "execution_count": 6,
   "metadata": {},
   "outputs": [],
   "source": [
    "# List of variables of interest\n",
    "vars_of_interest = [\"age\", \"inctot\", \"educ\", \"empstat\"]\n",
    "\n",
    "# Subset the DataFrame to include only the specified variables\n",
    "subset_df = df[vars_of_interest]"
   ]
  },
  {
   "cell_type": "markdown",
   "metadata": {},
   "source": [
    "# Exercise 6\n",
    "Random sample of 20 rows."
   ]
  },
  {
   "cell_type": "code",
   "execution_count": 7,
   "metadata": {},
   "outputs": [],
   "source": [
    "random_sample = subset_df.sample(n=20)"
   ]
  },
  {
   "cell_type": "markdown",
   "metadata": {},
   "source": [
    "# Exercise 7\n",
    "Do you see any immediate problems? What issues do you see?"
   ]
  },
  {
   "cell_type": "markdown",
   "metadata": {},
   "source": [
    ">There are some $9,999,999 as income in the dataset"
   ]
  },
  {
   "cell_type": "markdown",
   "metadata": {},
   "source": [
    "# Exercise 8\n",
    "Dropping anyone who has `inctot` equal to `9999999`.\n",
    "\n",
    "After dropping, how many observations do you have? Save your answer in your results dictionary under the key \"ex8_updated_num_obs\""
   ]
  },
  {
   "cell_type": "code",
   "execution_count": 8,
   "metadata": {},
   "outputs": [],
   "source": [
    "subset_df_drop_9 = subset_df[subset_df[\"inctot\"] != 9999999]\n",
    "ex8_updated_num_obs = subset_df_drop_9.shape[0]\n",
    "results = {\"ex8_updated_num_obs\": ex8_updated_num_obs}"
   ]
  },
  {
   "cell_type": "markdown",
   "metadata": {},
   "source": [
    "# Exercise 9\n",
    "Subset the dataset for the people for whom empstat is equal to “employed”. \n",
    "Save your answer in your results dictionary under the key \"ex9_updated_num_obs\""
   ]
  },
  {
   "cell_type": "code",
   "execution_count": 9,
   "metadata": {},
   "outputs": [],
   "source": [
    "subset_df_employed = subset_df_drop_9[subset_df_drop_9[\"empstat\"] == \"employed\"]\n",
    "subset_df_employed1 = subset_df[subset_df[\"empstat\"] == \"employed\"]\n",
    "ex9_updated_num_obs = subset_df_employed.shape[0]\n",
    "results = {\"ex9_updated_num_obs\": ex9_updated_num_obs}"
   ]
  },
  {
   "cell_type": "markdown",
   "metadata": {},
   "source": [
    "# Exercise 10"
   ]
  },
  {
   "cell_type": "code",
   "execution_count": 10,
   "metadata": {},
   "outputs": [
    {
     "data": {
      "text/plain": [
       "educ\n",
       "grade 12                     93133\n",
       "4 years of college           47212\n",
       "1 year of college            38779\n",
       "5+ years of college          29801\n",
       "nursery school to grade 4    24514\n",
       "grade 5, 6, 7, or 8          21535\n",
       "2 years of college           20757\n",
       "n/a or no schooling          19562\n",
       "grade 11                      8758\n",
       "grade 10                      7818\n",
       "grade 9                       7135\n",
       "Name: count, dtype: int64"
      ]
     },
     "execution_count": 10,
     "metadata": {},
     "output_type": "execute_result"
    }
   ],
   "source": [
    "df[\"educ\"].value_counts()"
   ]
  },
  {
   "cell_type": "markdown",
   "metadata": {},
   "source": [
    "# Exercise 11\n",
    "There are a lot of values in here, so let’s just check a couple. What is the average value of `inctot` for people whose highest grade level is “grade 12” (in the US, that is someone who has graduated high school)?\n",
    "\n",
    "Save your answer in your results dictionary under the key \"ex11_grade12_income\"."
   ]
  },
  {
   "cell_type": "code",
   "execution_count": 11,
   "metadata": {},
   "outputs": [],
   "source": [
    "grade_12_df = subset_df_employed[subset_df_employed[\"educ\"] == \"grade 12\"]\n",
    "average_inc_grade_12 = grade_12_df[\"inctot\"].mean()\n",
    "results = {\"ex11_grade12_income\": average_inc_grade_12}"
   ]
  },
  {
   "cell_type": "markdown",
   "metadata": {},
   "source": [
    "# Exercise 12\n",
    "What is the average income of someone who has completed an undergraduate degree but not done any postgraduate education (“4 years of college”)?\n",
    "\n",
    "Save your answer in your results dictionary under the key \"ex12_college_income\".\n",
    "\n",
    "In percentage terms, how much does an employed college graduate earn as compared to someone who is only a high school graduate? Use the reference category that gives an answer above 100.\n",
    "\n",
    "Store your answer in \"ex12_college_income_pct\". Put your answer in percentage terms (so 100 implies they earn the same amount).\n",
    "\n",
    "Make sure to interpret your result in words when you print it out!"
   ]
  },
  {
   "cell_type": "code",
   "execution_count": 12,
   "metadata": {},
   "outputs": [
    {
     "data": {
      "text/plain": [
       "193.7612727527617"
      ]
     },
     "execution_count": 12,
     "metadata": {},
     "output_type": "execute_result"
    }
   ],
   "source": [
    "undergrad_df = subset_df_employed[subset_df_employed[\"educ\"] == \"4 years of college\"]\n",
    "average_income_undergrad = undergrad_df[\"inctot\"].mean()\n",
    "\n",
    "percent = (average_income_undergrad / average_inc_grade_12) * 100\n",
    "results = {\n",
    "    \"ex12_college_income\": average_income_undergrad,\n",
    "    \"ex12_college_income_pct\": percent,\n",
    "}\n",
    "percent"
   ]
  },
  {
   "cell_type": "markdown",
   "metadata": {},
   "source": [
    "> Employed college graduates earn 193.76% more than those who are only high school graduates."
   ]
  },
  {
   "cell_type": "markdown",
   "metadata": {},
   "source": [
    "# Exercise 13\n",
    "What does that suggest is the value of getting a college degree after graduating high school?"
   ]
  },
  {
   "cell_type": "markdown",
   "metadata": {},
   "source": [
    "> Getting a college degree has a higher chance of getting a better pay."
   ]
  },
  {
   "cell_type": "markdown",
   "metadata": {},
   "source": [
    "# Exercise 14\n",
    "What is the average income for someone who has not finished high school? What does that suggest is the value of a high school diploma? (Treat n/a or no schooling as having no formal schooling, not as missing).\n",
    "\n",
    "Hint: You may find the .isin() method to be really helpful here.\n",
    "\n",
    "Save your answer in your results dictionary under the key \"ex14_high_school_dropout\"."
   ]
  },
  {
   "cell_type": "code",
   "execution_count": 13,
   "metadata": {},
   "outputs": [],
   "source": [
    "# Define a list that they do not finish high school\n",
    "not_finished = [\n",
    "    \"grade 9\",\n",
    "    \"grade 10\",\n",
    "    \"grade 11\",\n",
    "    \"n/a or no schooling\",\n",
    "    \"nursery school to grade 4\",\n",
    "    \"grade 5, 6, 7, or 8\",\n",
    "]\n",
    "# Filter the data frame for those who do not finish high school\n",
    "not_finished_high_school_df = subset_df_employed[\n",
    "    subset_df_employed[\"educ\"].isin(not_finished)\n",
    "]\n",
    "\n",
    "average_income_no_finished = not_finished_high_school_df[\"inctot\"].mean()\n",
    "results = {\"ex14_high_school_dropout\": average_income_no_finished}"
   ]
  },
  {
   "cell_type": "markdown",
   "metadata": {},
   "source": [
    "# Exercise 15\n",
    "Complete the following table (storing values under the provided keys where listed):\n",
    "\n",
    "Average income for someone who only completed 9th grade (ex15_grade_9): _________\n",
    "\n",
    "Average income for someone who only completed 10th grade (ex15_grade_10): _________\n",
    "\n",
    "Average income for someone who only completed 11th grade (ex15_grade_11): _________\n",
    "\n",
    "Average income for someone who finished high school (12th grade) but never started college (ex15_grade_12): _________\n",
    "\n",
    "Average income for someone who completed 4 year of college (in the US, this corresponds to getting an undergraduate degree), but has no post-graduate education (no more than 4 years, ex15_4_years_of_college): _________\n",
    "\n",
    "Average income for someone who has some graduate education (more than 4 years, ex15_graduate): _________"
   ]
  },
  {
   "cell_type": "code",
   "execution_count": 14,
   "metadata": {},
   "outputs": [],
   "source": [
    "grade_9_df = subset_df_employed[subset_df_employed[\"educ\"] == \"grade 9\"]\n",
    "average_grade_9 = grade_9_df[\"inctot\"].mean()\n",
    "grade_10_df = subset_df_employed[subset_df_employed[\"educ\"] == \"grade 10\"]\n",
    "average_grade_10 = grade_10_df[\"inctot\"].mean()\n",
    "grade_11_df = subset_df_employed[subset_df_employed[\"educ\"] == \"grade 11\"]\n",
    "average_grade_11 = grade_11_df[\"inctot\"].mean()\n",
    "graduate_df = subset_df_employed[subset_df_employed[\"educ\"] == \"5+ years of college\"]\n",
    "average_graduate = graduate_df[\"inctot\"].mean()\n",
    "results = {\n",
    "    \"ex15_grade_9\": average_grade_9,\n",
    "    \"ex15_grade_10\": average_grade_10,\n",
    "    \"ex15_grade_11\": average_grade_11,\n",
    "    \"ex15_grade_12\": average_inc_grade_12,\n",
    "    \"ex15_4_years_of_college\": average_income_undergrad,\n",
    "    \"ex15_graduate\": average_graduate,\n",
    "}"
   ]
  },
  {
   "cell_type": "markdown",
   "metadata": {},
   "source": [
    "# Exercise 16\n",
    "Why do you think there is no benefit from moving from grade 9 to grade 10, or grade 10 to grade 11, but there is a huge benefit to moving from grade 11 to graduating high school (grade 12)?"
   ]
  },
  {
   "cell_type": "markdown",
   "metadata": {},
   "source": [
    "> Finishing high school means you reach a milestone of finishing 12 years of studying, hence proving you do not give up easily."
   ]
  },
  {
   "cell_type": "code",
   "execution_count": 15,
   "metadata": {},
   "outputs": [],
   "source": [
    "results = {\n",
    "    \"ex2_num_obs\": ex2_num_obs,\n",
    "    \"ex3_num_vars\": ex3_num_vars,\n",
    "    \"ex8_updated_num_obs\": ex8_updated_num_obs,\n",
    "    \"ex9_updated_num_obs\": ex9_updated_num_obs,\n",
    "    \"ex11_grade12_income\": average_inc_grade_12,\n",
    "    \"ex12_college_income\": average_income_undergrad,\n",
    "    \"ex12_college_income_pct\": percent,\n",
    "    \"ex14_high_school_dropout\": average_income_no_finished,\n",
    "    \"ex15_grade_9\": average_grade_9,\n",
    "    \"ex15_grade_10\": average_grade_10,\n",
    "    \"ex15_grade_11\": average_grade_11,\n",
    "    \"ex15_grade_12\": average_inc_grade_12,\n",
    "    \"ex15_4_years_of_college\": average_income_undergrad,\n",
    "    \"ex15_graduate\": average_graduate,\n",
    "}"
   ]
  },
  {
   "cell_type": "code",
   "execution_count": 17,
   "metadata": {},
   "outputs": [
    {
     "data": {
      "text/plain": [
       "{'ex2_num_obs': 319004,\n",
       " 'ex3_num_vars': 104,\n",
       " 'ex8_updated_num_obs': 265103,\n",
       " 'ex9_updated_num_obs': 148758,\n",
       " 'ex11_grade12_income': 38957.76068179442,\n",
       " 'ex12_college_income': 75485.05293301983,\n",
       " 'ex12_college_income_pct': 193.7612727527617,\n",
       " 'ex14_high_school_dropout': 26226.45692998571,\n",
       " 'ex15_grade_9': 27171.907751937986,\n",
       " 'ex15_grade_10': 23018.795811518325,\n",
       " 'ex15_grade_11': 21541.68693119767,\n",
       " 'ex15_grade_12': 38957.76068179442,\n",
       " 'ex15_4_years_of_college': 75485.05293301983,\n",
       " 'ex15_graduate': 110013.2213384139}"
      ]
     },
     "execution_count": 17,
     "metadata": {},
     "output_type": "execute_result"
    }
   ],
   "source": [
    "results"
   ]
  },
  {
   "cell_type": "code",
   "execution_count": 16,
   "metadata": {},
   "outputs": [],
   "source": [
    "assert set(results.keys()) == {\n",
    "    \"ex2_num_obs\",\n",
    "    \"ex3_num_vars\",\n",
    "    \"ex8_updated_num_obs\",\n",
    "    \"ex9_updated_num_obs\",\n",
    "    \"ex11_grade12_income\",\n",
    "    \"ex12_college_income\",\n",
    "    \"ex12_college_income_pct\",\n",
    "    \"ex14_high_school_dropout\",\n",
    "    \"ex15_grade_9\",\n",
    "    \"ex15_grade_10\",\n",
    "    \"ex15_grade_11\",\n",
    "    \"ex15_grade_12\",\n",
    "    \"ex15_4_years_of_college\",\n",
    "    \"ex15_graduate\",\n",
    "}"
   ]
  }
 ],
 "metadata": {
  "kernelspec": {
   "display_name": "base",
   "language": "python",
   "name": "python3"
  },
  "language_info": {
   "codemirror_mode": {
    "name": "ipython",
    "version": 3
   },
   "file_extension": ".py",
   "mimetype": "text/x-python",
   "name": "python",
   "nbconvert_exporter": "python",
   "pygments_lexer": "ipython3",
   "version": "3.11.4"
  },
  "orig_nbformat": 4
 },
 "nbformat": 4,
 "nbformat_minor": 2
}
