{
 "cells": [
  {
   "cell_type": "markdown",
   "metadata": {},
   "source": [
    "# Groupby and Arrest Data\n",
    "\n",
    "In our merging exercises, we examined the relationship between county-level violent arrest totals and county-level drug arrest totals. In those exercises, you were given a dataset that provided you with county-level arrest totals. But that's not actually how the data is provided by the state of California. This week we will work with the *raw* California arrest data, which is not organized by county or even county-year. \n"
   ]
  },
  {
   "cell_type": "markdown",
   "metadata": {},
   "source": [
    "\n",
    "## Gradescope Autograding\n",
    "\n",
    "Please follow [all standard guidance](https://www.practicaldatascience.org/html/autograder_guidelines.html) for submitting this assignment to the Gradescope autograder, including storing your solutions in a dictionary called `results` and ensuring your notebook runs from the start to completion without any errors.\n",
    "\n",
    "For this assignment, please name your file `exercise_groupby.ipynb` before uploading.\n",
    "\n",
    "You can check that you have answers for all questions in your `results` dictionary with this code:\n",
    "\n",
    "```python\n",
    "assert set(results.keys()) == {\n",
    "    \"ex4_num_rows\",\n",
    "    \"ex5_collapsed_vars\",\n",
    "    \"ex7_alameda_1980_share_violent_arrestees_black\",\n",
    "    \"ex11_white_drug_share\",\n",
    "    \"ex11_black_drug_share\",\n",
    "    \"ex12_proportionate\",\n",
    "}\n",
    "```\n",
    "\n",
    "\n",
    "### Submission Limits\n",
    "\n",
    "Please remember that you are **only allowed three submissions to the autograder.** Your last submission (if you submit 3 or fewer times), or your third submission (if you submit more than 3 times) will determine your grade Submissions that error out will **not** count against this total."
   ]
  },
  {
   "cell_type": "markdown",
   "metadata": {},
   "source": [
    "### Exercise 1\n",
    "\n",
    "Import the raw California arrest data from the State Attorney General's office. Please use [this link](https://github.com/nickeubank/MIDS_Data/blob/master/OnlineArrestData1980-2021.csv) (the original is here [here](https://openjustice.doj.ca.gov/data), but they keep updating it and I get tired of updating solutions, so... please use my copy!)"
   ]
  },
  {
   "cell_type": "code",
   "execution_count": 1,
   "metadata": {},
   "outputs": [],
   "source": [
    "import pandas as pd\n",
    "\n",
    "pd.set_option(\"mode.copy_on_write\", True)\n",
    "\n",
    "data = pd.read_csv(\n",
    "    \"https://github.com/nickeubank/MIDS_Data/raw/master/OnlineArrestData1980-2021.csv\"\n",
    ")"
   ]
  },
  {
   "cell_type": "markdown",
   "metadata": {},
   "source": [
    "## Learning the Group Structure of Your Data\n",
    "\n",
    "### Exercise 2\n",
    "\n",
    "What is the unit of observation for this dataset? In other words, when row zero says that there were 505 arrests for `VIOLENT` crimes, what exactly is that telling you—505 arrests in 1980? 505 arrests in Alameda County?\n",
    "\n",
    "(Please answer in Markdown)"
   ]
  },
  {
   "cell_type": "code",
   "execution_count": 2,
   "metadata": {},
   "outputs": [
    {
     "name": "stdout",
     "output_type": "stream",
     "text": [
      "909\n"
     ]
    },
    {
     "data": {
      "text/html": [
       "<div>\n",
       "<style scoped>\n",
       "    .dataframe tbody tr th:only-of-type {\n",
       "        vertical-align: middle;\n",
       "    }\n",
       "\n",
       "    .dataframe tbody tr th {\n",
       "        vertical-align: top;\n",
       "    }\n",
       "\n",
       "    .dataframe thead th {\n",
       "        text-align: right;\n",
       "    }\n",
       "</style>\n",
       "<table border=\"1\" class=\"dataframe\">\n",
       "  <thead>\n",
       "    <tr style=\"text-align: right;\">\n",
       "      <th></th>\n",
       "      <th>YEAR</th>\n",
       "      <th>GENDER</th>\n",
       "      <th>RACE</th>\n",
       "      <th>AGE_GROUP</th>\n",
       "      <th>COUNTY</th>\n",
       "      <th>VIOLENT</th>\n",
       "      <th>PROPERTY</th>\n",
       "      <th>F_DRUGOFF</th>\n",
       "      <th>F_SEXOFF</th>\n",
       "      <th>F_ALLOTHER</th>\n",
       "      <th>F_TOTAL</th>\n",
       "      <th>M_TOTAL</th>\n",
       "      <th>S_TOTAL</th>\n",
       "    </tr>\n",
       "  </thead>\n",
       "  <tbody>\n",
       "    <tr>\n",
       "      <th>0</th>\n",
       "      <td>1980</td>\n",
       "      <td>Male</td>\n",
       "      <td>Black</td>\n",
       "      <td>Under 18</td>\n",
       "      <td>Alameda County</td>\n",
       "      <td>505</td>\n",
       "      <td>1351</td>\n",
       "      <td>188</td>\n",
       "      <td>26</td>\n",
       "      <td>79</td>\n",
       "      <td>2149</td>\n",
       "      <td>2286</td>\n",
       "      <td>295</td>\n",
       "    </tr>\n",
       "    <tr>\n",
       "      <th>1</th>\n",
       "      <td>1980</td>\n",
       "      <td>Male</td>\n",
       "      <td>Black</td>\n",
       "      <td>18 to 19</td>\n",
       "      <td>Alameda County</td>\n",
       "      <td>205</td>\n",
       "      <td>465</td>\n",
       "      <td>183</td>\n",
       "      <td>8</td>\n",
       "      <td>48</td>\n",
       "      <td>909</td>\n",
       "      <td>1333</td>\n",
       "      <td>0</td>\n",
       "    </tr>\n",
       "    <tr>\n",
       "      <th>2</th>\n",
       "      <td>1980</td>\n",
       "      <td>Male</td>\n",
       "      <td>Black</td>\n",
       "      <td>20 to 29</td>\n",
       "      <td>Alameda County</td>\n",
       "      <td>949</td>\n",
       "      <td>1593</td>\n",
       "      <td>606</td>\n",
       "      <td>27</td>\n",
       "      <td>178</td>\n",
       "      <td>3353</td>\n",
       "      <td>7974</td>\n",
       "      <td>0</td>\n",
       "    </tr>\n",
       "  </tbody>\n",
       "</table>\n",
       "</div>"
      ],
      "text/plain": [
       "   YEAR GENDER   RACE AGE_GROUP          COUNTY  VIOLENT  PROPERTY  F_DRUGOFF  \\\n",
       "0  1980   Male  Black  Under 18  Alameda County      505      1351        188   \n",
       "1  1980   Male  Black  18 to 19  Alameda County      205       465        183   \n",
       "2  1980   Male  Black  20 to 29  Alameda County      949      1593        606   \n",
       "\n",
       "   F_SEXOFF  F_ALLOTHER  F_TOTAL  M_TOTAL  S_TOTAL  \n",
       "0        26          79     2149     2286      295  \n",
       "1         8          48      909     1333        0  \n",
       "2        27         178     3353     7974        0  "
      ]
     },
     "execution_count": 2,
     "metadata": {},
     "output_type": "execute_result"
    }
   ],
   "source": [
    "print(205 + 465 + 183 + 8 + 48)\n",
    "data.head(3)"
   ]
  },
  {
   "cell_type": "markdown",
   "metadata": {},
   "source": [
    "```Our unit of observation is attached on the County-year-gender-race and Age group to become unique.```"
   ]
  },
  {
   "cell_type": "markdown",
   "metadata": {},
   "source": [
    "### Testing Your Assumptions\n",
    "\n",
    "It's important to be able to test whether the data you are working with really is organized the way you think it is, especially when working with groupby. Let's discuss how to check your answer to Exercise 2 with the `.duplicated()` method. \n",
    "\n",
    "Consider the following toy data:"
   ]
  },
  {
   "cell_type": "code",
   "execution_count": 3,
   "metadata": {},
   "outputs": [
    {
     "data": {
      "text/html": [
       "<div>\n",
       "<style scoped>\n",
       "    .dataframe tbody tr th:only-of-type {\n",
       "        vertical-align: middle;\n",
       "    }\n",
       "\n",
       "    .dataframe tbody tr th {\n",
       "        vertical-align: top;\n",
       "    }\n",
       "\n",
       "    .dataframe thead th {\n",
       "        text-align: right;\n",
       "    }\n",
       "</style>\n",
       "<table border=\"1\" class=\"dataframe\">\n",
       "  <thead>\n",
       "    <tr style=\"text-align: right;\">\n",
       "      <th></th>\n",
       "      <th>social_security_numbers</th>\n",
       "      <th>second_column</th>\n",
       "    </tr>\n",
       "  </thead>\n",
       "  <tbody>\n",
       "    <tr>\n",
       "      <th>0</th>\n",
       "      <td>111111111</td>\n",
       "      <td>a</td>\n",
       "    </tr>\n",
       "    <tr>\n",
       "      <th>1</th>\n",
       "      <td>222222222</td>\n",
       "      <td>a</td>\n",
       "    </tr>\n",
       "    <tr>\n",
       "      <th>2</th>\n",
       "      <td>222222222</td>\n",
       "      <td>a</td>\n",
       "    </tr>\n",
       "    <tr>\n",
       "      <th>3</th>\n",
       "      <td>333333333</td>\n",
       "      <td>a</td>\n",
       "    </tr>\n",
       "    <tr>\n",
       "      <th>4</th>\n",
       "      <td>333333333</td>\n",
       "      <td>b</td>\n",
       "    </tr>\n",
       "  </tbody>\n",
       "</table>\n",
       "</div>"
      ],
      "text/plain": [
       "   social_security_numbers second_column\n",
       "0                111111111             a\n",
       "1                222222222             a\n",
       "2                222222222             a\n",
       "3                333333333             a\n",
       "4                333333333             b"
      ]
     },
     "execution_count": 3,
     "metadata": {},
     "output_type": "execute_result"
    }
   ],
   "source": [
    "import pandas as pd\n",
    "\n",
    "df = pd.DataFrame(\n",
    "    {\n",
    "        \"social_security_numbers\": [\n",
    "            111111111,\n",
    "            222222222,\n",
    "            222222222,\n",
    "            333333333,\n",
    "            333333333,\n",
    "        ],\n",
    "        \"second_column\": [\"a\", \"a\", \"a\", \"a\", \"b\"],\n",
    "    }\n",
    ")\n",
    "df"
   ]
  },
  {
   "cell_type": "markdown",
   "metadata": {},
   "source": [
    "If we want to see if there are any duplicate rows in the dataset, we can use the `.duplicated()` method:"
   ]
  },
  {
   "cell_type": "code",
   "execution_count": 4,
   "metadata": {},
   "outputs": [
    {
     "data": {
      "text/plain": [
       "0    False\n",
       "1    False\n",
       "2     True\n",
       "3    False\n",
       "4    False\n",
       "dtype: bool"
      ]
     },
     "execution_count": 4,
     "metadata": {},
     "output_type": "execute_result"
    }
   ],
   "source": [
    "df.duplicated()"
   ]
  },
  {
   "cell_type": "markdown",
   "metadata": {},
   "source": [
    "As you can see, `.duplicated()` looks at each row and returns `True` if it has seen the row it is looking at before. \n",
    "\n",
    "Notice that `.duplicted()` doesn't return `True` for *all* rows that look the same as another row in the data—it treats the first instance of a row as unique, and only tags *subsequent* repetitions as \"duplicates\" (You can change this behavior with the `keep` keyword argument if you want).\n",
    "\n",
    "`.duplicated()` can also be used to test for rows that are duplicates in terms of a sub-set of columns. For example, `df.duplicated([\"social_security_numbers\"])` identifies rows with duplicate values of the variable `social_security_numbers`:"
   ]
  },
  {
   "cell_type": "code",
   "execution_count": 5,
   "metadata": {},
   "outputs": [
    {
     "data": {
      "text/plain": [
       "0    False\n",
       "1    False\n",
       "2     True\n",
       "3    False\n",
       "4     True\n",
       "dtype: bool"
      ]
     },
     "execution_count": 5,
     "metadata": {},
     "output_type": "execute_result"
    }
   ],
   "source": [
    "df.duplicated([\"social_security_numbers\"])"
   ]
  },
  {
   "cell_type": "markdown",
   "metadata": {},
   "source": [
    "Since `duplicated` is now only looking at `social_security_numbers` (not all values in a row), the last row is now a duplicate (because `333333333` is duplicated), where when we considered all columns, it was not a duplicate. "
   ]
  },
  {
   "cell_type": "markdown",
   "metadata": {},
   "source": [
    "### Testing with .duplicated()\n",
    "\n",
    "`.duplicated()` can be paired with the `.any()` method to write `assert` tests to detect the presence of duplicates in our dataset and to validate our assumptions about whether certain variables uniquely identify observations in our data.\n",
    "\n",
    "When you run `.any()` on an array of Booleans, it returns a single value of `True` if *any* entries are `True`, and a single value of `False` if *no* entries are `True`. (You can also use `.all()` to test if all entries are `False`).\n",
    "\n",
    "Thus the command `df.duplicated(['social_security_numbers'])` will return `False` if `social_security_numbers` uniquely identifies every row in our dataset (since there are no duplicates)! But if there *are* any duplicates, it will return `True`:"
   ]
  },
  {
   "cell_type": "code",
   "execution_count": 6,
   "metadata": {},
   "outputs": [
    {
     "data": {
      "text/plain": [
       "True"
      ]
     },
     "execution_count": 6,
     "metadata": {},
     "output_type": "execute_result"
    }
   ],
   "source": [
    "df.duplicated([\"social_security_numbers\"]).any()"
   ]
  },
  {
   "cell_type": "markdown",
   "metadata": {},
   "source": [
    "So if I wanted a test that would raise an `Error` if it turned out that `social_security_numbers` *didn't* uniquely identify observations, I would combine that code with `assert not`:\n",
    "\n",
    "```python\n",
    "assert not df.duplicated([\"social_security_numbers\"]).any()\n",
    "\n",
    "---------------------------------------------------------------------------\n",
    "AssertionError                            Traceback (most recent call last)\n",
    "Cell In [20], line 1\n",
    "----> 1 assert not df.duplicated([\"social_security_numbers\"]).any()\n",
    "\n",
    "AssertionError: \n",
    "```"
   ]
  },
  {
   "cell_type": "markdown",
   "metadata": {},
   "source": [
    "(which in this case raises an Error because `social_security_numbers` *isn't* unique!)\n",
    "\n",
    "BTW, if this feels oddly familiar, that's probably because we talked about this same idea when discussing merging. A `1:1` merge is one in which the merging variables uniquely identify observations in both datasets."
   ]
  },
  {
   "cell_type": "markdown",
   "metadata": {},
   "source": [
    "### Exercise 3\n",
    "\n",
    "Use `duplicated` to test if the variables *you* think uniquely identify rows in your data really do uniquely identify rows. If you were wrong, update your beliefs (and your code) until you have an `assert` statement that passes."
   ]
  },
  {
   "cell_type": "code",
   "execution_count": 7,
   "metadata": {},
   "outputs": [
    {
     "data": {
      "text/plain": [
       "Index(['YEAR', 'GENDER', 'RACE', 'AGE_GROUP', 'COUNTY', 'VIOLENT', 'PROPERTY',\n",
       "       'F_DRUGOFF', 'F_SEXOFF', 'F_ALLOTHER', 'F_TOTAL', 'M_TOTAL', 'S_TOTAL'],\n",
       "      dtype='object')"
      ]
     },
     "execution_count": 7,
     "metadata": {},
     "output_type": "execute_result"
    }
   ],
   "source": [
    "data.columns"
   ]
  },
  {
   "cell_type": "code",
   "execution_count": 8,
   "metadata": {},
   "outputs": [],
   "source": [
    "variables = \"YEAR GENDER RACE AGE_GROUP COUNTY\".split()\n",
    "\n",
    "assert not data.duplicated(variables).any()"
   ]
  },
  {
   "cell_type": "markdown",
   "metadata": {},
   "source": [
    "### Exercise 4\n",
    "\n",
    "Once you have a handle on how the data looks now, please **collapse the data** to be one observation per county-year-racial group. Store the number of rows in the resulting dataframe in your `results` dictionary under the key `\"ex4_num_rows\"`.\n",
    "\n",
    "**Hint:** Think carefully about the most appropriate *aggregation function* (e.g., mean, median, sum, count) given the data we're working with!\n",
    "\n",
    "**Hint 2:** When using `groupby`, I am a HUGE fan of the `as_index=False` keyword argument (e.g., `df.groupby(\"col1\", as_index=False).mean()`). By default when you use groupby, pandas likes to make a new index out of the grouping columns. As you know, I HATE indices, and this keyword argument prevents pandas from this behavior. To illustrate:"
   ]
  },
  {
   "cell_type": "code",
   "execution_count": 9,
   "metadata": {},
   "outputs": [],
   "source": [
    "used_columns = [\n",
    "    \"YEAR\",\n",
    "    \"RACE\",\n",
    "    \"COUNTY\",\n",
    "    \"VIOLENT\",\n",
    "    \"PROPERTY\",\n",
    "    \"F_DRUGOFF\",\n",
    "    \"F_SEXOFF\",\n",
    "    \"F_ALLOTHER\",\n",
    "    \"F_TOTAL\",\n",
    "    \"M_TOTAL\",\n",
    "    \"S_TOTAL\",\n",
    "]"
   ]
  },
  {
   "cell_type": "code",
   "execution_count": 10,
   "metadata": {},
   "outputs": [],
   "source": [
    "# With as_index=False\n",
    "data_gb = data[used_columns].groupby([\"COUNTY\", \"YEAR\", \"RACE\"], as_index=False).sum()"
   ]
  },
  {
   "cell_type": "code",
   "execution_count": 11,
   "metadata": {},
   "outputs": [
    {
     "name": "stdout",
     "output_type": "stream",
     "text": [
      "The rows decreased from 102,245 to 9,702\n"
     ]
    }
   ],
   "source": [
    "ex4_num_rows = data_gb.shape[0]\n",
    "print(f\"The rows decreased from {data.shape[0]:,.0f} to {ex4_num_rows:,.0f}\")"
   ]
  },
  {
   "cell_type": "markdown",
   "metadata": {},
   "source": [
    "### Exercise 5\n",
    "\n",
    "You should notice that there are significantly fewer rows in the data now. Given your answer from 3, what groups were you *collapsing* in question 4 (in other words, which different groups were previously split out into separate rows but have now been aggregated into the same rows)?\n",
    "\n",
    "Store the names of those variables **in a `list` in alphabetical order** in `results` as `\"ex5_collapsed_vars\"`."
   ]
  },
  {
   "cell_type": "code",
   "execution_count": 12,
   "metadata": {},
   "outputs": [
    {
     "data": {
      "text/plain": [
       "Index(['YEAR', 'GENDER', 'RACE', 'AGE_GROUP', 'COUNTY', 'VIOLENT', 'PROPERTY',\n",
       "       'F_DRUGOFF', 'F_SEXOFF', 'F_ALLOTHER', 'F_TOTAL', 'M_TOTAL', 'S_TOTAL'],\n",
       "      dtype='object')"
      ]
     },
     "execution_count": 12,
     "metadata": {},
     "output_type": "execute_result"
    }
   ],
   "source": [
    "data.columns"
   ]
  },
  {
   "cell_type": "code",
   "execution_count": 13,
   "metadata": {},
   "outputs": [],
   "source": [
    "ex5_collapsed_vars = [\"AGE_GROUP\", \"GENDER\"]"
   ]
  },
  {
   "cell_type": "markdown",
   "metadata": {},
   "source": [
    "## Racial Arrest Composition\n",
    "\n",
    "The next question we want to ask is: does the racial composition of arrests in each county vary by arrest type? In other words, do Blacks, Hispanics, Whites, and Other make up substantially different portions of the people arrested for drug offenses and violent offenses?\n",
    "\n",
    "To answer this question, we need to be able to say what proportion of all drug arrestees were Black/White/Hispanic/Other and what proportion of all violent arrestees were Black/White/Hispanic/Other *for each county and for each year*.\n",
    "\n",
    "In trying to do this, we'll need to break the problem down into pieces, starting from our goal (these quantities) and working backwards.\n",
    "\n",
    "### Exercise 6\n",
    "\n",
    "To calculate the share of all drug and violent arrestees who come from each racial group, what quantities do we need? \n",
    "\n",
    "Expressed differently, what two variables (one for drug arrests, one for violent arrests) do we need to add to our data to it allow us to calculate the share of arrestees in each county-year that come from a given racial group?\n",
    "\n",
    "Calculate these two variables (one variable for drug arrests, one for violent arrests). \n",
    "\n",
    "**Hint:** `transform` should probably make an appearance here."
   ]
  },
  {
   "cell_type": "markdown",
   "metadata": {},
   "source": [
    "**Hint:** This types of groupby manipulations are an easy place to do things wrong, so it's important to eye-ball your data to be sure you did things right! \n",
    "\n",
    "Take a look at the data for, say, Alameda County in 1980, and compare the values that you calculate above with what you get if you try to calculate those same numbers by hand using the raw data from Exercise 5?"
   ]
  },
  {
   "cell_type": "code",
   "execution_count": 14,
   "metadata": {},
   "outputs": [],
   "source": [
    "import numpy as np\n",
    "\n",
    "pct = lambda g: g / g.sum()\n",
    "data_gb[\"pct_drug\"] = (\n",
    "    data_gb[used_columns]\n",
    "    .groupby([\"COUNTY\", \"YEAR\"], as_index=False)[\"F_DRUGOFF\"]\n",
    "    .transform(pct)\n",
    ")\n",
    "data_gb[\"pct_violent\"] = (\n",
    "    data_gb[used_columns]\n",
    "    .groupby([\"COUNTY\", \"YEAR\"], as_index=False)[\"VIOLENT\"]\n",
    "    .transform(pct)\n",
    ")"
   ]
  },
  {
   "cell_type": "code",
   "execution_count": 15,
   "metadata": {},
   "outputs": [
    {
     "data": {
      "text/html": [
       "<div>\n",
       "<style scoped>\n",
       "    .dataframe tbody tr th:only-of-type {\n",
       "        vertical-align: middle;\n",
       "    }\n",
       "\n",
       "    .dataframe tbody tr th {\n",
       "        vertical-align: top;\n",
       "    }\n",
       "\n",
       "    .dataframe thead th {\n",
       "        text-align: right;\n",
       "    }\n",
       "</style>\n",
       "<table border=\"1\" class=\"dataframe\">\n",
       "  <thead>\n",
       "    <tr style=\"text-align: right;\">\n",
       "      <th></th>\n",
       "      <th>YEAR</th>\n",
       "      <th>COUNTY</th>\n",
       "      <th>RACE</th>\n",
       "      <th>F_DRUGOFF</th>\n",
       "      <th>pct_drug</th>\n",
       "      <th>VIOLENT</th>\n",
       "      <th>pct_violent</th>\n",
       "    </tr>\n",
       "  </thead>\n",
       "  <tbody>\n",
       "    <tr>\n",
       "      <th>0</th>\n",
       "      <td>1980</td>\n",
       "      <td>Alameda County</td>\n",
       "      <td>Black</td>\n",
       "      <td>1489</td>\n",
       "      <td>0.417204</td>\n",
       "      <td>2594</td>\n",
       "      <td>0.575933</td>\n",
       "    </tr>\n",
       "    <tr>\n",
       "      <th>1</th>\n",
       "      <td>1980</td>\n",
       "      <td>Alameda County</td>\n",
       "      <td>Hispanic</td>\n",
       "      <td>361</td>\n",
       "      <td>0.101149</td>\n",
       "      <td>592</td>\n",
       "      <td>0.131439</td>\n",
       "    </tr>\n",
       "    <tr>\n",
       "      <th>2</th>\n",
       "      <td>1980</td>\n",
       "      <td>Alameda County</td>\n",
       "      <td>Other</td>\n",
       "      <td>69</td>\n",
       "      <td>0.019333</td>\n",
       "      <td>139</td>\n",
       "      <td>0.030861</td>\n",
       "    </tr>\n",
       "    <tr>\n",
       "      <th>3</th>\n",
       "      <td>1980</td>\n",
       "      <td>Alameda County</td>\n",
       "      <td>White</td>\n",
       "      <td>1650</td>\n",
       "      <td>0.462314</td>\n",
       "      <td>1179</td>\n",
       "      <td>0.261767</td>\n",
       "    </tr>\n",
       "  </tbody>\n",
       "</table>\n",
       "</div>"
      ],
      "text/plain": [
       "   YEAR          COUNTY      RACE  F_DRUGOFF  pct_drug  VIOLENT  pct_violent\n",
       "0  1980  Alameda County     Black       1489  0.417204     2594     0.575933\n",
       "1  1980  Alameda County  Hispanic        361  0.101149      592     0.131439\n",
       "2  1980  Alameda County     Other         69  0.019333      139     0.030861\n",
       "3  1980  Alameda County     White       1650  0.462314     1179     0.261767"
      ]
     },
     "execution_count": 15,
     "metadata": {},
     "output_type": "execute_result"
    }
   ],
   "source": [
    "data_gb[\"YEAR COUNTY RACE F_DRUGOFF pct_drug VIOLENT pct_violent\".split()].head(4)"
   ]
  },
  {
   "cell_type": "markdown",
   "metadata": {},
   "source": [
    "### Exercise 7\n",
    "\n",
    "Now calculate the share of violent and drug arrestees in each county and year from each racial group.\n",
    "\n",
    "To ensure you're on the right track, store the share (between zero and one) of violent arrestees in Alameda County in 1980 who were Black as `ex7_alameda_1980_share_violent_arrestees_black`."
   ]
  },
  {
   "cell_type": "code",
   "execution_count": 16,
   "metadata": {},
   "outputs": [
    {
     "name": "stdout",
     "output_type": "stream",
     "text": [
      "The percentage of Violent crimes in 1980 by Black people in Alameda County is 57.59%\n"
     ]
    }
   ],
   "source": [
    "# ex7_alameda_1980_share_violent_arrestees_black=\n",
    "ex7_alameda_1980_share_violent_arrestees_black = data_gb[\"pct_violent\"].loc[\n",
    "    np.array(data_gb[\"RACE\"] == \"Black\")\n",
    "    & np.array(data_gb[\"YEAR\"] == 1980)\n",
    "    & np.array(data_gb[\"COUNTY\"] == \"Alameda County\")\n",
    "][0]\n",
    "\n",
    "print(\n",
    "    f\"The percentage of Violent crimes in 1980 by Black people in Alameda County is {ex7_alameda_1980_share_violent_arrestees_black:.2%}\"\n",
    ")"
   ]
  },
  {
   "cell_type": "markdown",
   "metadata": {},
   "source": [
    "### Exercise 8\n",
    "\n",
    "We're about to start studying this data by plotting the share of violent arrestees that are Black against the share of felony drug arrestees that are Black. But the moment where you finish your data manipulations and are about to start you data analysis is a *great* time to just make sure everything in your data looks good. Let's run a few checks:\n",
    "\n",
    "- Are your values of the share of felony arrestees who were arrested for violent crimes sensible?\n",
    "- You're about to analyze the data using only the rows for the Black racial group. How many unique counties are there with data for Black arrestees? How many for White arrestees? Do you remember how many counties there are in CA (google is your friend if not!)?\n",
    "\n",
    "Include assert statements to check all these features of your data.\n",
    "\n",
    "(Reminder: the autograder will only work if you are entire notebook runs without errors.)\n",
    "\n",
    "If you encounter any problems, make sure you understand why they are happening, and fix them (if a fix is appropriate!)."
   ]
  },
  {
   "cell_type": "code",
   "execution_count": 17,
   "metadata": {},
   "outputs": [
    {
     "name": "stdout",
     "output_type": "stream",
     "text": [
      "According to Google, there are counties in California, and in our data we have 58 counties for Black and for White people\n"
     ]
    }
   ],
   "source": [
    "# Asserting if the number of counties are the same for Black and White people\n",
    "assert len(data_gb[\"COUNTY\"].loc[data_gb[\"RACE\"] == \"Black\"].unique()) == len(\n",
    "    data_gb[\"COUNTY\"].loc[data_gb[\"RACE\"] == \"White\"].unique()\n",
    ")\n",
    "\n",
    "unique_counties = len(data_gb[\"COUNTY\"].loc[data_gb[\"RACE\"] == \"Black\"].unique())\n",
    "print(\n",
    "    f\"According to Google, there are counties in California, and in our data we have {unique_counties} counties for Black and for White people\"\n",
    ")"
   ]
  },
  {
   "cell_type": "markdown",
   "metadata": {},
   "source": [
    "### Exercise 9\n",
    "\n",
    "Now check to see if you have the same number of counties *in each year for each racial group*.\n",
    "\n",
    "Can you figure out why there aren't? (Hint: this isn't trivial to figure out! You'll probably have to do some detective work, and even then you'll have to make a bit of a \"best guess\" at what's going on!)"
   ]
  },
  {
   "cell_type": "code",
   "execution_count": 18,
   "metadata": {},
   "outputs": [],
   "source": [
    "lc_black = np.array(data_gb[\"RACE\"] == \"Black\")\n",
    "lc_white = np.array(data_gb[\"RACE\"] == \"White\")"
   ]
  },
  {
   "cell_type": "markdown",
   "metadata": {},
   "source": [
    "After running this code\n",
    "```python\n",
    "for year in data_gb['YEAR'].unique():\n",
    "    lc_year=np.array(data_gb['YEAR']==year)\n",
    "    assert len(data_gb['COUNTY'].loc[  lc_black & lc_year].unique())==len(data_gb['COUNTY'].loc[lc_white & lc_year].unique()), f\"Fail in year {year}\"\n",
    "    \n",
    "```\n",
    "The first year fail the assesment"
   ]
  },
  {
   "cell_type": "code",
   "execution_count": 19,
   "metadata": {},
   "outputs": [
    {
     "data": {
      "text/html": [
       "<div>\n",
       "<style scoped>\n",
       "    .dataframe tbody tr th:only-of-type {\n",
       "        vertical-align: middle;\n",
       "    }\n",
       "\n",
       "    .dataframe tbody tr th {\n",
       "        vertical-align: top;\n",
       "    }\n",
       "\n",
       "    .dataframe thead th {\n",
       "        text-align: right;\n",
       "    }\n",
       "</style>\n",
       "<table border=\"1\" class=\"dataframe\">\n",
       "  <thead>\n",
       "    <tr style=\"text-align: right;\">\n",
       "      <th></th>\n",
       "      <th>YEAR</th>\n",
       "      <th>RACE_black</th>\n",
       "      <th>COUNTY_black</th>\n",
       "      <th>RACE_white</th>\n",
       "      <th>COUNTY_white</th>\n",
       "    </tr>\n",
       "  </thead>\n",
       "  <tbody>\n",
       "    <tr>\n",
       "      <th>0</th>\n",
       "      <td>1980</td>\n",
       "      <td>Black</td>\n",
       "      <td>55</td>\n",
       "      <td>White</td>\n",
       "      <td>58</td>\n",
       "    </tr>\n",
       "    <tr>\n",
       "      <th>1</th>\n",
       "      <td>1981</td>\n",
       "      <td>Black</td>\n",
       "      <td>55</td>\n",
       "      <td>White</td>\n",
       "      <td>58</td>\n",
       "    </tr>\n",
       "    <tr>\n",
       "      <th>2</th>\n",
       "      <td>1982</td>\n",
       "      <td>Black</td>\n",
       "      <td>55</td>\n",
       "      <td>White</td>\n",
       "      <td>58</td>\n",
       "    </tr>\n",
       "    <tr>\n",
       "      <th>3</th>\n",
       "      <td>1983</td>\n",
       "      <td>Black</td>\n",
       "      <td>57</td>\n",
       "      <td>White</td>\n",
       "      <td>58</td>\n",
       "    </tr>\n",
       "    <tr>\n",
       "      <th>4</th>\n",
       "      <td>1984</td>\n",
       "      <td>Black</td>\n",
       "      <td>55</td>\n",
       "      <td>White</td>\n",
       "      <td>58</td>\n",
       "    </tr>\n",
       "    <tr>\n",
       "      <th>5</th>\n",
       "      <td>1985</td>\n",
       "      <td>Black</td>\n",
       "      <td>57</td>\n",
       "      <td>White</td>\n",
       "      <td>58</td>\n",
       "    </tr>\n",
       "    <tr>\n",
       "      <th>6</th>\n",
       "      <td>1986</td>\n",
       "      <td>Black</td>\n",
       "      <td>55</td>\n",
       "      <td>White</td>\n",
       "      <td>58</td>\n",
       "    </tr>\n",
       "    <tr>\n",
       "      <th>7</th>\n",
       "      <td>1987</td>\n",
       "      <td>Black</td>\n",
       "      <td>55</td>\n",
       "      <td>White</td>\n",
       "      <td>58</td>\n",
       "    </tr>\n",
       "    <tr>\n",
       "      <th>8</th>\n",
       "      <td>1988</td>\n",
       "      <td>Black</td>\n",
       "      <td>57</td>\n",
       "      <td>White</td>\n",
       "      <td>58</td>\n",
       "    </tr>\n",
       "    <tr>\n",
       "      <th>9</th>\n",
       "      <td>1989</td>\n",
       "      <td>Black</td>\n",
       "      <td>58</td>\n",
       "      <td>White</td>\n",
       "      <td>58</td>\n",
       "    </tr>\n",
       "  </tbody>\n",
       "</table>\n",
       "</div>"
      ],
      "text/plain": [
       "   YEAR RACE_black  COUNTY_black RACE_white  COUNTY_white\n",
       "0  1980      Black            55      White            58\n",
       "1  1981      Black            55      White            58\n",
       "2  1982      Black            55      White            58\n",
       "3  1983      Black            57      White            58\n",
       "4  1984      Black            55      White            58\n",
       "5  1985      Black            57      White            58\n",
       "6  1986      Black            55      White            58\n",
       "7  1987      Black            55      White            58\n",
       "8  1988      Black            57      White            58\n",
       "9  1989      Black            58      White            58"
      ]
     },
     "execution_count": 19,
     "metadata": {},
     "output_type": "execute_result"
    }
   ],
   "source": [
    "grouped_county = (\n",
    "    data_gb[[\"YEAR\", \"COUNTY\", \"RACE\"]]\n",
    "    .groupby([\"YEAR\", \"RACE\"], as_index=False)\n",
    "    .count()\n",
    "    .sort_values([\"RACE\", \"YEAR\"], ascending=True)\n",
    ")\n",
    "\n",
    "grouped_county[grouped_county[\"RACE\"] == \"Black\"].merge(\n",
    "    grouped_county[grouped_county[\"RACE\"] == \"White\"],\n",
    "    on=\"YEAR\",\n",
    "    how=\"inner\",\n",
    "    suffixes=(\"_black\", \"_white\"),\n",
    ").head(10)"
   ]
  },
  {
   "cell_type": "markdown",
   "metadata": {},
   "source": [
    "```In the table above we can see that the category \"Black\" is not in every County in every year.```"
   ]
  },
  {
   "cell_type": "code",
   "execution_count": 20,
   "metadata": {},
   "outputs": [
    {
     "name": "stdout",
     "output_type": "stream",
     "text": [
      "55 black counties in 1980\n",
      "58 white counties in 1980\n",
      "missing counties in 1980: {'Sierra County', 'Alpine County', 'Amador County'}\n"
     ]
    }
   ],
   "source": [
    "black_counties_80 = set(\n",
    "    data_gb[\"COUNTY\"].loc[lc_black & np.array(data_gb[\"YEAR\"] == 1980)]\n",
    ")\n",
    "white_counties_80 = set(\n",
    "    data_gb[\"COUNTY\"].loc[lc_white & np.array(data_gb[\"YEAR\"] == 1980)]\n",
    ")\n",
    "\n",
    "print(f\"{len(black_counties_80)} black counties in 1980\")\n",
    "print(f\"{len(white_counties_80)} white counties in 1980\")\n",
    "\n",
    "missing_counties_80 = white_counties_80.difference(black_counties_80)\n",
    "\n",
    "print(f\"missing counties in 1980: {missing_counties_80}\")"
   ]
  },
  {
   "cell_type": "markdown",
   "metadata": {},
   "source": [
    "```In the above cell we can identify an example of Counties for year 1980 where they have the White category but not the Black category. This is an example of a missing value.```"
   ]
  },
  {
   "cell_type": "code",
   "execution_count": 21,
   "metadata": {},
   "outputs": [
    {
     "name": "stdout",
     "output_type": "stream",
     "text": [
      "Races in Sierra County are: ['Hispanic' 'Other' 'White']\n",
      "Races in Alpine County are: ['Other' 'White']\n",
      "Races in Amador County are: ['Hispanic' 'Other' 'White']\n"
     ]
    }
   ],
   "source": [
    "for county in missing_counties_80:\n",
    "    to_print = (\n",
    "        data[\"RACE\"].loc[(data[\"YEAR\"] == 1980) & (data[\"COUNTY\"] == county)].unique()\n",
    "    )\n",
    "    print(f\"Races in {county} are: {to_print}\")"
   ]
  },
  {
   "cell_type": "markdown",
   "metadata": {},
   "source": [
    "``` In the cell above, I printed all the categories where Black was not found, it can be seen that even in other Counties, only two categories are shown.```"
   ]
  },
  {
   "cell_type": "code",
   "execution_count": 22,
   "metadata": {},
   "outputs": [
    {
     "data": {
      "text/html": [
       "<div>\n",
       "<style scoped>\n",
       "    .dataframe tbody tr th:only-of-type {\n",
       "        vertical-align: middle;\n",
       "    }\n",
       "\n",
       "    .dataframe tbody tr th {\n",
       "        vertical-align: top;\n",
       "    }\n",
       "\n",
       "    .dataframe thead th {\n",
       "        text-align: right;\n",
       "    }\n",
       "</style>\n",
       "<table border=\"1\" class=\"dataframe\">\n",
       "  <thead>\n",
       "    <tr style=\"text-align: right;\">\n",
       "      <th></th>\n",
       "      <th>COUNTY</th>\n",
       "      <th>YEAR</th>\n",
       "      <th>RACE</th>\n",
       "      <th>VIOLENT</th>\n",
       "      <th>PROPERTY</th>\n",
       "      <th>F_DRUGOFF</th>\n",
       "      <th>F_SEXOFF</th>\n",
       "      <th>F_ALLOTHER</th>\n",
       "      <th>F_TOTAL</th>\n",
       "      <th>M_TOTAL</th>\n",
       "      <th>S_TOTAL</th>\n",
       "      <th>pct_drug</th>\n",
       "      <th>pct_violent</th>\n",
       "    </tr>\n",
       "  </thead>\n",
       "  <tbody>\n",
       "    <tr>\n",
       "      <th>7535</th>\n",
       "      <td>Sierra County</td>\n",
       "      <td>1980</td>\n",
       "      <td>Hispanic</td>\n",
       "      <td>1</td>\n",
       "      <td>3</td>\n",
       "      <td>0</td>\n",
       "      <td>0</td>\n",
       "      <td>1</td>\n",
       "      <td>5</td>\n",
       "      <td>13</td>\n",
       "      <td>0</td>\n",
       "      <td>0.0</td>\n",
       "      <td>0.111111</td>\n",
       "    </tr>\n",
       "    <tr>\n",
       "      <th>7536</th>\n",
       "      <td>Sierra County</td>\n",
       "      <td>1980</td>\n",
       "      <td>Other</td>\n",
       "      <td>1</td>\n",
       "      <td>0</td>\n",
       "      <td>0</td>\n",
       "      <td>0</td>\n",
       "      <td>0</td>\n",
       "      <td>1</td>\n",
       "      <td>2</td>\n",
       "      <td>0</td>\n",
       "      <td>0.0</td>\n",
       "      <td>0.111111</td>\n",
       "    </tr>\n",
       "    <tr>\n",
       "      <th>7537</th>\n",
       "      <td>Sierra County</td>\n",
       "      <td>1980</td>\n",
       "      <td>White</td>\n",
       "      <td>7</td>\n",
       "      <td>28</td>\n",
       "      <td>5</td>\n",
       "      <td>1</td>\n",
       "      <td>5</td>\n",
       "      <td>46</td>\n",
       "      <td>160</td>\n",
       "      <td>1</td>\n",
       "      <td>1.0</td>\n",
       "      <td>0.777778</td>\n",
       "    </tr>\n",
       "  </tbody>\n",
       "</table>\n",
       "</div>"
      ],
      "text/plain": [
       "             COUNTY  YEAR      RACE  VIOLENT  PROPERTY  F_DRUGOFF  F_SEXOFF  \\\n",
       "7535  Sierra County  1980  Hispanic        1         3          0         0   \n",
       "7536  Sierra County  1980     Other        1         0          0         0   \n",
       "7537  Sierra County  1980     White        7        28          5         1   \n",
       "\n",
       "      F_ALLOTHER  F_TOTAL  M_TOTAL  S_TOTAL  pct_drug  pct_violent  \n",
       "7535           1        5       13        0       0.0     0.111111  \n",
       "7536           0        1        2        0       0.0     0.111111  \n",
       "7537           5       46      160        1       1.0     0.777778  "
      ]
     },
     "execution_count": 22,
     "metadata": {},
     "output_type": "execute_result"
    }
   ],
   "source": [
    "data_gb.loc[(data_gb[\"YEAR\"] == 1980) & (data_gb[\"COUNTY\"] == \"Sierra County\")]"
   ]
  },
  {
   "cell_type": "markdown",
   "metadata": {},
   "source": [
    "### Exercise 10\n",
    "\n",
    "Once you think you have a theory of the case, fix the problem. Again, this will NOT be trivial."
   ]
  },
  {
   "cell_type": "markdown",
   "metadata": {},
   "source": [
    "```\n",
    "In order to have category of race available, at least it needs to present one felony, misdemeanor or arrests for status offenses.\n",
    "This means that Blacks didn't got arrested in that year in any of those crimes mentioned above.\n",
    "Thus, we can insert zeros.\n",
    "```\n",
    "\n"
   ]
  },
  {
   "cell_type": "code",
   "execution_count": 23,
   "metadata": {},
   "outputs": [],
   "source": [
    "counties_years = (\n",
    "    data_gb[[\"COUNTY\", \"YEAR\"]]\n",
    "    .drop_duplicates()\n",
    "    .sort_values([\"COUNTY\", \"YEAR\"], ascending=True)\n",
    ")\n",
    "\n",
    "blacks = data_gb.loc[data_gb[\"RACE\"] == \"Black\"]\n",
    "\n",
    "data_new = counties_years.merge(\n",
    "    blacks, on=[\"COUNTY\", \"YEAR\"], how=\"outer\", indicator=True\n",
    ")"
   ]
  },
  {
   "cell_type": "code",
   "execution_count": 24,
   "metadata": {},
   "outputs": [],
   "source": [
    "data_new = data_new.dropna(subset=[\"RACE\"])\n",
    "data_new = data_new.fillna(0)\n",
    "data_new = data_new.loc[data_new[\"_merge\"] == \"left_only\"]\n",
    "data_new = pd.concat([data_gb, data_new])"
   ]
  },
  {
   "cell_type": "markdown",
   "metadata": {},
   "source": [
    "### Exercise 11\n",
    "\n",
    "Now that you have corrected your problem, averaging over the values for each county-year, calculate the average share of drug arrestees who are Black and the average share of drug arrestees who are White. Store the results as `\"ex11_white_drug_share\"` and `\"ex11_black_drug_share\"`."
   ]
  },
  {
   "cell_type": "code",
   "execution_count": 25,
   "metadata": {},
   "outputs": [
    {
     "data": {
      "text/plain": [
       "Index(['COUNTY', 'YEAR', 'RACE', 'VIOLENT', 'PROPERTY', 'F_DRUGOFF',\n",
       "       'F_SEXOFF', 'F_ALLOTHER', 'F_TOTAL', 'M_TOTAL', 'S_TOTAL', 'pct_drug',\n",
       "       'pct_violent', '_merge'],\n",
       "      dtype='object')"
      ]
     },
     "execution_count": 25,
     "metadata": {},
     "output_type": "execute_result"
    }
   ],
   "source": [
    "data_new.columns"
   ]
  },
  {
   "cell_type": "code",
   "execution_count": 26,
   "metadata": {},
   "outputs": [
    {
     "data": {
      "text/html": [
       "<div>\n",
       "<style scoped>\n",
       "    .dataframe tbody tr th:only-of-type {\n",
       "        vertical-align: middle;\n",
       "    }\n",
       "\n",
       "    .dataframe tbody tr th {\n",
       "        vertical-align: top;\n",
       "    }\n",
       "\n",
       "    .dataframe thead th {\n",
       "        text-align: right;\n",
       "    }\n",
       "</style>\n",
       "<table border=\"1\" class=\"dataframe\">\n",
       "  <thead>\n",
       "    <tr style=\"text-align: right;\">\n",
       "      <th></th>\n",
       "      <th>RACE</th>\n",
       "      <th>pct_drug</th>\n",
       "      <th>pct_violent</th>\n",
       "    </tr>\n",
       "  </thead>\n",
       "  <tbody>\n",
       "    <tr>\n",
       "      <th>0</th>\n",
       "      <td>Black</td>\n",
       "      <td>0.093247</td>\n",
       "      <td>0.118262</td>\n",
       "    </tr>\n",
       "    <tr>\n",
       "      <th>1</th>\n",
       "      <td>Hispanic</td>\n",
       "      <td>0.243401</td>\n",
       "      <td>0.270535</td>\n",
       "    </tr>\n",
       "    <tr>\n",
       "      <th>2</th>\n",
       "      <td>Other</td>\n",
       "      <td>0.044782</td>\n",
       "      <td>0.068108</td>\n",
       "    </tr>\n",
       "    <tr>\n",
       "      <th>3</th>\n",
       "      <td>White</td>\n",
       "      <td>0.620058</td>\n",
       "      <td>0.545469</td>\n",
       "    </tr>\n",
       "  </tbody>\n",
       "</table>\n",
       "</div>"
      ],
      "text/plain": [
       "       RACE  pct_drug  pct_violent\n",
       "0     Black  0.093247     0.118262\n",
       "1  Hispanic  0.243401     0.270535\n",
       "2     Other  0.044782     0.068108\n",
       "3     White  0.620058     0.545469"
      ]
     },
     "execution_count": 26,
     "metadata": {},
     "output_type": "execute_result"
    }
   ],
   "source": [
    "grouped_shares = (\n",
    "    data_new[[\"RACE\", \"pct_drug\", \"pct_violent\"]]\n",
    "    .groupby([\"RACE\"], as_index=False)\n",
    "    .mean()\n",
    ")\n",
    "grouped_shares"
   ]
  },
  {
   "cell_type": "code",
   "execution_count": 27,
   "metadata": {},
   "outputs": [
    {
     "data": {
      "text/plain": [
       "0    0.093247\n",
       "Name: pct_drug, dtype: float64"
      ]
     },
     "execution_count": 27,
     "metadata": {},
     "output_type": "execute_result"
    }
   ],
   "source": [
    "grouped_shares[\"pct_drug\"].loc[grouped_shares[\"RACE\"] == \"Black\"]"
   ]
  },
  {
   "cell_type": "code",
   "execution_count": 28,
   "metadata": {},
   "outputs": [
    {
     "name": "stdout",
     "output_type": "stream",
     "text": [
      "The white percentage of drug arrests was 0.62\n",
      "The white percentage of drug arrests was 0.09\n"
     ]
    }
   ],
   "source": [
    "import warnings\n",
    "\n",
    "warnings.filterwarnings(\"ignore\")\n",
    "\n",
    "ex11_white_drug_share = float(\n",
    "    grouped_shares[\"pct_drug\"].loc[grouped_shares[\"RACE\"] == \"White\"]\n",
    ")\n",
    "ex11_black_drug_share = float(\n",
    "    grouped_shares[\"pct_drug\"].loc[grouped_shares[\"RACE\"] == \"Black\"]\n",
    ")\n",
    "\n",
    "print(f\"The white percentage of drug arrests was {ex11_white_drug_share:.2f}\")\n",
    "print(f\"The black percentage of drug arrests was {ex11_black_drug_share:.2f}\")"
   ]
  },
  {
   "cell_type": "markdown",
   "metadata": {},
   "source": [
    "### Exercise 12\n",
    "\n",
    "Plot the share of violent arrestees that are Black against the share of felony drug arrestees that are Black. Do they look proportionate? Answer in text here.\n",
    "\n",
    "Do Black arrestees make up a greater share of violent arrestees, or a greater share of drug arrestees? Store you answer as `\"greater violent\"`, or `\"greater drug\"` in `\"ex12_proportionate\"`.\n",
    "\n",
    "**Hint:** You can add a 45 degree reference line by making a dummy dataset with one point at 0,0 and one point at a location near the top of your data (e.g. 0.7, 0.7). Without a reference line it's VERY hard to be sure if how your points relate to proportionality."
   ]
  },
  {
   "cell_type": "code",
   "execution_count": 29,
   "metadata": {},
   "outputs": [
    {
     "data": {
      "text/html": [
       "<div>\n",
       "<style scoped>\n",
       "    .dataframe tbody tr th:only-of-type {\n",
       "        vertical-align: middle;\n",
       "    }\n",
       "\n",
       "    .dataframe tbody tr th {\n",
       "        vertical-align: top;\n",
       "    }\n",
       "\n",
       "    .dataframe thead th {\n",
       "        text-align: right;\n",
       "    }\n",
       "</style>\n",
       "<table border=\"1\" class=\"dataframe\">\n",
       "  <thead>\n",
       "    <tr style=\"text-align: right;\">\n",
       "      <th></th>\n",
       "      <th>COUNTY</th>\n",
       "      <th>YEAR</th>\n",
       "      <th>RACE</th>\n",
       "      <th>VIOLENT</th>\n",
       "      <th>PROPERTY</th>\n",
       "      <th>F_DRUGOFF</th>\n",
       "      <th>F_SEXOFF</th>\n",
       "      <th>F_ALLOTHER</th>\n",
       "      <th>F_TOTAL</th>\n",
       "      <th>M_TOTAL</th>\n",
       "      <th>S_TOTAL</th>\n",
       "      <th>pct_drug</th>\n",
       "      <th>pct_violent</th>\n",
       "      <th>_merge</th>\n",
       "    </tr>\n",
       "  </thead>\n",
       "  <tbody>\n",
       "    <tr>\n",
       "      <th>0</th>\n",
       "      <td>Alameda County</td>\n",
       "      <td>1980</td>\n",
       "      <td>Black</td>\n",
       "      <td>2594.0</td>\n",
       "      <td>5138.0</td>\n",
       "      <td>1489.0</td>\n",
       "      <td>94.0</td>\n",
       "      <td>541.0</td>\n",
       "      <td>9856.0</td>\n",
       "      <td>24081.0</td>\n",
       "      <td>555.0</td>\n",
       "      <td>0.417204</td>\n",
       "      <td>0.575933</td>\n",
       "      <td>NaN</td>\n",
       "    </tr>\n",
       "    <tr>\n",
       "      <th>1</th>\n",
       "      <td>Alameda County</td>\n",
       "      <td>1980</td>\n",
       "      <td>Hispanic</td>\n",
       "      <td>592.0</td>\n",
       "      <td>903.0</td>\n",
       "      <td>361.0</td>\n",
       "      <td>34.0</td>\n",
       "      <td>279.0</td>\n",
       "      <td>2169.0</td>\n",
       "      <td>10120.0</td>\n",
       "      <td>333.0</td>\n",
       "      <td>0.101149</td>\n",
       "      <td>0.131439</td>\n",
       "      <td>NaN</td>\n",
       "    </tr>\n",
       "    <tr>\n",
       "      <th>2</th>\n",
       "      <td>Alameda County</td>\n",
       "      <td>1980</td>\n",
       "      <td>Other</td>\n",
       "      <td>139.0</td>\n",
       "      <td>233.0</td>\n",
       "      <td>69.0</td>\n",
       "      <td>10.0</td>\n",
       "      <td>64.0</td>\n",
       "      <td>515.0</td>\n",
       "      <td>2686.0</td>\n",
       "      <td>92.0</td>\n",
       "      <td>0.019333</td>\n",
       "      <td>0.030861</td>\n",
       "      <td>NaN</td>\n",
       "    </tr>\n",
       "  </tbody>\n",
       "</table>\n",
       "</div>"
      ],
      "text/plain": [
       "           COUNTY  YEAR      RACE  VIOLENT  PROPERTY  F_DRUGOFF  F_SEXOFF  \\\n",
       "0  Alameda County  1980     Black   2594.0    5138.0     1489.0      94.0   \n",
       "1  Alameda County  1980  Hispanic    592.0     903.0      361.0      34.0   \n",
       "2  Alameda County  1980     Other    139.0     233.0       69.0      10.0   \n",
       "\n",
       "   F_ALLOTHER  F_TOTAL  M_TOTAL  S_TOTAL  pct_drug  pct_violent _merge  \n",
       "0       541.0   9856.0  24081.0    555.0  0.417204     0.575933    NaN  \n",
       "1       279.0   2169.0  10120.0    333.0  0.101149     0.131439    NaN  \n",
       "2        64.0    515.0   2686.0     92.0  0.019333     0.030861    NaN  "
      ]
     },
     "execution_count": 29,
     "metadata": {},
     "output_type": "execute_result"
    }
   ],
   "source": [
    "data_new.head(3)"
   ]
  },
  {
   "cell_type": "code",
   "execution_count": 30,
   "metadata": {},
   "outputs": [
    {
     "data": {
      "image/png": "[encoded data removed]",
      "text/plain": [
       "<Figure size 640x480 with 1 Axes>"
      ]
     },
     "metadata": {},
     "output_type": "display_data"
    }
   ],
   "source": [
    "import matplotlib.pyplot as plt\n",
    "\n",
    "lc_black = np.array(data_new[\"RACE\"] == \"Black\")\n",
    "\n",
    "black_data = data_new.loc[lc_black]\n",
    "\n",
    "black_data = (\n",
    "    black_data[[\"YEAR\", \"pct_drug\", \"pct_violent\"]]\n",
    "    .groupby([\"YEAR\"], as_index=False)\n",
    "    .mean()\n",
    ")\n",
    "\n",
    "fig, ax = plt.subplots()\n",
    "ax.plot(\n",
    "    black_data[\"YEAR\"],\n",
    "    black_data[\"pct_violent\"],\n",
    "    color=\"#1873CC\",\n",
    "    label=\"Violent Percentage\",\n",
    ")\n",
    "ax.plot(\n",
    "    black_data[\"YEAR\"], black_data[\"pct_drug\"], color=\"#CC0000\", label=\"Drug Percentage\"\n",
    ")\n",
    "ax.legend(title=\"Percentage of Arrests by type\")\n",
    "plt.show()"
   ]
  },
  {
   "cell_type": "code",
   "execution_count": 31,
   "metadata": {},
   "outputs": [],
   "source": [
    "ex12_proportionate = \"greater violent\""
   ]
  },
  {
   "cell_type": "markdown",
   "metadata": {},
   "source": [
    "(A quick note of warning on interpretation: these results can tell you whether Black Californians make up a larger proportion of *arrests* for certain types of crimes, not whether they make up a larger proportion of people who *commit* a give type of crime! Those *might* be the same, but they might not... this data just can't answer that question.)"
   ]
  },
  {
   "cell_type": "code",
   "execution_count": 32,
   "metadata": {},
   "outputs": [],
   "source": [
    "results = {\n",
    "    \"ex4_num_rows\": ex4_num_rows,\n",
    "    \"ex5_collapsed_vars\": ex5_collapsed_vars,\n",
    "    \"ex7_alameda_1980_share_violent_arrestees_black\": ex7_alameda_1980_share_violent_arrestees_black,\n",
    "    \"ex11_white_drug_share\": ex11_white_drug_share,\n",
    "    \"ex11_black_drug_share\": ex11_black_drug_share,\n",
    "    \"ex12_proportionate\": ex12_proportionate,\n",
    "}"
   ]
  },
  {
   "cell_type": "code",
   "execution_count": 33,
   "metadata": {},
   "outputs": [
    {
     "data": {
      "text/plain": [
       "{'ex4_num_rows': 9702,\n",
       " 'ex5_collapsed_vars': ['AGE_GROUP', 'GENDER'],\n",
       " 'ex7_alameda_1980_share_violent_arrestees_black': 0.5759325044404974,\n",
       " 'ex11_white_drug_share': 0.620058054736359,\n",
       " 'ex11_black_drug_share': 0.09324695879811676,\n",
       " 'ex12_proportionate': 'greater violent'}"
      ]
     },
     "execution_count": 33,
     "metadata": {},
     "output_type": "execute_result"
    }
   ],
   "source": [
    "results"
   ]
  }
 ],
 "metadata": {
  "kernelspec": {
   "display_name": "Python 3.10.6 ('base')",
   "language": "python",
   "name": "python3"
  },
  "language_info": {
   "codemirror_mode": {
    "name": "ipython",
    "version": 3
   },
   "file_extension": ".py",
   "mimetype": "text/x-python",
   "name": "python",
   "nbconvert_exporter": "python",
   "pygments_lexer": "ipython3",
   "version": "3.11.4"
  },
  "vscode": {
   "interpreter": {
    "hash": "718fed28bf9f8c7851519acf2fb923cd655120b36de3b67253eeb0428bd33d2d"
   }
  }
 },
 "nbformat": 4,
 "nbformat_minor": 4
}
