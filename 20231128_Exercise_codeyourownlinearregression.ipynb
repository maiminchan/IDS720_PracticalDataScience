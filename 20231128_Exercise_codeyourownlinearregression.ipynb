{
 "cells": [
  {
   "cell_type": "markdown",
   "metadata": {},
   "source": [
    "# Coding Your Own Linear Regression Model\n",
    "\n",
    "One task that you will almost certainly be required to do other data science courses (especially if you are a MIDS student) is to write up some of your statistical / machine learning models from scratch. This can be a very valuable exercise, as it ensures that you understand what is actually going on behind the scenes of the models you use ever day, and that you don't just think of them as \"black boxes\". \n",
    "\n",
    "To get a little practice doing this, today you will be coding up your own linear regression model! \n",
    "\n",
    "(If you are using this site but aren't actually in this class, you are welcome to skip this exercise if you'd like -- this is more about practicing Python in anticipation of the requirements of other courses than developing your applied data science skills.) \n",
    "\n",
    "There are, broadly speaking, two approaches you can take to coding up your own model: \n",
    "\n",
    "1. you can write the model by defining a new function, or \n",
    "2. you can write the model by defining a new class with associated methods (making a model that works the way a model works in `scikit-learn`). \n",
    "\n",
    "Whether you do 1 or 2 is very much a matter of choice and style. Approach one, for example, is more consistent with what is called a *functional* style of programming, while approach two is more consistent with an *object-oriented* style of programming. Python can readily support both approaches, so either would work fine. \n",
    "\n",
    "In these exercises, however, I will ask you to use approach number 2 as this *tends* to be the more difficult approach, and so practicing approach 2 will be extra useful in preparing you for other classes (HA! Pun...). In particular, our goal is to implement a linear regression model that has the same \"initialize-fit-predict-score\" API (application programming interface -- a fancy name for the methods a class supports) as `scikit-learn` models. That means your model should be able to do all of the following:\n",
    "\n",
    "1. **Initialize** a new model. \n",
    "2. **Fit** a linear model when given a numpy vector (`y`) and a numpy matrix (`X`) with the syntax `my_model.fit(X, y)`. \n",
    "3. **Predict** values when given a new `numpy` matrix (`X_test`) with the syntax `my_model.predict(X_test)`. \n",
    "4. Return the **model coefficients** through the property `my_model.coefficients` (not quite what is used in `sklearn`, but let's use that interface). \n",
    "\n",
    "Also, bear in mind that throughout these exercises, we'll be working in `numpy` instead of `pandas`, just as we do in `scikit-learn`. So assume that before using your model, your user has already converted their data from `pandas` into `numpy` arrays. "
   ]
  },
  {
   "cell_type": "markdown",
   "metadata": {},
   "source": [
    "**(1)** Define a new Class called `MyLinearModel` with methods for `__init__`, `fit`, `predict`, and an attribute for `coefficients`. For now, we don't need any initialization *arguments*, just an `__init__` function. \n",
    "\n",
    "As you get your code outline going, start by just having each method `pass`:\n",
    "\n",
    "```python\n",
    "def my_method(self):\n",
    "    pass\n",
    "```\n",
    "\n",
    "This will allow your methods to run without errors (they just don't do anything). Then we can double back to each method to get them working one by one."
   ]
  },
  {
   "cell_type": "code",
   "execution_count": null,
   "metadata": {},
   "outputs": [],
   "source": [
    "import numpy as np\n",
    "\n",
    "class MyLinearModel:\n",
    "    def __init__(self):\n",
    "        self.coefficients = None\n",
    "\n",
    "    def fit(self, X, y):\n",
    "        pass\n",
    "\n",
    "    def predict(self, X):\n",
    "        pass"
   ]
  },
  {
   "cell_type": "markdown",
   "metadata": {},
   "source": [
    "**(2)** Now define your `fit` method. This is the method that should actually run your linear regression. In case you've forgotten your linear algebra, remember that for linear regressions, $\\beta = (X'X)^{-1}X'Y$, a fact you can see explained in detail on page four [here](https://www.stat.purdue.edu/~boli/stat512/lectures/topic3.pdf).\n",
    "\n",
    "Note that once you have written the code to do a linear regression, you'll need to put your outputs (your coefficents) somewhere. I recommend making an attribute for your class where you can store your coefficients. \n",
    "\n",
    "(As a reminder: the normal multiply operator (`*`) in `numpy` implies scalar multiplication. Use `@` for matrix multiplication). \n",
    "\n",
    "**HINT:** Remember that linear regressions require a vector of 1s in the `X` matrix. As the package writer, you get to decide whether users are expected to provide a matrix `X` that already has a vector of 1s, or whether you expect the user to provide a matrix `X` that doesn't have a vector of 1s (in which case you will need to add a vector of 1s before you fit the model)."
   ]
  },
  {
   "cell_type": "code",
   "execution_count": 1,
   "metadata": {},
   "outputs": [],
   "source": [
    "class MyLinearModel:\n",
    "    def __init__(self):\n",
    "        self.coefficients = None\n",
    "\n",
    "    def fit(self, X, y):\n",
    "        # Add a column of ones to X for the intercept term\n",
    "        X_ = np.c_[np.ones(X.shape[0]), X]\n",
    "\n",
    "        # Calculate the coefficients using the normal equation\n",
    "        self.coefficients = np.linalg.inv(X_.T @ X_) @ X_.T @ y"
   ]
  },
  {
   "cell_type": "markdown",
   "metadata": {},
   "source": [
    "**(3)** As you write code, it is good to test your code as you work. With that in mind, let's create some toy data. First, create a 100 x 2 matrix where each column is normally distributed. Then create a vector `y` that is a linear combination of those two columns **plus** a vector of normally distributed noise **and** a constant term. \n",
    "\n",
    "In other words, we want to create data where we *know* exactly what coefficients we should see so when we test our regression, we know if the results are accurate!"
   ]
  },
  {
   "cell_type": "code",
   "execution_count": 2,
   "metadata": {},
   "outputs": [],
   "source": [
    "# Set seed for reproducibility\n",
    "np.random.seed(42)\n",
    "\n",
    "# Create a 100 x 2 matrix where each column is normally distributed\n",
    "X = np.random.randn(100, 2)\n",
    "\n",
    "# Create coefficients for the linear combination\n",
    "true_coefficients = np.array([2, 3])\n",
    "\n",
    "# Create a vector y that is a linear combination of X plus noise and a constant term\n",
    "noise = np.random.randn(100)\n",
    "y = X @ true_coefficients + 1 + noise"
   ]
  },
  {
   "cell_type": "markdown",
   "metadata": {},
   "source": [
    "**(4)** Now test whether you `fit` method generates the correct coefficients. Remember the choice you made in Question 2 about whether your package expects the users' `X` matrix to include a vector of 1s when you test!"
   ]
  },
  {
   "cell_type": "code",
   "execution_count": 3,
   "metadata": {},
   "outputs": [
    {
     "name": "stdout",
     "output_type": "stream",
     "text": [
      "Model Coefficients: [1.09279338 2.19072034 2.8278579 ]\n"
     ]
    }
   ],
   "source": [
    "# Create an instance of MyLinearModel\n",
    "my_model = MyLinearModel()\n",
    "\n",
    "# Fit the model using the toy data\n",
    "my_model.fit(X, y)\n",
    "\n",
    "# Display the coefficients obtained by the model\n",
    "print(\"Model Coefficients:\", my_model.coefficients)"
   ]
  },
  {
   "cell_type": "markdown",
   "metadata": {},
   "source": [
    "**(5)** Now let's make the statisticians proud, and in addition to storing the coefficients, let's store the standard errors for our estimated coefficients as another attribute. Recall that the simplest method of calculating the variance covariance matrix for $\\beta$ is using the formula $\\sigma^2 (X'X)^{-1}$, where $\\sigma^2$ is the variance of the error terms of your regression. The standard errors for your coefficient estimates will be the diagonal values of that matrix. See page six [here](https://www.stat.purdue.edu/~boli/stat512/lectures/topic3.pdf) for a full derivation. "
   ]
  },
  {
   "cell_type": "code",
   "execution_count": 4,
   "metadata": {},
   "outputs": [],
   "source": [
    "class MyLinearModel:\n",
    "    def __init__(self):\n",
    "        self.coefficients = None\n",
    "        self.standard_errors = None\n",
    "\n",
    "    def fit(self, X, y):\n",
    "        # Add a column of ones to X for the intercept term\n",
    "        X_ = np.c_[np.ones(X.shape[0]), X]\n",
    "\n",
    "        # Calculate the coefficients using the normal equation\n",
    "        self.coefficients = np.linalg.inv(X_.T @ X_) @ X_.T @ y\n",
    "\n",
    "        # Calculate the variance of the error terms\n",
    "        residuals = y - X_ @ self.coefficients\n",
    "        residual_variance = np.var(residuals)\n",
    "\n",
    "        # Calculate the standard errors for the coefficients\n",
    "        var_cov_matrix = residual_variance * np.linalg.inv(X_.T @ X_)\n",
    "        self.standard_errors = np.sqrt(np.diagonal(var_cov_matrix))"
   ]
  },
  {
   "cell_type": "markdown",
   "metadata": {},
   "source": [
    "**(6)** Now let's also add an R-squared attribute to the model."
   ]
  },
  {
   "cell_type": "code",
   "execution_count": 5,
   "metadata": {},
   "outputs": [],
   "source": [
    "class MyLinearModel:\n",
    "    def __init__(self):\n",
    "        self.coefficients = None\n",
    "        self.standard_errors = None\n",
    "        self.r_squared = None\n",
    "\n",
    "    def fit(self, X, y):\n",
    "        # Add a column of ones to X for the intercept term\n",
    "        X_ = np.c_[np.ones(X.shape[0]), X]\n",
    "\n",
    "        # Calculate the coefficients using the normal equation\n",
    "        self.coefficients = np.linalg.inv(X_.T @ X_) @ X_.T @ y\n",
    "\n",
    "        # Calculate the variance of the error terms\n",
    "        residuals = y - X_ @ self.coefficients\n",
    "        residual_variance = np.var(residuals)\n",
    "\n",
    "        # Calculate the standard errors for the coefficients\n",
    "        var_cov_matrix = residual_variance * np.linalg.inv(X_.T @ X_)\n",
    "        self.standard_errors = np.sqrt(np.diagonal(var_cov_matrix))\n",
    "\n",
    "        # Calculate R-squared\n",
    "        y_mean = np.mean(y)\n",
    "        ssr = np.sum(residuals**2)\n",
    "        sst = np.sum((y - y_mean) ** 2)\n",
    "        self.r_squared = 1 - (ssr / sst)"
   ]
  },
  {
   "cell_type": "markdown",
   "metadata": {},
   "source": [
    "**(7)** Now we'll go ahead and cheat a little. Use `statsmodels` to fit your model with your toy data to ensure your standard errors and r-squared are correct!"
   ]
  },
  {
   "cell_type": "code",
   "execution_count": 6,
   "metadata": {},
   "outputs": [
    {
     "name": "stdout",
     "output_type": "stream",
     "text": [
      "Requirement already satisfied: statsmodels in c:\\users\\lenovo\\miniconda3\\lib\\site-packages (0.14.0)\n",
      "Requirement already satisfied: numpy>=1.18 in c:\\users\\lenovo\\miniconda3\\lib\\site-packages (from statsmodels) (1.24.4)\n",
      "Requirement already satisfied: scipy!=1.9.2,>=1.4 in c:\\users\\lenovo\\miniconda3\\lib\\site-packages (from statsmodels) (1.11.3)\n",
      "Requirement already satisfied: pandas>=1.0 in c:\\users\\lenovo\\miniconda3\\lib\\site-packages (from statsmodels) (2.0.3)\n",
      "Requirement already satisfied: patsy>=0.5.2 in c:\\users\\lenovo\\miniconda3\\lib\\site-packages (from statsmodels) (0.5.3)\n",
      "Requirement already satisfied: packaging>=21.3 in c:\\users\\lenovo\\appdata\\roaming\\python\\python311\\site-packages (from statsmodels) (23.1)\n",
      "Requirement already satisfied: python-dateutil>=2.8.2 in c:\\users\\lenovo\\appdata\\roaming\\python\\python311\\site-packages (from pandas>=1.0->statsmodels) (2.8.2)\n",
      "Requirement already satisfied: pytz>=2020.1 in c:\\users\\lenovo\\miniconda3\\lib\\site-packages (from pandas>=1.0->statsmodels) (2022.7)\n",
      "Requirement already satisfied: tzdata>=2022.1 in c:\\users\\lenovo\\miniconda3\\lib\\site-packages (from pandas>=1.0->statsmodels) (2023.3)\n",
      "Requirement already satisfied: six in c:\\users\\lenovo\\appdata\\roaming\\python\\python311\\site-packages (from patsy>=0.5.2->statsmodels) (1.16.0)\n",
      "Note: you may need to restart the kernel to use updated packages.\n"
     ]
    }
   ],
   "source": [
    "pip install statsmodels"
   ]
  },
  {
   "cell_type": "code",
   "execution_count": 8,
   "metadata": {},
   "outputs": [
    {
     "name": "stdout",
     "output_type": "stream",
     "text": [
      "MyLinearModel Coefficients: [1.09279338 2.19072034 2.8278579 ]\n",
      "MyLinearModel Standard Errors: [0.1064008  0.12372145 0.10606538]\n",
      "MyLinearModel R-squared: 0.9134939109532426\n",
      "\n",
      "Statsmodels Coefficients: [1.09279338 2.19072034 2.8278579 ]\n",
      "Statsmodels Standard Errors: [0.10803365 0.1256201  0.10769308]\n",
      "Statsmodels R-squared: 0.9134939109532426\n"
     ]
    }
   ],
   "source": [
    "import statsmodels.api as sm\n",
    "\n",
    "\n",
    "class MyLinearModel:\n",
    "    def __init__(self):\n",
    "        self.coefficients = None\n",
    "        self.standard_errors = None\n",
    "        self.r_squared = None\n",
    "\n",
    "    def fit(self, X, y):\n",
    "        # Add a column of ones to X for the intercept term\n",
    "        X_ = np.c_[np.ones(X.shape[0]), X]\n",
    "\n",
    "        # Calculate the coefficients using the normal equation\n",
    "        self.coefficients = np.linalg.inv(X_.T @ X_) @ X_.T @ y\n",
    "\n",
    "        # Calculate the variance of the error terms\n",
    "        residuals = y - X_ @ self.coefficients\n",
    "        residual_variance = np.var(residuals)\n",
    "\n",
    "        # Calculate the standard errors for the coefficients\n",
    "        var_cov_matrix = residual_variance * np.linalg.inv(X_.T @ X_)\n",
    "        self.standard_errors = np.sqrt(np.diagonal(var_cov_matrix))\n",
    "\n",
    "        # Calculate R-squared\n",
    "        y_mean = np.mean(y)\n",
    "        ssr = np.sum(residuals**2)\n",
    "        sst = np.sum((y - y_mean) ** 2)\n",
    "        self.r_squared = 1 - (ssr / sst)\n",
    "\n",
    "        return self  # Return the instance for chaining methods\n",
    "\n",
    "\n",
    "# Using statsmodels to fit the model\n",
    "X_ = sm.add_constant(X)  # Add a constant term to X for the intercept\n",
    "model_statsmodels = sm.OLS(y, X_).fit()\n",
    "\n",
    "# Display results\n",
    "print(\"MyLinearModel Coefficients:\", MyLinearModel().fit(X, y).coefficients)\n",
    "print(\"MyLinearModel Standard Errors:\", MyLinearModel().fit(X, y).standard_errors)\n",
    "print(\"MyLinearModel R-squared:\", MyLinearModel().fit(X, y).r_squared)\n",
    "\n",
    "print(\"\\nStatsmodels Coefficients:\", model_statsmodels.params)\n",
    "print(\"Statsmodels Standard Errors:\", model_statsmodels.bse)\n",
    "print(\"Statsmodels R-squared:\", model_statsmodels.rsquared)"
   ]
  },
  {
   "cell_type": "markdown",
   "metadata": {},
   "source": [
    "**(8)** Now implement `predict`! Then test it against your original `X` data -- do you get back something very close to your true `y`?"
   ]
  },
  {
   "cell_type": "code",
   "execution_count": 9,
   "metadata": {},
   "outputs": [
    {
     "name": "stdout",
     "output_type": "stream",
     "text": [
      "Original y: [ 1.93642276  7.42525117  0.91233362  7.51453187  0.31106199 -2.26184969\n",
      " -3.74088092 -3.6229123   0.43212744 -1.20022776  3.82485915 -2.00362251\n",
      "  1.19800408  0.47649815 -1.39162787  6.11239055 -2.97295245 -1.25425973\n",
      " -4.94664673 -0.98391425  5.30569657 -2.00187284 -3.43031642  1.63737327\n",
      " -4.07381575  1.58187169  1.54546489  4.77809462 -2.32137588  5.26875999\n",
      " -1.24569204 -4.58483123  6.73934357  3.2149781   1.93185688  6.97081993\n",
      "  3.5971363  -1.58732838 -0.38471438 -3.92675186  0.8394732   2.28624099\n",
      " -1.61727106  4.68281276  0.27998548  3.76558883 -1.86203794 -4.82809038\n",
      "  4.14086061  0.71144722 -4.35356141 -1.17439889  4.01173734  6.3285705\n",
      " -0.22760693 -3.40131813  9.77709791  0.81225063 -2.13163822  6.31607878\n",
      " -1.07302894 -0.45948992  5.50381372 -3.70435348 -0.56369238 -3.14342112\n",
      "  1.92858117  2.38081337 -1.97273562 -0.93481794  6.81762142 -3.09692704\n",
      "  5.02839796 -5.4250382   1.9533285   3.0024338   0.53577134 -1.15712618\n",
      "  6.22284987  0.20174023  1.52540782  1.51727488  5.75111186  7.09668377\n",
      "  0.38104865 -5.17854751  1.71746741  4.62324855  5.66759788  8.00849431\n",
      " -0.52826022 -0.18736869  2.10571115  2.57759061 -4.88111362  1.98325688\n",
      " -1.40942897  2.80961351  0.50632256 -1.68286461]\n",
      "Predicted y: [ 1.78996338  6.81860984 -0.08227722  6.72260337  1.598589   -1.23944274\n",
      " -3.7876196  -4.27608842 -0.23738955 -4.8902276   3.66515665 -2.78825662\n",
      "  0.2138764  -0.36629105 -1.04790649  5.01260196 -1.92783147 -0.55761311\n",
      " -3.99131353 -1.26019521  3.19517228 -0.01203813 -4.18185194  3.07305409\n",
      " -3.14006207  0.71381276  1.33958021  5.98495284 -1.62010617  4.57720191\n",
      " -0.48196057 -4.71357949  6.7080643   3.77288777  0.06072978  6.23385893\n",
      "  5.43889847 -2.32211201  0.43793887 -4.32674687  1.62141731  2.86485139\n",
      " -2.09728762  4.02784484  1.38368429  4.04465353 -1.3717906  -3.90481823\n",
      "  2.47973731  0.44061646 -3.19741329 -1.92672439  1.8820599   5.71858044\n",
      "  1.44649179 -3.18567521  8.19043959  1.52411734 -2.28810582  5.72275833\n",
      "  0.25410466  0.20168781  8.57273039 -2.6786042  -0.11265595 -2.11039018\n",
      "  0.10483513  3.46158626 -1.53383974 -0.60572728  5.28750845 -1.90663452\n",
      "  3.87300789 -5.35108336  3.07605184  2.62125947  0.25982985 -0.28525109\n",
      "  6.52011571  0.33962089  1.18330184  1.3101793   4.37056686  8.25755831\n",
      " -1.57624212 -3.16287953  1.8886144   4.03810223  5.23166471  8.20525613\n",
      "  0.0395358   0.11113084  2.62234085  1.92357485 -5.04606753  2.53637809\n",
      " -1.96095934  2.56180715 -0.40877832 -2.01184518]\n"
     ]
    }
   ],
   "source": [
    "class MyLinearModel:\n",
    "    def __init__(self):\n",
    "        self.coefficients = None\n",
    "        self.standard_errors = None\n",
    "        self.r_squared = None\n",
    "\n",
    "    def fit(self, X, y):\n",
    "        # Add a column of ones to X for the intercept term\n",
    "        X_ = np.c_[np.ones(X.shape[0]), X]\n",
    "\n",
    "        # Calculate the coefficients using the normal equation\n",
    "        self.coefficients = np.linalg.inv(X_.T @ X_) @ X_.T @ y\n",
    "\n",
    "        # Calculate the variance of the error terms\n",
    "        residuals = y - X_ @ self.coefficients\n",
    "        residual_variance = np.var(residuals)\n",
    "\n",
    "        # Calculate the standard errors for the coefficients\n",
    "        var_cov_matrix = residual_variance * np.linalg.inv(X_.T @ X_)\n",
    "        self.standard_errors = np.sqrt(np.diagonal(var_cov_matrix))\n",
    "\n",
    "        # Calculate R-squared\n",
    "        y_mean = np.mean(y)\n",
    "        ssr = np.sum(residuals**2)\n",
    "        sst = np.sum((y - y_mean) ** 2)\n",
    "        self.r_squared = 1 - (ssr / sst)\n",
    "\n",
    "        return self  # Return the instance for chaining methods\n",
    "\n",
    "    def predict(self, X):\n",
    "        # Add a column of ones to X for the intercept term\n",
    "        X_ = np.c_[np.ones(X.shape[0]), X]\n",
    "\n",
    "        # Predict using the learned coefficients\n",
    "        y_pred = X_ @ self.coefficients\n",
    "        return y_pred\n",
    "\n",
    "\n",
    "# Using our MyLinearModel to fit the model\n",
    "model = MyLinearModel().fit(X, y)\n",
    "\n",
    "# Predict using the original X data\n",
    "y_pred = model.predict(X)\n",
    "\n",
    "# Display the original y and the predicted y\n",
    "print(\"Original y:\", y)\n",
    "print(\"Predicted y:\", y_pred)"
   ]
  },
  {
   "cell_type": "markdown",
   "metadata": {},
   "source": [
    "**(9)** Finally, create the *option* of fitting the model with or without a constant term. In other words, create an option so that, if the user passes a numpy array *without* a constant term, your code will add a vector of 1s before fitting the model. As in `scikit-learn`, make this an option you set during initialization. "
   ]
  },
  {
   "cell_type": "code",
   "execution_count": 11,
   "metadata": {},
   "outputs": [],
   "source": [
    "class MyLinearModel:\n",
    "    def __init__(self, fit_intercept=True):\n",
    "        self.coefficients = None\n",
    "        self.standard_errors = None\n",
    "        self.r_squared = None\n",
    "        self.fit_intercept = fit_intercept\n",
    "\n",
    "    def fit(self, X, y):\n",
    "        if self.fit_intercept:\n",
    "            # Add a column of ones to X for the intercept term\n",
    "            X_ = np.c_[np.ones(X.shape[0]), X]\n",
    "        else:\n",
    "            X_ = X\n",
    "\n",
    "        # Calculate the coefficients using the normal equation\n",
    "        self.coefficients = np.linalg.inv(X_.T @ X_) @ X_.T @ y\n",
    "\n",
    "        # Calculate the variance of the error terms\n",
    "        residuals = y - X_ @ self.coefficients\n",
    "        residual_variance = np.var(residuals)\n",
    "\n",
    "        # Calculate the standard errors for the coefficients\n",
    "        var_cov_matrix = residual_variance * np.linalg.inv(X_.T @ X_)\n",
    "        self.standard_errors = np.sqrt(np.diagonal(var_cov_matrix))\n",
    "\n",
    "        # Calculate R-squared\n",
    "        y_mean = np.mean(y)\n",
    "        ssr = np.sum(residuals**2)\n",
    "        sst = np.sum((y - y_mean) ** 2)\n",
    "        self.r_squared = 1 - (ssr / sst)\n",
    "\n",
    "        return self  # Return the instance for chaining methods\n",
    "\n",
    "    def predict(self, X):\n",
    "        if self.fit_intercept:\n",
    "            # Add a column of ones to X for the intercept term\n",
    "            X_ = np.c_[np.ones(X.shape[0]), X]\n",
    "        else:\n",
    "            X_ = X\n",
    "\n",
    "        # Predict using the learned coefficients\n",
    "        y_pred = X_ @ self.coefficients\n",
    "        return y_pred"
   ]
  }
 ],
 "metadata": {
  "kernelspec": {
   "display_name": "Python 3",
   "language": "python",
   "name": "python3"
  },
  "language_info": {
   "codemirror_mode": {
    "name": "ipython",
    "version": 3
   },
   "file_extension": ".py",
   "mimetype": "text/x-python",
   "name": "python",
   "nbconvert_exporter": "python",
   "pygments_lexer": "ipython3",
   "version": "3.11.4"
  }
 },
 "nbformat": 4,
 "nbformat_minor": 4
}
