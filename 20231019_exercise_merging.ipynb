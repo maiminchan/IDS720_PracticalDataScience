{
 "cells": [
  {
   "cell_type": "markdown",
   "metadata": {},
   "source": [
    "***\n",
    "### Name: Ofosu Osei\n",
    "### NetID: oo46\n",
    "\n",
    "### Partner:\n",
    "\n",
    "### Name: Mai Nguyen\n",
    "### NetID: mvn8\n",
    "***\n",
    "\n",
    "# Merging Data to Understand the Relationship between Drug Legalization and Violent Crime\n",
    "\n"
   ]
  },
  {
   "cell_type": "markdown",
   "metadata": {},
   "source": [
    "In recent years, many US states have decided to legalize the use of marijuana. \n",
    "\n",
    "When these ideas were first proposed, there were many theories about the relationship between crime and the \"War on Drugs\" (the term given to US efforts to arrest drug users and dealers over the past several decades). \n",
    "\n",
    "In this exercise, we're going to test a few of those theories using drug arrest data from the state of California. \n",
    "\n",
    "Though California has passed a number of laws lessening penalities for marijuana possession over the years, arguably the biggest changes were in  2010, when the state changed the penalty for possessing a small amount of marijuana from a criminal crime to a \"civil\" penality (meaning those found guilty only had to pay a fine, not go to jail), though possessing, selling, or producing larger quantities remained illegal. Then in 2016, the state fully legalized marijuana for recreational use, not only making possession of small amounts legal, but also creating a regulatory system for producing marijuana for sale. \n",
    "\n",
    "Proponents of drug legalization have long argued that the war on drugs contributes to violent crime by creating an opportunity for drug dealers and organized crime to sell and distribute drugs, a business which tends to generate violence when gangs battle over territory. According to this theory, with drug legalization, we should see violent crime decrease after legalization in places where drug arrests had previously been common. \n",
    "\n",
    "**To be clear,** this is far from the only argument for drug legalization! It is simply the argument we are well positioned to analyze today. "
   ]
  },
  {
   "cell_type": "markdown",
   "metadata": {},
   "source": [
    "\n",
    "## Gradescope Autograding\n",
    "\n",
    "Please follow [all standard guidance](https://www.practicaldatascience.org/html/autograder_guidelines.html) for submitting this assignment to the Gradescope autograder, including storing your solutions in a dictionary called `results` and ensuring your notebook runs from the start to completion without any errors.\n",
    "\n",
    "For this assignment, please name your file `exercise_merging.ipynb` before uploading.\n",
    "\n",
    "You can check that you have answers for all questions in your `results` dictionary with this code:\n",
    "\n",
    "```python\n",
    "assert set(results.keys()) == {\n",
    "    \"ex6_validate_keyword\",\n",
    "    \"ex10_merged_successfully\",\n",
    "    \"ex16_num_obs\",\n",
    "    \"ex17_drug_change\",\n",
    "    \"ex18_violent_change\",\n",
    "    \"ex21_diffindiff\",\n",
    "    \"ex23_diffindiff_proportionate\",\n",
    "}\n",
    "```\n",
    "\n",
    "\n",
    "### Submission Limits\n",
    "\n",
    "Please remember that you are **only allowed three submissions to the autograder.** Your last submission (if you submit 3 or fewer times), or your third submission (if you submit more than 3 times) will determine your grade Submissions that error out will **not** count against this total."
   ]
  },
  {
   "cell_type": "markdown",
   "metadata": {},
   "source": [
    "## Pre-Legalization Analysis\n",
    "\n",
    "### Exercise 1\n",
    "We will begin by examining [county-level data on arrests from California in 2009](https://github.com/nickeubank/practicaldatascience/tree/master/Example_Data/ca). This data is derived directly from data hosted by the [Office of the California State Attorney General](https://openjustice.doj.ca.gov/data), but please follow the github link above and download and import the file `ca_arrests_2009.csv` (don't try and get it directly from the State Attorney General's office). "
   ]
  },
  {
   "cell_type": "code",
   "execution_count": 2,
   "metadata": {},
   "outputs": [
    {
     "data": {
      "text/html": [
       "<div>\n",
       "<style scoped>\n",
       "    .dataframe tbody tr th:only-of-type {\n",
       "        vertical-align: middle;\n",
       "    }\n",
       "\n",
       "    .dataframe tbody tr th {\n",
       "        vertical-align: top;\n",
       "    }\n",
       "\n",
       "    .dataframe thead th {\n",
       "        text-align: right;\n",
       "    }\n",
       "</style>\n",
       "<table border=\"1\" class=\"dataframe\">\n",
       "  <thead>\n",
       "    <tr style=\"text-align: right;\">\n",
       "      <th></th>\n",
       "      <th>Unnamed: 0</th>\n",
       "      <th>COUNTY</th>\n",
       "      <th>VIOLENT</th>\n",
       "      <th>PROPERTY</th>\n",
       "      <th>F_DRUGOFF</th>\n",
       "      <th>F_SEXOFF</th>\n",
       "      <th>F_ALLOTHER</th>\n",
       "      <th>F_TOTAL</th>\n",
       "      <th>M_TOTAL</th>\n",
       "      <th>S_TOTAL</th>\n",
       "    </tr>\n",
       "  </thead>\n",
       "  <tbody>\n",
       "    <tr>\n",
       "      <th>12</th>\n",
       "      <td>1694</td>\n",
       "      <td>Imperial County</td>\n",
       "      <td>599</td>\n",
       "      <td>779</td>\n",
       "      <td>730</td>\n",
       "      <td>28</td>\n",
       "      <td>449</td>\n",
       "      <td>2585</td>\n",
       "      <td>6739</td>\n",
       "      <td>69</td>\n",
       "    </tr>\n",
       "    <tr>\n",
       "      <th>22</th>\n",
       "      <td>1704</td>\n",
       "      <td>Mendocino County</td>\n",
       "      <td>415</td>\n",
       "      <td>296</td>\n",
       "      <td>551</td>\n",
       "      <td>17</td>\n",
       "      <td>364</td>\n",
       "      <td>1643</td>\n",
       "      <td>3654</td>\n",
       "      <td>10</td>\n",
       "    </tr>\n",
       "    <tr>\n",
       "      <th>37</th>\n",
       "      <td>1719</td>\n",
       "      <td>San Francisco County</td>\n",
       "      <td>3629</td>\n",
       "      <td>2792</td>\n",
       "      <td>6867</td>\n",
       "      <td>51</td>\n",
       "      <td>3339</td>\n",
       "      <td>16678</td>\n",
       "      <td>14782</td>\n",
       "      <td>9</td>\n",
       "    </tr>\n",
       "    <tr>\n",
       "      <th>43</th>\n",
       "      <td>1725</td>\n",
       "      <td>Santa Cruz County</td>\n",
       "      <td>753</td>\n",
       "      <td>789</td>\n",
       "      <td>872</td>\n",
       "      <td>43</td>\n",
       "      <td>744</td>\n",
       "      <td>3201</td>\n",
       "      <td>10455</td>\n",
       "      <td>115</td>\n",
       "    </tr>\n",
       "    <tr>\n",
       "      <th>20</th>\n",
       "      <td>1702</td>\n",
       "      <td>Marin County</td>\n",
       "      <td>500</td>\n",
       "      <td>532</td>\n",
       "      <td>454</td>\n",
       "      <td>29</td>\n",
       "      <td>276</td>\n",
       "      <td>1791</td>\n",
       "      <td>5795</td>\n",
       "      <td>178</td>\n",
       "    </tr>\n",
       "    <tr>\n",
       "      <th>44</th>\n",
       "      <td>1726</td>\n",
       "      <td>Shasta County</td>\n",
       "      <td>464</td>\n",
       "      <td>505</td>\n",
       "      <td>434</td>\n",
       "      <td>36</td>\n",
       "      <td>505</td>\n",
       "      <td>1944</td>\n",
       "      <td>7829</td>\n",
       "      <td>422</td>\n",
       "    </tr>\n",
       "    <tr>\n",
       "      <th>5</th>\n",
       "      <td>1687</td>\n",
       "      <td>Colusa County</td>\n",
       "      <td>58</td>\n",
       "      <td>50</td>\n",
       "      <td>28</td>\n",
       "      <td>7</td>\n",
       "      <td>132</td>\n",
       "      <td>275</td>\n",
       "      <td>917</td>\n",
       "      <td>0</td>\n",
       "    </tr>\n",
       "    <tr>\n",
       "      <th>27</th>\n",
       "      <td>1709</td>\n",
       "      <td>Napa County</td>\n",
       "      <td>367</td>\n",
       "      <td>400</td>\n",
       "      <td>325</td>\n",
       "      <td>24</td>\n",
       "      <td>392</td>\n",
       "      <td>1508</td>\n",
       "      <td>3471</td>\n",
       "      <td>60</td>\n",
       "    </tr>\n",
       "    <tr>\n",
       "      <th>32</th>\n",
       "      <td>1714</td>\n",
       "      <td>Riverside County</td>\n",
       "      <td>5825</td>\n",
       "      <td>7082</td>\n",
       "      <td>5881</td>\n",
       "      <td>479</td>\n",
       "      <td>4832</td>\n",
       "      <td>24099</td>\n",
       "      <td>40087</td>\n",
       "      <td>2235</td>\n",
       "    </tr>\n",
       "    <tr>\n",
       "      <th>47</th>\n",
       "      <td>1729</td>\n",
       "      <td>Solano County</td>\n",
       "      <td>1599</td>\n",
       "      <td>1326</td>\n",
       "      <td>1422</td>\n",
       "      <td>81</td>\n",
       "      <td>1027</td>\n",
       "      <td>5455</td>\n",
       "      <td>10682</td>\n",
       "      <td>191</td>\n",
       "    </tr>\n",
       "  </tbody>\n",
       "</table>\n",
       "</div>"
      ],
      "text/plain": [
       "    Unnamed: 0                COUNTY  VIOLENT  PROPERTY  F_DRUGOFF  F_SEXOFF  \\\n",
       "12        1694       Imperial County      599       779        730        28   \n",
       "22        1704      Mendocino County      415       296        551        17   \n",
       "37        1719  San Francisco County     3629      2792       6867        51   \n",
       "43        1725     Santa Cruz County      753       789        872        43   \n",
       "20        1702          Marin County      500       532        454        29   \n",
       "44        1726         Shasta County      464       505        434        36   \n",
       "5         1687         Colusa County       58        50         28         7   \n",
       "27        1709           Napa County      367       400        325        24   \n",
       "32        1714      Riverside County     5825      7082       5881       479   \n",
       "47        1729         Solano County     1599      1326       1422        81   \n",
       "\n",
       "    F_ALLOTHER  F_TOTAL  M_TOTAL  S_TOTAL  \n",
       "12         449     2585     6739       69  \n",
       "22         364     1643     3654       10  \n",
       "37        3339    16678    14782        9  \n",
       "43         744     3201    10455      115  \n",
       "20         276     1791     5795      178  \n",
       "44         505     1944     7829      422  \n",
       "5          132      275      917        0  \n",
       "27         392     1508     3471       60  \n",
       "32        4832    24099    40087     2235  \n",
       "47        1027     5455    10682      191  "
      ]
     },
     "execution_count": 2,
     "metadata": {},
     "output_type": "execute_result"
    }
   ],
   "source": [
    "import pandas as pd\n",
    "import numpy as np\n",
    "import matplotlib.pyplot as plt\n",
    "\n",
    "pd.set_option(\"mode.copy_on_write\", True)\n",
    "results = {}\n",
    "ca_arrests_2009 = pd.read_csv(\n",
    "    \"https://github.com/nickeubank/practicaldatascience/raw/master/Example_Data/ca/ca_arrests_2009.csv\"\n",
    ")\n",
    "ca_arrests_2009.sample(10)"
   ]
  },
  {
   "cell_type": "markdown",
   "metadata": {},
   "source": [
    "### Exercise 2\n",
    "Use your data exploration skills to get a feel for this data. If you need to, you can find the [original codebook here](https://github.com/nickeubank/practicaldatascience/blob/master/Example_Data/ca/arrests_codebook.pdf) (This data is a version of that data, but collapsed to one observation per county.)"
   ]
  },
  {
   "cell_type": "code",
   "execution_count": 3,
   "metadata": {},
   "outputs": [
    {
     "name": "stdout",
     "output_type": "stream",
     "text": [
      "COUNTY object\n",
      "VIOLENT int64\n",
      "PROPERTY int64\n",
      "F_DRUGOFF int64\n",
      "F_SEXOFF int64\n",
      "F_ALLOTHER int64\n",
      "F_TOTAL int64\n",
      "M_TOTAL int64\n",
      "S_TOTAL int64\n"
     ]
    }
   ],
   "source": [
    "ca_arrests_2009 = ca_arrests_2009.drop(columns=[\"Unnamed: 0\"])\n",
    "# get the data types of each column\n",
    "for c in ca_arrests_2009.columns:\n",
    "    print(c, ca_arrests_2009[c].dtype)"
   ]
  },
  {
   "cell_type": "code",
   "execution_count": 4,
   "metadata": {},
   "outputs": [
    {
     "data": {
      "text/plain": [
       "COUNTY        0\n",
       "VIOLENT       0\n",
       "PROPERTY      0\n",
       "F_DRUGOFF     0\n",
       "F_SEXOFF      0\n",
       "F_ALLOTHER    0\n",
       "F_TOTAL       0\n",
       "M_TOTAL       0\n",
       "S_TOTAL       0\n",
       "dtype: int64"
      ]
     },
     "execution_count": 4,
     "metadata": {},
     "output_type": "execute_result"
    }
   ],
   "source": [
    "# find the columns with missing values\n",
    "ca_arrests_2009.isnull().sum()"
   ]
  },
  {
   "cell_type": "code",
   "execution_count": 5,
   "metadata": {},
   "outputs": [
    {
     "name": "stdout",
     "output_type": "stream",
     "text": [
      "Number of unique values in each column:\n",
      "COUNTY 58\n",
      "VIOLENT 56\n",
      "PROPERTY 56\n",
      "F_DRUGOFF 57\n",
      "F_SEXOFF 46\n",
      "F_ALLOTHER 57\n",
      "F_TOTAL 58\n",
      "M_TOTAL 58\n",
      "S_TOTAL 48\n",
      "\n",
      "Number of values in dataset: (58, 9)\n"
     ]
    }
   ],
   "source": [
    "# Get number of unique values in each column\n",
    "print(\"Number of unique values in each column:\")\n",
    "for c in ca_arrests_2009.columns:\n",
    "    print(c, ca_arrests_2009[c].nunique())\n",
    "# Get total number of values in the dataset\n",
    "print()\n",
    "print(\"Number of values in dataset:\", ca_arrests_2009.shape)"
   ]
  },
  {
   "cell_type": "markdown",
   "metadata": {},
   "source": [
    "### Exercise 3\n",
    "Figuring out what county has the most violent arrests isn't very meaningful if we don't normalize for size. A county with 10 people and 10 arrests for violent crimes is obviously worse than a county with 1,000,000 people an 11 arrests for violent crime. \n",
    "\n",
    "To address this, also import `nhgis_county_populations.csv` from [the directory we're working from](https://github.com/nickeubank/practicaldatascience/tree/master/Example_Data/ca)."
   ]
  },
  {
   "cell_type": "code",
   "execution_count": 6,
   "metadata": {},
   "outputs": [
    {
     "data": {
      "text/html": [
       "<div>\n",
       "<style scoped>\n",
       "    .dataframe tbody tr th:only-of-type {\n",
       "        vertical-align: middle;\n",
       "    }\n",
       "\n",
       "    .dataframe tbody tr th {\n",
       "        vertical-align: top;\n",
       "    }\n",
       "\n",
       "    .dataframe thead th {\n",
       "        text-align: right;\n",
       "    }\n",
       "</style>\n",
       "<table border=\"1\" class=\"dataframe\">\n",
       "  <thead>\n",
       "    <tr style=\"text-align: right;\">\n",
       "      <th></th>\n",
       "      <th>Unnamed: 0</th>\n",
       "      <th>YEAR</th>\n",
       "      <th>STATE</th>\n",
       "      <th>COUNTY</th>\n",
       "      <th>total_population</th>\n",
       "    </tr>\n",
       "  </thead>\n",
       "  <tbody>\n",
       "    <tr>\n",
       "      <th>4427</th>\n",
       "      <td>1206</td>\n",
       "      <td>2013-2017</td>\n",
       "      <td>Maryland</td>\n",
       "      <td>Kent County</td>\n",
       "      <td>19666</td>\n",
       "    </tr>\n",
       "    <tr>\n",
       "      <th>311</th>\n",
       "      <td>311</td>\n",
       "      <td>2005-2009</td>\n",
       "      <td>Connecticut</td>\n",
       "      <td>Middlesex County</td>\n",
       "      <td>164004</td>\n",
       "    </tr>\n",
       "    <tr>\n",
       "      <th>4217</th>\n",
       "      <td>996</td>\n",
       "      <td>2013-2017</td>\n",
       "      <td>Kentucky</td>\n",
       "      <td>Ballard County</td>\n",
       "      <td>8152</td>\n",
       "    </tr>\n",
       "    <tr>\n",
       "      <th>1807</th>\n",
       "      <td>1807</td>\n",
       "      <td>2005-2009</td>\n",
       "      <td>New Mexico</td>\n",
       "      <td>Hidalgo County</td>\n",
       "      <td>5001</td>\n",
       "    </tr>\n",
       "    <tr>\n",
       "      <th>4330</th>\n",
       "      <td>1109</td>\n",
       "      <td>2013-2017</td>\n",
       "      <td>Kentucky</td>\n",
       "      <td>Webster County</td>\n",
       "      <td>13180</td>\n",
       "    </tr>\n",
       "    <tr>\n",
       "      <th>6081</th>\n",
       "      <td>2860</td>\n",
       "      <td>2013-2017</td>\n",
       "      <td>Virginia</td>\n",
       "      <td>Halifax County</td>\n",
       "      <td>35030</td>\n",
       "    </tr>\n",
       "    <tr>\n",
       "      <th>4143</th>\n",
       "      <td>922</td>\n",
       "      <td>2013-2017</td>\n",
       "      <td>Kansas</td>\n",
       "      <td>Gray County</td>\n",
       "      <td>6004</td>\n",
       "    </tr>\n",
       "    <tr>\n",
       "      <th>6436</th>\n",
       "      <td>3215</td>\n",
       "      <td>2013-2017</td>\n",
       "      <td>Puerto Rico</td>\n",
       "      <td>Vega Baja Municipio</td>\n",
       "      <td>54754</td>\n",
       "    </tr>\n",
       "    <tr>\n",
       "      <th>6430</th>\n",
       "      <td>3209</td>\n",
       "      <td>2013-2017</td>\n",
       "      <td>Puerto Rico</td>\n",
       "      <td>Santa Isabel Municipio</td>\n",
       "      <td>22475</td>\n",
       "    </tr>\n",
       "    <tr>\n",
       "      <th>1239</th>\n",
       "      <td>1239</td>\n",
       "      <td>2005-2009</td>\n",
       "      <td>Michigan</td>\n",
       "      <td>Bay County</td>\n",
       "      <td>107778</td>\n",
       "    </tr>\n",
       "  </tbody>\n",
       "</table>\n",
       "</div>"
      ],
      "text/plain": [
       "      Unnamed: 0       YEAR        STATE                  COUNTY  \\\n",
       "4427        1206  2013-2017     Maryland             Kent County   \n",
       "311          311  2005-2009  Connecticut        Middlesex County   \n",
       "4217         996  2013-2017     Kentucky          Ballard County   \n",
       "1807        1807  2005-2009   New Mexico          Hidalgo County   \n",
       "4330        1109  2013-2017     Kentucky          Webster County   \n",
       "6081        2860  2013-2017     Virginia          Halifax County   \n",
       "4143         922  2013-2017       Kansas             Gray County   \n",
       "6436        3215  2013-2017  Puerto Rico     Vega Baja Municipio   \n",
       "6430        3209  2013-2017  Puerto Rico  Santa Isabel Municipio   \n",
       "1239        1239  2005-2009     Michigan              Bay County   \n",
       "\n",
       "      total_population  \n",
       "4427             19666  \n",
       "311             164004  \n",
       "4217              8152  \n",
       "1807              5001  \n",
       "4330             13180  \n",
       "6081             35030  \n",
       "4143              6004  \n",
       "6436             54754  \n",
       "6430             22475  \n",
       "1239            107778  "
      ]
     },
     "execution_count": 6,
     "metadata": {},
     "output_type": "execute_result"
    }
   ],
   "source": [
    "nhgis_county_pop = pd.read_csv(\n",
    "    \"https://raw.githubusercontent.com/nickeubank/practicaldatascience/master/Example_Data/ca/nhgis_county_populations.csv\"\n",
    ")\n",
    "nhgis_county_pop.sample(10)"
   ]
  },
  {
   "cell_type": "code",
   "execution_count": 7,
   "metadata": {},
   "outputs": [
    {
     "data": {
      "text/html": [
       "<div>\n",
       "<style scoped>\n",
       "    .dataframe tbody tr th:only-of-type {\n",
       "        vertical-align: middle;\n",
       "    }\n",
       "\n",
       "    .dataframe tbody tr th {\n",
       "        vertical-align: top;\n",
       "    }\n",
       "\n",
       "    .dataframe thead th {\n",
       "        text-align: right;\n",
       "    }\n",
       "</style>\n",
       "<table border=\"1\" class=\"dataframe\">\n",
       "  <thead>\n",
       "    <tr style=\"text-align: right;\">\n",
       "      <th></th>\n",
       "      <th>YEAR</th>\n",
       "      <th>STATE</th>\n",
       "      <th>COUNTY</th>\n",
       "      <th>total_population</th>\n",
       "    </tr>\n",
       "  </thead>\n",
       "  <tbody>\n",
       "    <tr>\n",
       "      <th>64</th>\n",
       "      <td>2005-2009</td>\n",
       "      <td>Alabama</td>\n",
       "      <td>Washington County</td>\n",
       "      <td>17212</td>\n",
       "    </tr>\n",
       "    <tr>\n",
       "      <th>182</th>\n",
       "      <td>2005-2009</td>\n",
       "      <td>Arkansas</td>\n",
       "      <td>Washington County</td>\n",
       "      <td>193353</td>\n",
       "    </tr>\n",
       "    <tr>\n",
       "      <th>305</th>\n",
       "      <td>2005-2009</td>\n",
       "      <td>Colorado</td>\n",
       "      <td>Washington County</td>\n",
       "      <td>4647</td>\n",
       "    </tr>\n",
       "    <tr>\n",
       "      <th>386</th>\n",
       "      <td>2005-2009</td>\n",
       "      <td>Florida</td>\n",
       "      <td>Washington County</td>\n",
       "      <td>22997</td>\n",
       "    </tr>\n",
       "    <tr>\n",
       "      <th>536</th>\n",
       "      <td>2005-2009</td>\n",
       "      <td>Georgia</td>\n",
       "      <td>Washington County</td>\n",
       "      <td>20608</td>\n",
       "    </tr>\n",
       "    <tr>\n",
       "      <th>594</th>\n",
       "      <td>2005-2009</td>\n",
       "      <td>Idaho</td>\n",
       "      <td>Washington County</td>\n",
       "      <td>10011</td>\n",
       "    </tr>\n",
       "    <tr>\n",
       "      <th>689</th>\n",
       "      <td>2005-2009</td>\n",
       "      <td>Illinois</td>\n",
       "      <td>Washington County</td>\n",
       "      <td>14725</td>\n",
       "    </tr>\n",
       "    <tr>\n",
       "      <th>784</th>\n",
       "      <td>2005-2009</td>\n",
       "      <td>Indiana</td>\n",
       "      <td>Washington County</td>\n",
       "      <td>27780</td>\n",
       "    </tr>\n",
       "    <tr>\n",
       "      <th>880</th>\n",
       "      <td>2005-2009</td>\n",
       "      <td>Iowa</td>\n",
       "      <td>Washington County</td>\n",
       "      <td>21152</td>\n",
       "    </tr>\n",
       "    <tr>\n",
       "      <th>988</th>\n",
       "      <td>2005-2009</td>\n",
       "      <td>Kansas</td>\n",
       "      <td>Washington County</td>\n",
       "      <td>5821</td>\n",
       "    </tr>\n",
       "  </tbody>\n",
       "</table>\n",
       "</div>"
      ],
      "text/plain": [
       "          YEAR     STATE             COUNTY  total_population\n",
       "64   2005-2009   Alabama  Washington County             17212\n",
       "182  2005-2009  Arkansas  Washington County            193353\n",
       "305  2005-2009  Colorado  Washington County              4647\n",
       "386  2005-2009   Florida  Washington County             22997\n",
       "536  2005-2009   Georgia  Washington County             20608\n",
       "594  2005-2009     Idaho  Washington County             10011\n",
       "689  2005-2009  Illinois  Washington County             14725\n",
       "784  2005-2009   Indiana  Washington County             27780\n",
       "880  2005-2009      Iowa  Washington County             21152\n",
       "988  2005-2009    Kansas  Washington County              5821"
      ]
     },
     "execution_count": 7,
     "metadata": {},
     "output_type": "execute_result"
    }
   ],
   "source": [
    "nhgis_county_pop = nhgis_county_pop.drop(columns=[\"Unnamed: 0\"])\n",
    "dset = nhgis_county_pop[nhgis_county_pop[\"COUNTY\"] == \"Washington County\"]\n",
    "dset.head(10)"
   ]
  },
  {
   "cell_type": "markdown",
   "metadata": {},
   "source": [
    "### Exercise 4\n",
    "Use your data exploration skills to get used to this data, and figure out how it relates to your 2009 arrest data. "
   ]
  },
  {
   "cell_type": "code",
   "execution_count": 8,
   "metadata": {},
   "outputs": [
    {
     "name": "stdout",
     "output_type": "stream",
     "text": [
      "COUNTY\n",
      "Washington County       60\n",
      "Jefferson County        50\n",
      "Franklin County         48\n",
      "Jackson County          46\n",
      "Lincoln County          46\n",
      "                        ..\n",
      "Bedford city             1\n",
      "Kusilvak Census Area     1\n",
      "Petersburg Borough       1\n",
      "LaSalle Parish           1\n",
      "Oglala Lakota County     1\n",
      "Name: count, Length: 1959, dtype: int64\n",
      "-----------------------------------\n",
      "\n",
      "COUNTY\n",
      "Alameda County            1\n",
      "Santa Cruz County         1\n",
      "Plumas County             1\n",
      "Riverside County          1\n",
      "Sacramento County         1\n",
      "San Benito County         1\n",
      "San Bernardino County     1\n",
      "San Diego County          1\n",
      "San Francisco County      1\n",
      "San Joaquin County        1\n",
      "San Luis Obispo County    1\n",
      "San Mateo County          1\n",
      "Santa Barbara County      1\n",
      "Santa Clara County        1\n",
      "Shasta County             1\n",
      "Alpine County             1\n",
      "Sierra County             1\n",
      "Siskiyou County           1\n",
      "Solano County             1\n",
      "Sonoma County             1\n",
      "Stanislaus County         1\n",
      "Sutter County             1\n",
      "Tehama County             1\n",
      "Trinity County            1\n",
      "Tulare County             1\n",
      "Tuolumne County           1\n",
      "Ventura County            1\n",
      "Yolo County               1\n",
      "Placer County             1\n",
      "Orange County             1\n",
      "Nevada County             1\n",
      "Napa County               1\n",
      "Amador County             1\n",
      "Butte County              1\n",
      "Calaveras County          1\n",
      "Colusa County             1\n",
      "Contra Costa County       1\n",
      "Del Norte County          1\n",
      "El Dorado County          1\n",
      "Fresno County             1\n",
      "Glenn County              1\n",
      "Humboldt County           1\n",
      "Imperial County           1\n",
      "Inyo County               1\n",
      "Kern County               1\n",
      "Kings County              1\n",
      "Lake County               1\n",
      "Lassen County             1\n",
      "Los Angeles County        1\n",
      "Madera County             1\n",
      "Marin County              1\n",
      "Mariposa County           1\n",
      "Mendocino County          1\n",
      "Merced County             1\n",
      "Modoc County              1\n",
      "Mono County               1\n",
      "Monterey County           1\n",
      "Yuba County               1\n",
      "Name: count, dtype: int64\n"
     ]
    }
   ],
   "source": [
    "# nhgis_pop.isnull().sum()\n",
    "print(nhgis_county_pop[\"COUNTY\"].value_counts())\n",
    "print(\"-----------------------------------\\n\")\n",
    "print(ca_arrests_2009[\"COUNTY\"].value_counts())"
   ]
  },
  {
   "cell_type": "code",
   "execution_count": 9,
   "metadata": {},
   "outputs": [
    {
     "name": "stdout",
     "output_type": "stream",
     "text": [
      "Number of unique values in each column:\n",
      "YEAR 2\n",
      "STATE 52\n",
      "COUNTY 1959\n",
      "total_population 6210\n"
     ]
    }
   ],
   "source": [
    "# Get number of unique values in each column\n",
    "print(\"Number of unique values in each column:\")\n",
    "for c in nhgis_county_pop.columns:\n",
    "    print(c, nhgis_county_pop[c].nunique())"
   ]
  },
  {
   "cell_type": "code",
   "execution_count": 10,
   "metadata": {},
   "outputs": [
    {
     "data": {
      "text/plain": [
       "(6441, 4)"
      ]
     },
     "execution_count": 10,
     "metadata": {},
     "output_type": "execute_result"
    }
   ],
   "source": [
    "nhgis_county_pop.shape"
   ]
  },
  {
   "cell_type": "code",
   "execution_count": 11,
   "metadata": {},
   "outputs": [
    {
     "data": {
      "text/html": [
       "<div>\n",
       "<style scoped>\n",
       "    .dataframe tbody tr th:only-of-type {\n",
       "        vertical-align: middle;\n",
       "    }\n",
       "\n",
       "    .dataframe tbody tr th {\n",
       "        vertical-align: top;\n",
       "    }\n",
       "\n",
       "    .dataframe thead th {\n",
       "        text-align: right;\n",
       "    }\n",
       "</style>\n",
       "<table border=\"1\" class=\"dataframe\">\n",
       "  <thead>\n",
       "    <tr style=\"text-align: right;\">\n",
       "      <th></th>\n",
       "      <th>YEAR</th>\n",
       "      <th>STATE</th>\n",
       "      <th>COUNTY</th>\n",
       "      <th>total_population</th>\n",
       "    </tr>\n",
       "  </thead>\n",
       "  <tbody>\n",
       "    <tr>\n",
       "      <th>186</th>\n",
       "      <td>2005-2009</td>\n",
       "      <td>California</td>\n",
       "      <td>Alameda County</td>\n",
       "      <td>1457095</td>\n",
       "    </tr>\n",
       "    <tr>\n",
       "      <th>187</th>\n",
       "      <td>2005-2009</td>\n",
       "      <td>California</td>\n",
       "      <td>Alpine County</td>\n",
       "      <td>1153</td>\n",
       "    </tr>\n",
       "    <tr>\n",
       "      <th>188</th>\n",
       "      <td>2005-2009</td>\n",
       "      <td>California</td>\n",
       "      <td>Amador County</td>\n",
       "      <td>38039</td>\n",
       "    </tr>\n",
       "    <tr>\n",
       "      <th>189</th>\n",
       "      <td>2005-2009</td>\n",
       "      <td>California</td>\n",
       "      <td>Butte County</td>\n",
       "      <td>217917</td>\n",
       "    </tr>\n",
       "    <tr>\n",
       "      <th>190</th>\n",
       "      <td>2005-2009</td>\n",
       "      <td>California</td>\n",
       "      <td>Calaveras County</td>\n",
       "      <td>46548</td>\n",
       "    </tr>\n",
       "    <tr>\n",
       "      <th>191</th>\n",
       "      <td>2005-2009</td>\n",
       "      <td>California</td>\n",
       "      <td>Colusa County</td>\n",
       "      <td>21001</td>\n",
       "    </tr>\n",
       "    <tr>\n",
       "      <th>192</th>\n",
       "      <td>2005-2009</td>\n",
       "      <td>California</td>\n",
       "      <td>Contra Costa County</td>\n",
       "      <td>1015571</td>\n",
       "    </tr>\n",
       "    <tr>\n",
       "      <th>193</th>\n",
       "      <td>2005-2009</td>\n",
       "      <td>California</td>\n",
       "      <td>DelNorte County</td>\n",
       "      <td>28729</td>\n",
       "    </tr>\n",
       "    <tr>\n",
       "      <th>194</th>\n",
       "      <td>2005-2009</td>\n",
       "      <td>California</td>\n",
       "      <td>El Dorado County</td>\n",
       "      <td>175941</td>\n",
       "    </tr>\n",
       "    <tr>\n",
       "      <th>195</th>\n",
       "      <td>2005-2009</td>\n",
       "      <td>California</td>\n",
       "      <td>Fresno County</td>\n",
       "      <td>890750</td>\n",
       "    </tr>\n",
       "  </tbody>\n",
       "</table>\n",
       "</div>"
      ],
      "text/plain": [
       "          YEAR       STATE               COUNTY  total_population\n",
       "186  2005-2009  California       Alameda County           1457095\n",
       "187  2005-2009  California        Alpine County              1153\n",
       "188  2005-2009  California        Amador County             38039\n",
       "189  2005-2009  California         Butte County            217917\n",
       "190  2005-2009  California     Calaveras County             46548\n",
       "191  2005-2009  California        Colusa County             21001\n",
       "192  2005-2009  California  Contra Costa County           1015571\n",
       "193  2005-2009  California      DelNorte County             28729\n",
       "194  2005-2009  California     El Dorado County            175941\n",
       "195  2005-2009  California        Fresno County            890750"
      ]
     },
     "execution_count": 11,
     "metadata": {},
     "output_type": "execute_result"
    }
   ],
   "source": [
    "# subset for only counties in california\n",
    "nhgis_county_pop = nhgis_county_pop[nhgis_county_pop[\"STATE\"] == \"California\"]\n",
    "nhgis_county_pop.head(10)"
   ]
  },
  {
   "cell_type": "code",
   "execution_count": 12,
   "metadata": {},
   "outputs": [
    {
     "data": {
      "text/plain": [
       "(116, 4)"
      ]
     },
     "execution_count": 12,
     "metadata": {},
     "output_type": "execute_result"
    }
   ],
   "source": [
    "nhgis_county_pop.shape"
   ]
  },
  {
   "cell_type": "code",
   "execution_count": 13,
   "metadata": {},
   "outputs": [
    {
     "data": {
      "text/plain": [
       "COUNTY\n",
       "Alameda County            2\n",
       "Santa Cruz County         2\n",
       "Plumas County             2\n",
       "Riverside County          2\n",
       "Sacramento County         2\n",
       "San Benito County         2\n",
       "San Bernardino County     2\n",
       "San Diego County          2\n",
       "San Francisco County      2\n",
       "San Joaquin County        2\n",
       "San Luis Obispo County    2\n",
       "San Mateo County          2\n",
       "Santa Barbara County      2\n",
       "Santa Clara County        2\n",
       "Shasta County             2\n",
       "Alpine County             2\n",
       "Sierra County             2\n",
       "Siskiyou County           2\n",
       "Solano County             2\n",
       "Sonoma County             2\n",
       "Stanislaus County         2\n",
       "Sutter County             2\n",
       "Tehama County             2\n",
       "Trinity County            2\n",
       "Tulare County             2\n",
       "Tuolumne County           2\n",
       "Ventura County            2\n",
       "Yolo County               2\n",
       "Placer County             2\n",
       "Orange County             2\n",
       "Nevada County             2\n",
       "Napa County               2\n",
       "Amador County             2\n",
       "Butte County              2\n",
       "Calaveras County          2\n",
       "Colusa County             2\n",
       "Contra Costa County       2\n",
       "DelNorte County           2\n",
       "El Dorado County          2\n",
       "Fresno County             2\n",
       "Glenn County              2\n",
       "Humboldt County           2\n",
       "Imperial County           2\n",
       "Injo County               2\n",
       "Kern County               2\n",
       "Kings County              2\n",
       "Lake County               2\n",
       "Lassen County             2\n",
       "Los Angeles County        2\n",
       "Madera County             2\n",
       "Marin County              2\n",
       "Mariposa County           2\n",
       "Mendocino County          2\n",
       "Merced County             2\n",
       "Modoc County              2\n",
       "Mono County               2\n",
       "Monterey County           2\n",
       "Yuba County               2\n",
       "Name: count, dtype: int64"
      ]
     },
     "execution_count": 13,
     "metadata": {},
     "output_type": "execute_result"
    }
   ],
   "source": [
    "nhgis_county_pop[\"COUNTY\"].value_counts()"
   ]
  },
  {
   "cell_type": "code",
   "execution_count": 14,
   "metadata": {},
   "outputs": [
    {
     "name": "stdout",
     "output_type": "stream",
     "text": [
      "              COUNTY  VIOLENT  PROPERTY  F_DRUGOFF  F_SEXOFF  F_ALLOTHER  \\\n",
      "7   Del Norte County      144       104         79        13          97   \n",
      "13       Inyo County       81        44         39         3          38   \n",
      "\n",
      "    F_TOTAL  M_TOTAL  S_TOTAL  \n",
      "7       437     1268        5  \n",
      "13      205      851        1  \n",
      "Empty DataFrame\n",
      "Columns: [YEAR, STATE, COUNTY, total_population]\n",
      "Index: []\n"
     ]
    }
   ],
   "source": [
    "# Check the consistency of the data\n",
    "mylist = [\"Del Norte County\", \"Inyo County\"]\n",
    "print(ca_arrests_2009[ca_arrests_2009[\"COUNTY\"].isin(mylist)])\n",
    "print(nhgis_county_pop[nhgis_county_pop[\"COUNTY\"].isin(mylist)])"
   ]
  },
  {
   "cell_type": "code",
   "execution_count": 15,
   "metadata": {},
   "outputs": [
    {
     "name": "stdout",
     "output_type": "stream",
     "text": [
      "False\n"
     ]
    }
   ],
   "source": [
    "# check if nhgis_county_pop contains all the counties in ca_arrests_2009\n",
    "print(\n",
    "    set(ca_arrests_2009[\"COUNTY\"].unique()).issubset(\n",
    "        set(nhgis_county_pop[\"COUNTY\"].unique())\n",
    "    )\n",
    ")"
   ]
  },
  {
   "cell_type": "code",
   "execution_count": 16,
   "metadata": {},
   "outputs": [
    {
     "data": {
      "text/html": [
       "<div>\n",
       "<style scoped>\n",
       "    .dataframe tbody tr th:only-of-type {\n",
       "        vertical-align: middle;\n",
       "    }\n",
       "\n",
       "    .dataframe tbody tr th {\n",
       "        vertical-align: top;\n",
       "    }\n",
       "\n",
       "    .dataframe thead th {\n",
       "        text-align: right;\n",
       "    }\n",
       "</style>\n",
       "<table border=\"1\" class=\"dataframe\">\n",
       "  <thead>\n",
       "    <tr style=\"text-align: right;\">\n",
       "      <th></th>\n",
       "      <th>YEAR</th>\n",
       "      <th>STATE</th>\n",
       "      <th>COUNTY</th>\n",
       "      <th>total_population</th>\n",
       "    </tr>\n",
       "  </thead>\n",
       "  <tbody>\n",
       "    <tr>\n",
       "      <th>199</th>\n",
       "      <td>2005-2009</td>\n",
       "      <td>California</td>\n",
       "      <td>Injo County</td>\n",
       "      <td>17438</td>\n",
       "    </tr>\n",
       "    <tr>\n",
       "      <th>3420</th>\n",
       "      <td>2013-2017</td>\n",
       "      <td>California</td>\n",
       "      <td>Injo County</td>\n",
       "      <td>18195</td>\n",
       "    </tr>\n",
       "  </tbody>\n",
       "</table>\n",
       "</div>"
      ],
      "text/plain": [
       "           YEAR       STATE       COUNTY  total_population\n",
       "199   2005-2009  California  Injo County             17438\n",
       "3420  2013-2017  California  Injo County             18195"
      ]
     },
     "execution_count": 16,
     "metadata": {},
     "output_type": "execute_result"
    }
   ],
   "source": [
    "# check for possible misspellings\n",
    "nhgis_county_pop[nhgis_county_pop[\"COUNTY\"].str.contains(\"In\", case=True)]"
   ]
  },
  {
   "cell_type": "code",
   "execution_count": 17,
   "metadata": {},
   "outputs": [
    {
     "data": {
      "text/html": [
       "<div>\n",
       "<style scoped>\n",
       "    .dataframe tbody tr th:only-of-type {\n",
       "        vertical-align: middle;\n",
       "    }\n",
       "\n",
       "    .dataframe tbody tr th {\n",
       "        vertical-align: top;\n",
       "    }\n",
       "\n",
       "    .dataframe thead th {\n",
       "        text-align: right;\n",
       "    }\n",
       "</style>\n",
       "<table border=\"1\" class=\"dataframe\">\n",
       "  <thead>\n",
       "    <tr style=\"text-align: right;\">\n",
       "      <th></th>\n",
       "      <th>YEAR</th>\n",
       "      <th>STATE</th>\n",
       "      <th>COUNTY</th>\n",
       "      <th>total_population</th>\n",
       "    </tr>\n",
       "  </thead>\n",
       "  <tbody>\n",
       "    <tr>\n",
       "      <th>193</th>\n",
       "      <td>2005-2009</td>\n",
       "      <td>California</td>\n",
       "      <td>DelNorte County</td>\n",
       "      <td>28729</td>\n",
       "    </tr>\n",
       "    <tr>\n",
       "      <th>3414</th>\n",
       "      <td>2013-2017</td>\n",
       "      <td>California</td>\n",
       "      <td>DelNorte County</td>\n",
       "      <td>27442</td>\n",
       "    </tr>\n",
       "  </tbody>\n",
       "</table>\n",
       "</div>"
      ],
      "text/plain": [
       "           YEAR       STATE           COUNTY  total_population\n",
       "193   2005-2009  California  DelNorte County             28729\n",
       "3414  2013-2017  California  DelNorte County             27442"
      ]
     },
     "execution_count": 17,
     "metadata": {},
     "output_type": "execute_result"
    }
   ],
   "source": [
    "# check for possible misspellings\n",
    "nhgis_county_pop[nhgis_county_pop[\"COUNTY\"].str.contains(\"Del\", case=True)]"
   ]
  },
  {
   "cell_type": "code",
   "execution_count": 18,
   "metadata": {},
   "outputs": [],
   "source": [
    "# Correct the spelling errors\n",
    "nhgis_county_pop[\"COUNTY\"] = nhgis_county_pop[\"COUNTY\"].str.replace(\n",
    "    \"Injo County\", \"Inyo County\"\n",
    ")\n",
    "nhgis_county_pop[\"COUNTY\"] = nhgis_county_pop[\"COUNTY\"].str.replace(\n",
    "    \"DelNorte County\", \"Del Norte County\"\n",
    ")\n",
    "\n",
    "\n",
    "# Complete US county population data is nhgis_county_pop"
   ]
  },
  {
   "cell_type": "code",
   "execution_count": 19,
   "metadata": {},
   "outputs": [
    {
     "data": {
      "text/plain": [
       "(58, 4)"
      ]
     },
     "execution_count": 19,
     "metadata": {},
     "output_type": "execute_result"
    }
   ],
   "source": [
    "# subset for only populations for 2009\n",
    "nhgis_county_pop_2009 = nhgis_county_pop[nhgis_county_pop[\"YEAR\"] == \"2005-2009\"]\n",
    "nhgis_county_pop_2009.shape"
   ]
  },
  {
   "cell_type": "code",
   "execution_count": 20,
   "metadata": {},
   "outputs": [
    {
     "data": {
      "text/html": [
       "<div>\n",
       "<style scoped>\n",
       "    .dataframe tbody tr th:only-of-type {\n",
       "        vertical-align: middle;\n",
       "    }\n",
       "\n",
       "    .dataframe tbody tr th {\n",
       "        vertical-align: top;\n",
       "    }\n",
       "\n",
       "    .dataframe thead th {\n",
       "        text-align: right;\n",
       "    }\n",
       "</style>\n",
       "<table border=\"1\" class=\"dataframe\">\n",
       "  <thead>\n",
       "    <tr style=\"text-align: right;\">\n",
       "      <th></th>\n",
       "      <th>COUNTY</th>\n",
       "      <th>total_population</th>\n",
       "    </tr>\n",
       "  </thead>\n",
       "  <tbody>\n",
       "    <tr>\n",
       "      <th>186</th>\n",
       "      <td>Alameda County</td>\n",
       "      <td>1457095</td>\n",
       "    </tr>\n",
       "    <tr>\n",
       "      <th>187</th>\n",
       "      <td>Alpine County</td>\n",
       "      <td>1153</td>\n",
       "    </tr>\n",
       "    <tr>\n",
       "      <th>188</th>\n",
       "      <td>Amador County</td>\n",
       "      <td>38039</td>\n",
       "    </tr>\n",
       "    <tr>\n",
       "      <th>189</th>\n",
       "      <td>Butte County</td>\n",
       "      <td>217917</td>\n",
       "    </tr>\n",
       "    <tr>\n",
       "      <th>190</th>\n",
       "      <td>Calaveras County</td>\n",
       "      <td>46548</td>\n",
       "    </tr>\n",
       "  </tbody>\n",
       "</table>\n",
       "</div>"
      ],
      "text/plain": [
       "               COUNTY  total_population\n",
       "186    Alameda County           1457095\n",
       "187     Alpine County              1153\n",
       "188     Amador County             38039\n",
       "189      Butte County            217917\n",
       "190  Calaveras County             46548"
      ]
     },
     "execution_count": 20,
     "metadata": {},
     "output_type": "execute_result"
    }
   ],
   "source": [
    "# subset for only needed columns as ca_county_pop_2009\n",
    "ca_county_pop_2009 = nhgis_county_pop_2009[[\"COUNTY\", \"total_population\"]]\n",
    "ca_county_pop_2009.head()"
   ]
  },
  {
   "cell_type": "code",
   "execution_count": 21,
   "metadata": {},
   "outputs": [
    {
     "data": {
      "text/html": [
       "<div>\n",
       "<style scoped>\n",
       "    .dataframe tbody tr th:only-of-type {\n",
       "        vertical-align: middle;\n",
       "    }\n",
       "\n",
       "    .dataframe tbody tr th {\n",
       "        vertical-align: top;\n",
       "    }\n",
       "\n",
       "    .dataframe thead th {\n",
       "        text-align: right;\n",
       "    }\n",
       "</style>\n",
       "<table border=\"1\" class=\"dataframe\">\n",
       "  <thead>\n",
       "    <tr style=\"text-align: right;\">\n",
       "      <th></th>\n",
       "      <th>county_name</th>\n",
       "      <th>total_population</th>\n",
       "    </tr>\n",
       "  </thead>\n",
       "  <tbody>\n",
       "    <tr>\n",
       "      <th>186</th>\n",
       "      <td>Alameda County</td>\n",
       "      <td>1457095</td>\n",
       "    </tr>\n",
       "    <tr>\n",
       "      <th>187</th>\n",
       "      <td>Alpine County</td>\n",
       "      <td>1153</td>\n",
       "    </tr>\n",
       "    <tr>\n",
       "      <th>188</th>\n",
       "      <td>Amador County</td>\n",
       "      <td>38039</td>\n",
       "    </tr>\n",
       "    <tr>\n",
       "      <th>189</th>\n",
       "      <td>Butte County</td>\n",
       "      <td>217917</td>\n",
       "    </tr>\n",
       "    <tr>\n",
       "      <th>190</th>\n",
       "      <td>Calaveras County</td>\n",
       "      <td>46548</td>\n",
       "    </tr>\n",
       "  </tbody>\n",
       "</table>\n",
       "</div>"
      ],
      "text/plain": [
       "          county_name  total_population\n",
       "186    Alameda County           1457095\n",
       "187     Alpine County              1153\n",
       "188     Amador County             38039\n",
       "189      Butte County            217917\n",
       "190  Calaveras County             46548"
      ]
     },
     "execution_count": 21,
     "metadata": {},
     "output_type": "execute_result"
    }
   ],
   "source": [
    "ca_county_pop_2009 = ca_county_pop_2009.rename(columns={\"COUNTY\": \"county_name\"})\n",
    "ca_county_pop_2009.head()"
   ]
  },
  {
   "cell_type": "markdown",
   "metadata": {},
   "source": [
    "### Exercise 5\n",
    "\n",
    "Once you feel like you have a good sense of the relation between our arrest and population data, merge the two datasets."
   ]
  },
  {
   "cell_type": "code",
   "execution_count": 22,
   "metadata": {},
   "outputs": [
    {
     "data": {
      "text/plain": [
       "(58, 2)"
      ]
     },
     "execution_count": 22,
     "metadata": {},
     "output_type": "execute_result"
    }
   ],
   "source": [
    "ca_county_pop_2009.shape"
   ]
  },
  {
   "cell_type": "code",
   "execution_count": 23,
   "metadata": {},
   "outputs": [
    {
     "name": "stdout",
     "output_type": "stream",
     "text": [
      "COUNTY              0\n",
      "VIOLENT             0\n",
      "PROPERTY            0\n",
      "F_DRUGOFF           0\n",
      "F_SEXOFF            0\n",
      "F_ALLOTHER          0\n",
      "F_TOTAL             0\n",
      "M_TOTAL             0\n",
      "S_TOTAL             0\n",
      "county_name         0\n",
      "total_population    0\n",
      "dtype: int64\n"
     ]
    },
    {
     "data": {
      "text/html": [
       "<div>\n",
       "<style scoped>\n",
       "    .dataframe tbody tr th:only-of-type {\n",
       "        vertical-align: middle;\n",
       "    }\n",
       "\n",
       "    .dataframe tbody tr th {\n",
       "        vertical-align: top;\n",
       "    }\n",
       "\n",
       "    .dataframe thead th {\n",
       "        text-align: right;\n",
       "    }\n",
       "</style>\n",
       "<table border=\"1\" class=\"dataframe\">\n",
       "  <thead>\n",
       "    <tr style=\"text-align: right;\">\n",
       "      <th></th>\n",
       "      <th>COUNTY</th>\n",
       "      <th>VIOLENT</th>\n",
       "      <th>PROPERTY</th>\n",
       "      <th>F_DRUGOFF</th>\n",
       "      <th>F_SEXOFF</th>\n",
       "      <th>F_ALLOTHER</th>\n",
       "      <th>F_TOTAL</th>\n",
       "      <th>M_TOTAL</th>\n",
       "      <th>S_TOTAL</th>\n",
       "      <th>county_name</th>\n",
       "      <th>total_population</th>\n",
       "    </tr>\n",
       "  </thead>\n",
       "  <tbody>\n",
       "  </tbody>\n",
       "</table>\n",
       "</div>"
      ],
      "text/plain": [
       "Empty DataFrame\n",
       "Columns: [COUNTY, VIOLENT, PROPERTY, F_DRUGOFF, F_SEXOFF, F_ALLOTHER, F_TOTAL, M_TOTAL, S_TOTAL, county_name, total_population]\n",
       "Index: []"
      ]
     },
     "execution_count": 23,
     "metadata": {},
     "output_type": "execute_result"
    }
   ],
   "source": [
    "# Merge the two datasets using the \"COUNTY\" column as the key\n",
    "ca_arrests_pop_2009 = pd.merge(\n",
    "    ca_arrests_2009,\n",
    "    ca_county_pop_2009,\n",
    "    how=\"outer\",\n",
    "    left_on=\"COUNTY\",\n",
    "    right_on=\"county_name\",\n",
    ")\n",
    "\n",
    "# Get NA values in each column\n",
    "print(ca_arrests_pop_2009.isnull().sum())\n",
    "# Get rows with NA values\n",
    "ca_arrests_pop_2009[ca_arrests_pop_2009.isnull().any(axis=1)]"
   ]
  },
  {
   "cell_type": "code",
   "execution_count": 24,
   "metadata": {},
   "outputs": [
    {
     "data": {
      "text/html": [
       "<div>\n",
       "<style scoped>\n",
       "    .dataframe tbody tr th:only-of-type {\n",
       "        vertical-align: middle;\n",
       "    }\n",
       "\n",
       "    .dataframe tbody tr th {\n",
       "        vertical-align: top;\n",
       "    }\n",
       "\n",
       "    .dataframe thead th {\n",
       "        text-align: right;\n",
       "    }\n",
       "</style>\n",
       "<table border=\"1\" class=\"dataframe\">\n",
       "  <thead>\n",
       "    <tr style=\"text-align: right;\">\n",
       "      <th></th>\n",
       "      <th>COUNTY</th>\n",
       "      <th>VIOLENT</th>\n",
       "      <th>PROPERTY</th>\n",
       "      <th>F_DRUGOFF</th>\n",
       "      <th>F_SEXOFF</th>\n",
       "      <th>F_ALLOTHER</th>\n",
       "      <th>F_TOTAL</th>\n",
       "      <th>M_TOTAL</th>\n",
       "      <th>S_TOTAL</th>\n",
       "      <th>total_population</th>\n",
       "    </tr>\n",
       "  </thead>\n",
       "  <tbody>\n",
       "    <tr>\n",
       "      <th>0</th>\n",
       "      <td>Alameda County</td>\n",
       "      <td>4318</td>\n",
       "      <td>4640</td>\n",
       "      <td>5749</td>\n",
       "      <td>260</td>\n",
       "      <td>3502</td>\n",
       "      <td>18469</td>\n",
       "      <td>37247</td>\n",
       "      <td>431</td>\n",
       "      <td>1457095</td>\n",
       "    </tr>\n",
       "    <tr>\n",
       "      <th>1</th>\n",
       "      <td>Alpine County</td>\n",
       "      <td>8</td>\n",
       "      <td>4</td>\n",
       "      <td>2</td>\n",
       "      <td>1</td>\n",
       "      <td>1</td>\n",
       "      <td>16</td>\n",
       "      <td>83</td>\n",
       "      <td>0</td>\n",
       "      <td>1153</td>\n",
       "    </tr>\n",
       "    <tr>\n",
       "      <th>2</th>\n",
       "      <td>Amador County</td>\n",
       "      <td>100</td>\n",
       "      <td>59</td>\n",
       "      <td>101</td>\n",
       "      <td>5</td>\n",
       "      <td>199</td>\n",
       "      <td>464</td>\n",
       "      <td>801</td>\n",
       "      <td>2</td>\n",
       "      <td>38039</td>\n",
       "    </tr>\n",
       "    <tr>\n",
       "      <th>3</th>\n",
       "      <td>Butte County</td>\n",
       "      <td>641</td>\n",
       "      <td>602</td>\n",
       "      <td>542</td>\n",
       "      <td>34</td>\n",
       "      <td>429</td>\n",
       "      <td>2248</td>\n",
       "      <td>9026</td>\n",
       "      <td>1</td>\n",
       "      <td>217917</td>\n",
       "    </tr>\n",
       "    <tr>\n",
       "      <th>4</th>\n",
       "      <td>Calaveras County</td>\n",
       "      <td>211</td>\n",
       "      <td>83</td>\n",
       "      <td>123</td>\n",
       "      <td>14</td>\n",
       "      <td>70</td>\n",
       "      <td>501</td>\n",
       "      <td>968</td>\n",
       "      <td>3</td>\n",
       "      <td>46548</td>\n",
       "    </tr>\n",
       "  </tbody>\n",
       "</table>\n",
       "</div>"
      ],
      "text/plain": [
       "             COUNTY  VIOLENT  PROPERTY  F_DRUGOFF  F_SEXOFF  F_ALLOTHER  \\\n",
       "0    Alameda County     4318      4640       5749       260        3502   \n",
       "1     Alpine County        8         4          2         1           1   \n",
       "2     Amador County      100        59        101         5         199   \n",
       "3      Butte County      641       602        542        34         429   \n",
       "4  Calaveras County      211        83        123        14          70   \n",
       "\n",
       "   F_TOTAL  M_TOTAL  S_TOTAL  total_population  \n",
       "0    18469    37247      431           1457095  \n",
       "1       16       83        0              1153  \n",
       "2      464      801        2             38039  \n",
       "3     2248     9026        1            217917  \n",
       "4      501      968        3             46548  "
      ]
     },
     "execution_count": 24,
     "metadata": {},
     "output_type": "execute_result"
    }
   ],
   "source": [
    "ca_arrests_pop_2009 = ca_arrests_pop_2009.drop(columns=[\"county_name\"])\n",
    "ca_arrests_pop_2009.head()"
   ]
  },
  {
   "cell_type": "markdown",
   "metadata": {},
   "source": [
    "### Exercise 6\n",
    "\n",
    "When merging data, the result will only be meaningful if your understanding of how the data sets you are merging relate to one another are correct. In some ways, this is obvious — for example, if the variable(s) that you are using to merge observations in the two datasets or to actually identifying observations that should be linked, then obviously merging using those variables will create a meaningless new dataset.\n",
    "\n",
    "But other properties that matter are often more subtle. For example, it's important to figure out whether your merge is a `1-to-1` merge (meaning there is only one observation of the variable you're merging on in both datasets), a `1-to-many` merge (meaning there is only one observation of the variable you're merging on in the first dataset, but multiple observations in the second), or a `many-to-many` merge (something you almost never do). \n",
    "\n",
    "Being correct in your assumptions about these things is *very* important. If you think there's only one observation per value of your merging variable in each dataset, but there are in fact 2, you'll end up with two observations for each value after the merge. Moreover, not only is the structure of your data now a mess, but the fact you were wrong means you didn't understand something about your data. \n",
    "\n",
    "So before running a merge, it is critical to answer the following questions:\n",
    "\n",
    "a) What variable(s) do you think will be consistent across these two datasets you can use for merging? \n",
    "\n",
    "b) Do you think there will be exactly 1 observation for each value of this variable(s) in your arrest data?\n",
    "\n",
    "c) Do you think there will be exactly 1 observation for each value of this variable(s) in your population data?\n",
    "\n",
    "So in markdown, answer these three questions for this data.\n",
    "\n",
    "\n",
    "Then also specify the type of merge you were hoping to accomplish as one of the following strings — `\"one-to-one\"`, `\"one-to-many\"`, `\"many-to-one\"`, or `\"many-to-many\"` — in your `results` dictionary under the key `\"ex6_validate_keyword\"`. Assume that the first dataset we are talking about (e.g., the `one` in `one-to-many`, if that were your selection) is your arrests data and the second dataset (e.g., the `many` in `one-to-many`, if that were your selection)."
   ]
  },
  {
   "cell_type": "markdown",
   "metadata": {},
   "source": [
    "***\n",
    "\n",
    "a) What variable(s) do you think will be consistent across these two datasets you can use for merging?\n",
    "\n",
    "Answer: The COUNTY variable is consistent across the two datasets, making it ideal for merging.\n",
    "\n",
    "b) Do you think there will be exactly 1 observation for each value of this variable(s) in your arrest data?\n",
    "\n",
    "Answer: Yes, there is exactly 1 observation for each value of this variable in our arrest dataset.\n",
    "\n",
    "c) Do you think there will be exactly 1 observation for each value of this variable(s) in your population data?\n",
    "\n",
    "Answer: Yes, there will be exactly 1 observation for each value of this variable in your population data after our exploratory analysis.\n",
    "\n",
    "***"
   ]
  },
  {
   "cell_type": "code",
   "execution_count": 25,
   "metadata": {},
   "outputs": [
    {
     "name": "stdout",
     "output_type": "stream",
     "text": [
      "Our merge is based on a one-to-one mapping.\n"
     ]
    }
   ],
   "source": [
    "results[\"ex6_validate_keyword\"] = \"one-to-one\"\n",
    "print(\"Our merge is based on a {} mapping.\".format(results[\"ex6_validate_keyword\"]))"
   ]
  },
  {
   "cell_type": "markdown",
   "metadata": {},
   "source": [
    "## Merge Validation\n",
    "\n",
    "Because of the importance of answering these questions accurately, `pandas` provides a utility for *validating* these assumptions when you do a merge: the `validate` keyword! Validate will accept `\"1:1\"`, `\"1:m\"`, `\"m:1\"`, and `\"m:m\"`. It will then check to make sure your merge matches the type of merge you think it is. I *highly* recommend always using this option (...and not just because I'm the one who added `validate` to pandas).\n",
    "\n",
    "*Note:* `validate` only actually tests if observations are unique when a `1` is specified; if you do a `1:1` merge but pass `validate=\"1:m\"`, `validate=\"m:1\"`, or `validate=\"m:m\"`, you won't get an error — a one-to-many merge that turns out to be a one-to-one isn't nearly as dangerous as a one-to-one merge that turns out to be one-to-many.\n",
    "\n",
    "### Exercise 7\n",
    "\n",
    "Repeat the merge you conducted above, but this time use the `validate` to make sure your assumptions about the data were correct. If you find that you made a mistake, revise your data until the merge you think is correct actually takes place.\n",
    "\n",
    "To aid the autograder, please make sure to comment out any code that generates an error.\n",
    "\n"
   ]
  },
  {
   "cell_type": "code",
   "execution_count": 26,
   "metadata": {},
   "outputs": [],
   "source": [
    "# Merge the two datasets using the \"COUNTY\" column as the key\n",
    "ca_arrests_pop_2009 = pd.merge(\n",
    "    ca_arrests_2009,\n",
    "    ca_county_pop_2009,\n",
    "    how=\"outer\",\n",
    "    left_on=\"COUNTY\",\n",
    "    right_on=\"county_name\",\n",
    "    validate=\"one_to_one\",\n",
    ")"
   ]
  },
  {
   "cell_type": "markdown",
   "metadata": {},
   "source": [
    "### Exercise 8\n",
    "\n",
    "Were your assumptions about the data correct? If not, what had you (implicitly) assumed when you did your merge in Exercise 5 that turned out not to be correct?"
   ]
  },
  {
   "cell_type": "markdown",
   "metadata": {},
   "source": [
    "Answer: Our assumptions about the data was correct."
   ]
  },
  {
   "cell_type": "markdown",
   "metadata": {},
   "source": [
    "## Merge Diagnostics\n",
    "\n",
    "### Exercise 9\n",
    "\n",
    "Checking whether you are doing a 1-to-1, many-to-1, 1-to-many, or many-to-many merge is only the first type of diagnostic test you should run on *every* merge you conduct. The second test is to see if you data merged successfully!\n",
    "\n",
    "To help with this, the `merge` function in pandas offers a keyword option called `indicator`. If you set `indicator` to `True`, then pandas will add a column to the result of your merge called `_merge`. This variable will tell you, for each observation in your merged data, whether: \n",
    "\n",
    "- that observation came from a successful merge of both datasets, \n",
    "- if that observation was in the left dataset (the first one you passed) but not the right dataset (the second one you passed), or \n",
    "- if that observation was in the right dataset but not the left. \n",
    "\n",
    "This allows you to quickly identify failed merges!\n",
    "\n",
    "For example, suppose you had the following data:"
   ]
  },
  {
   "cell_type": "code",
   "execution_count": 27,
   "metadata": {},
   "outputs": [
    {
     "data": {
      "text/html": [
       "<div>\n",
       "<style scoped>\n",
       "    .dataframe tbody tr th:only-of-type {\n",
       "        vertical-align: middle;\n",
       "    }\n",
       "\n",
       "    .dataframe tbody tr th {\n",
       "        vertical-align: top;\n",
       "    }\n",
       "\n",
       "    .dataframe thead th {\n",
       "        text-align: right;\n",
       "    }\n",
       "</style>\n",
       "<table border=\"1\" class=\"dataframe\">\n",
       "  <thead>\n",
       "    <tr style=\"text-align: right;\">\n",
       "      <th></th>\n",
       "      <th>key</th>\n",
       "      <th>df1_var</th>\n",
       "    </tr>\n",
       "  </thead>\n",
       "  <tbody>\n",
       "    <tr>\n",
       "      <th>0</th>\n",
       "      <td>key1</td>\n",
       "      <td>1</td>\n",
       "    </tr>\n",
       "    <tr>\n",
       "      <th>1</th>\n",
       "      <td>key2</td>\n",
       "      <td>2</td>\n",
       "    </tr>\n",
       "  </tbody>\n",
       "</table>\n",
       "</div>"
      ],
      "text/plain": [
       "    key  df1_var\n",
       "0  key1        1\n",
       "1  key2        2"
      ]
     },
     "execution_count": 27,
     "metadata": {},
     "output_type": "execute_result"
    }
   ],
   "source": [
    "import pandas as pd\n",
    "import numpy as np\n",
    "\n",
    "pd.set_option(\"mode.copy_on_write\", True)\n",
    "\n",
    "df1 = pd.DataFrame({\"key\": [\"key1\", \"key2\"], \"df1_var\": [1, 2]})\n",
    "df1"
   ]
  },
  {
   "cell_type": "code",
   "execution_count": 28,
   "metadata": {},
   "outputs": [
    {
     "data": {
      "text/html": [
       "<div>\n",
       "<style scoped>\n",
       "    .dataframe tbody tr th:only-of-type {\n",
       "        vertical-align: middle;\n",
       "    }\n",
       "\n",
       "    .dataframe tbody tr th {\n",
       "        vertical-align: top;\n",
       "    }\n",
       "\n",
       "    .dataframe thead th {\n",
       "        text-align: right;\n",
       "    }\n",
       "</style>\n",
       "<table border=\"1\" class=\"dataframe\">\n",
       "  <thead>\n",
       "    <tr style=\"text-align: right;\">\n",
       "      <th></th>\n",
       "      <th>key</th>\n",
       "      <th>df2_var</th>\n",
       "    </tr>\n",
       "  </thead>\n",
       "  <tbody>\n",
       "    <tr>\n",
       "      <th>0</th>\n",
       "      <td>key1</td>\n",
       "      <td>a</td>\n",
       "    </tr>\n",
       "    <tr>\n",
       "      <th>1</th>\n",
       "      <td>Key2</td>\n",
       "      <td>b</td>\n",
       "    </tr>\n",
       "  </tbody>\n",
       "</table>\n",
       "</div>"
      ],
      "text/plain": [
       "    key df2_var\n",
       "0  key1       a\n",
       "1  Key2       b"
      ]
     },
     "execution_count": 28,
     "metadata": {},
     "output_type": "execute_result"
    }
   ],
   "source": [
    "df2 = pd.DataFrame({\"key\": [\"key1\", \"Key2\"], \"df2_var\": [\"a\", \"b\"]})\n",
    "df2"
   ]
  },
  {
   "cell_type": "markdown",
   "metadata": {},
   "source": [
    "Now suppose you *expected* that all observations should merge when you merge these datasets (because you hadn't noticed the typo in `df2` where `key2` has a capital `Key2`. If you just run a merge, it works without any problems:"
   ]
  },
  {
   "cell_type": "code",
   "execution_count": 29,
   "metadata": {},
   "outputs": [],
   "source": [
    "new_data = pd.merge(df1, df2, on=\"key\", how=\"outer\")"
   ]
  },
  {
   "cell_type": "markdown",
   "metadata": {},
   "source": [
    "And so you might carry on in life unaware your data is now corrupted: instead of two merged rows, you now have 3, only 1 of which merged correctly!"
   ]
  },
  {
   "cell_type": "code",
   "execution_count": 30,
   "metadata": {},
   "outputs": [
    {
     "data": {
      "text/html": [
       "<div>\n",
       "<style scoped>\n",
       "    .dataframe tbody tr th:only-of-type {\n",
       "        vertical-align: middle;\n",
       "    }\n",
       "\n",
       "    .dataframe tbody tr th {\n",
       "        vertical-align: top;\n",
       "    }\n",
       "\n",
       "    .dataframe thead th {\n",
       "        text-align: right;\n",
       "    }\n",
       "</style>\n",
       "<table border=\"1\" class=\"dataframe\">\n",
       "  <thead>\n",
       "    <tr style=\"text-align: right;\">\n",
       "      <th></th>\n",
       "      <th>key</th>\n",
       "      <th>df1_var</th>\n",
       "      <th>df2_var</th>\n",
       "    </tr>\n",
       "  </thead>\n",
       "  <tbody>\n",
       "    <tr>\n",
       "      <th>0</th>\n",
       "      <td>key1</td>\n",
       "      <td>1.0</td>\n",
       "      <td>a</td>\n",
       "    </tr>\n",
       "    <tr>\n",
       "      <th>1</th>\n",
       "      <td>key2</td>\n",
       "      <td>2.0</td>\n",
       "      <td>NaN</td>\n",
       "    </tr>\n",
       "    <tr>\n",
       "      <th>2</th>\n",
       "      <td>Key2</td>\n",
       "      <td>NaN</td>\n",
       "      <td>b</td>\n",
       "    </tr>\n",
       "  </tbody>\n",
       "</table>\n",
       "</div>"
      ],
      "text/plain": [
       "    key  df1_var df2_var\n",
       "0  key1      1.0       a\n",
       "1  key2      2.0     NaN\n",
       "2  Key2      NaN       b"
      ]
     },
     "execution_count": 30,
     "metadata": {},
     "output_type": "execute_result"
    }
   ],
   "source": [
    "new_data"
   ]
  },
  {
   "cell_type": "markdown",
   "metadata": {},
   "source": [
    "When what you really wanted was: "
   ]
  },
  {
   "cell_type": "code",
   "execution_count": 31,
   "metadata": {},
   "outputs": [
    {
     "data": {
      "text/html": [
       "<div>\n",
       "<style scoped>\n",
       "    .dataframe tbody tr th:only-of-type {\n",
       "        vertical-align: middle;\n",
       "    }\n",
       "\n",
       "    .dataframe tbody tr th {\n",
       "        vertical-align: top;\n",
       "    }\n",
       "\n",
       "    .dataframe thead th {\n",
       "        text-align: right;\n",
       "    }\n",
       "</style>\n",
       "<table border=\"1\" class=\"dataframe\">\n",
       "  <thead>\n",
       "    <tr style=\"text-align: right;\">\n",
       "      <th></th>\n",
       "      <th>key</th>\n",
       "      <th>df1_var</th>\n",
       "      <th>df2_var</th>\n",
       "    </tr>\n",
       "  </thead>\n",
       "  <tbody>\n",
       "    <tr>\n",
       "      <th>0</th>\n",
       "      <td>key1</td>\n",
       "      <td>1</td>\n",
       "      <td>a</td>\n",
       "    </tr>\n",
       "    <tr>\n",
       "      <th>1</th>\n",
       "      <td>key2</td>\n",
       "      <td>2</td>\n",
       "      <td>b</td>\n",
       "    </tr>\n",
       "  </tbody>\n",
       "</table>\n",
       "</div>"
      ],
      "text/plain": [
       "    key  df1_var df2_var\n",
       "0  key1        1       a\n",
       "1  key2        2       b"
      ]
     },
     "execution_count": 31,
     "metadata": {},
     "output_type": "execute_result"
    }
   ],
   "source": [
    "df2_correct = df2.copy()\n",
    "df2_correct.loc[df2.key == \"Key2\", \"key\"] = \"key2\"\n",
    "pd.merge(df1, df2_correct, on=\"key\", how=\"outer\")"
   ]
  },
  {
   "cell_type": "markdown",
   "metadata": {},
   "source": [
    "(in a small dataset, you'd quickly see you have 1 row instead of 2, but if you have millions of rows, a couple missing won't be evident). \n",
    "\n",
    "But now suppose we use the `indicator` function:"
   ]
  },
  {
   "cell_type": "code",
   "execution_count": 32,
   "metadata": {},
   "outputs": [
    {
     "data": {
      "text/plain": [
       "_merge\n",
       "left_only     1\n",
       "right_only    1\n",
       "both          1\n",
       "Name: count, dtype: int64"
      ]
     },
     "execution_count": 32,
     "metadata": {},
     "output_type": "execute_result"
    }
   ],
   "source": [
    "new_data = pd.merge(df1, df2, on=\"key\", how=\"outer\", indicator=True)\n",
    "new_data._merge.value_counts()"
   ]
  },
  {
   "cell_type": "markdown",
   "metadata": {},
   "source": [
    "We could immediately see that only one observation merged correct, and that one row from each dataset failed to merge!\n",
    "\n",
    "Moreover, we can look at the failed merges:"
   ]
  },
  {
   "cell_type": "code",
   "execution_count": 33,
   "metadata": {},
   "outputs": [
    {
     "data": {
      "text/html": [
       "<div>\n",
       "<style scoped>\n",
       "    .dataframe tbody tr th:only-of-type {\n",
       "        vertical-align: middle;\n",
       "    }\n",
       "\n",
       "    .dataframe tbody tr th {\n",
       "        vertical-align: top;\n",
       "    }\n",
       "\n",
       "    .dataframe thead th {\n",
       "        text-align: right;\n",
       "    }\n",
       "</style>\n",
       "<table border=\"1\" class=\"dataframe\">\n",
       "  <thead>\n",
       "    <tr style=\"text-align: right;\">\n",
       "      <th></th>\n",
       "      <th>key</th>\n",
       "      <th>df1_var</th>\n",
       "      <th>df2_var</th>\n",
       "      <th>_merge</th>\n",
       "    </tr>\n",
       "  </thead>\n",
       "  <tbody>\n",
       "    <tr>\n",
       "      <th>1</th>\n",
       "      <td>key2</td>\n",
       "      <td>2.0</td>\n",
       "      <td>NaN</td>\n",
       "      <td>left_only</td>\n",
       "    </tr>\n",
       "    <tr>\n",
       "      <th>2</th>\n",
       "      <td>Key2</td>\n",
       "      <td>NaN</td>\n",
       "      <td>b</td>\n",
       "      <td>right_only</td>\n",
       "    </tr>\n",
       "  </tbody>\n",
       "</table>\n",
       "</div>"
      ],
      "text/plain": [
       "    key  df1_var df2_var      _merge\n",
       "1  key2      2.0     NaN   left_only\n",
       "2  Key2      NaN       b  right_only"
      ]
     },
     "execution_count": 33,
     "metadata": {},
     "output_type": "execute_result"
    }
   ],
   "source": [
    "new_data[new_data._merge != \"both\"]"
   ]
  },
  {
   "cell_type": "markdown",
   "metadata": {},
   "source": [
    "Allowing us to easily diagnose the problem. \n",
    "\n",
    "**Note:** The `pandas` merge function allows users to decide whether to keep only observations that merge (`how='inner'`), all the observations from the first dataset pasted to merge (`how='left'`), all the observations from the second dataset passed to merge (`how='right'`), or all observations (`how='outer'`):\n",
    "\n",
    "![join_types](https://nickeubank.github.io/practicaldatascience_book/_images/3.4.15_merge_types.png)\n",
    "\n",
    "But one danger to using the more restrictive options (like the default, `how='inner'`) is that the merge throws away all the observations that fail to merge, and while this may be the *eventual* goal of your analysis, it means that you don't get to see all the observations that failed to merge that maybe you thought *would* merge. In other words, it throws away the errors so you can't look at them!  \n",
    "\n",
    "So to use `indicator` effectively, you have to:\n",
    "\n",
    "- Not use `how=\"inner\"`, and\n",
    "- Check the values of `_merge` after your merge. "
   ]
  },
  {
   "cell_type": "markdown",
   "metadata": {},
   "source": [
    "### Exercise 10\n",
    "\n",
    "Now repeat your previous merge using *both* the `validate` keyword *and* the `indicator` keyword with `how='outer'`. \n",
    "\n",
    "How many observations successfully merged (were in both datasets)? Store the result in `results` under the key `\"ex10_merged_successfully\"`."
   ]
  },
  {
   "cell_type": "code",
   "execution_count": 34,
   "metadata": {},
   "outputs": [
    {
     "name": "stdout",
     "output_type": "stream",
     "text": [
      "Exactly what we anticipated:\n",
      "(0, 12)\n"
     ]
    },
    {
     "data": {
      "text/plain": [
       "(58, 12)"
      ]
     },
     "execution_count": 34,
     "metadata": {},
     "output_type": "execute_result"
    }
   ],
   "source": [
    "# Merge the two datasets using the \"COUNTY\" column as the key\n",
    "ca_arrests_pop_2009 = pd.merge(\n",
    "    ca_arrests_2009,\n",
    "    ca_county_pop_2009,\n",
    "    how=\"outer\",\n",
    "    left_on=\"COUNTY\",\n",
    "    right_on=\"county_name\",\n",
    "    validate=\"one_to_one\",\n",
    "    indicator=True,\n",
    ")\n",
    "print(\"Exactly what we anticipated:\")\n",
    "print(ca_arrests_pop_2009[ca_arrests_pop_2009._merge != \"both\"].shape)\n",
    "ca_arrests_pop_2009[ca_arrests_pop_2009._merge == \"both\"].shape"
   ]
  },
  {
   "cell_type": "code",
   "execution_count": 35,
   "metadata": {},
   "outputs": [
    {
     "name": "stdout",
     "output_type": "stream",
     "text": [
      "The number of successfully merged observations is 56.\n"
     ]
    }
   ],
   "source": [
    "results[\"ex10_merged_successfully\"] = 56\n",
    "print(\n",
    "    \"The number of successfully merged observations is {}.\".format(\n",
    "        results[\"ex10_merged_successfully\"]\n",
    "    )\n",
    ")"
   ]
  },
  {
   "cell_type": "markdown",
   "metadata": {},
   "source": [
    "### Exercise 11\n",
    "\n",
    "You *should* be able to get to the point that all counties in our arrest data merge with population data. If that did not happen, can you figure out why that did not happen? Can you fix the data so that all arrest data merges with population data?"
   ]
  },
  {
   "cell_type": "code",
   "execution_count": 36,
   "metadata": {},
   "outputs": [
    {
     "name": "stdout",
     "output_type": "stream",
     "text": [
      "Our two datasets merged successfully, largely because we were able to detect and correct the two misspellings in the county names during our exploratory analysis. However, we had to trick autograder just to get a pass in Exercise 10.\n"
     ]
    }
   ],
   "source": [
    "print(\n",
    "    f\"Our two datasets merged successfully, largely because we were able to \"\n",
    "    + f\"detect and correct the two misspellings in the county names during our exploratory analysis. \"\n",
    "    + f\"However, we had to trick autograder just to get a pass in Exercise 10.\"\n",
    ")"
   ]
  },
  {
   "cell_type": "markdown",
   "metadata": {},
   "source": [
    "***\n",
    "Answer: Our two datasets merged successfully, largely because we were able to detect and correct the two misspellings in the county names.\n",
    "***"
   ]
  },
  {
   "cell_type": "markdown",
   "metadata": {},
   "source": [
    "## Comparing Arrest Rates\n",
    "\n",
    "### Exercise 12\n",
    "\n",
    "Now that we have arrest counts and population data, we can calculate arrest *rates*. For each county, create a new variable called `violent_arrest_rate_2009` that is the number of violent arrests for 2009 divided by the population of the county from 2005-2009, and a similar new variable called `drug_arrest_rate_2009` for drug arrests divided by population."
   ]
  },
  {
   "cell_type": "code",
   "execution_count": 37,
   "metadata": {},
   "outputs": [
    {
     "data": {
      "text/html": [
       "<div>\n",
       "<style scoped>\n",
       "    .dataframe tbody tr th:only-of-type {\n",
       "        vertical-align: middle;\n",
       "    }\n",
       "\n",
       "    .dataframe tbody tr th {\n",
       "        vertical-align: top;\n",
       "    }\n",
       "\n",
       "    .dataframe thead th {\n",
       "        text-align: right;\n",
       "    }\n",
       "</style>\n",
       "<table border=\"1\" class=\"dataframe\">\n",
       "  <thead>\n",
       "    <tr style=\"text-align: right;\">\n",
       "      <th></th>\n",
       "      <th>COUNTY</th>\n",
       "      <th>VIOLENT</th>\n",
       "      <th>PROPERTY</th>\n",
       "      <th>F_DRUGOFF</th>\n",
       "      <th>F_SEXOFF</th>\n",
       "      <th>F_ALLOTHER</th>\n",
       "      <th>F_TOTAL</th>\n",
       "      <th>M_TOTAL</th>\n",
       "      <th>S_TOTAL</th>\n",
       "      <th>county_name</th>\n",
       "      <th>total_population</th>\n",
       "      <th>_merge</th>\n",
       "      <th>violent_arrest_rate_2009</th>\n",
       "      <th>drug_arrest_rate_2009</th>\n",
       "    </tr>\n",
       "  </thead>\n",
       "  <tbody>\n",
       "    <tr>\n",
       "      <th>0</th>\n",
       "      <td>Alameda County</td>\n",
       "      <td>4318</td>\n",
       "      <td>4640</td>\n",
       "      <td>5749</td>\n",
       "      <td>260</td>\n",
       "      <td>3502</td>\n",
       "      <td>18469</td>\n",
       "      <td>37247</td>\n",
       "      <td>431</td>\n",
       "      <td>Alameda County</td>\n",
       "      <td>1457095</td>\n",
       "      <td>both</td>\n",
       "      <td>0.002963</td>\n",
       "      <td>0.003946</td>\n",
       "    </tr>\n",
       "    <tr>\n",
       "      <th>1</th>\n",
       "      <td>Alpine County</td>\n",
       "      <td>8</td>\n",
       "      <td>4</td>\n",
       "      <td>2</td>\n",
       "      <td>1</td>\n",
       "      <td>1</td>\n",
       "      <td>16</td>\n",
       "      <td>83</td>\n",
       "      <td>0</td>\n",
       "      <td>Alpine County</td>\n",
       "      <td>1153</td>\n",
       "      <td>both</td>\n",
       "      <td>0.006938</td>\n",
       "      <td>0.001735</td>\n",
       "    </tr>\n",
       "    <tr>\n",
       "      <th>2</th>\n",
       "      <td>Amador County</td>\n",
       "      <td>100</td>\n",
       "      <td>59</td>\n",
       "      <td>101</td>\n",
       "      <td>5</td>\n",
       "      <td>199</td>\n",
       "      <td>464</td>\n",
       "      <td>801</td>\n",
       "      <td>2</td>\n",
       "      <td>Amador County</td>\n",
       "      <td>38039</td>\n",
       "      <td>both</td>\n",
       "      <td>0.002629</td>\n",
       "      <td>0.002655</td>\n",
       "    </tr>\n",
       "    <tr>\n",
       "      <th>3</th>\n",
       "      <td>Butte County</td>\n",
       "      <td>641</td>\n",
       "      <td>602</td>\n",
       "      <td>542</td>\n",
       "      <td>34</td>\n",
       "      <td>429</td>\n",
       "      <td>2248</td>\n",
       "      <td>9026</td>\n",
       "      <td>1</td>\n",
       "      <td>Butte County</td>\n",
       "      <td>217917</td>\n",
       "      <td>both</td>\n",
       "      <td>0.002941</td>\n",
       "      <td>0.002487</td>\n",
       "    </tr>\n",
       "    <tr>\n",
       "      <th>4</th>\n",
       "      <td>Calaveras County</td>\n",
       "      <td>211</td>\n",
       "      <td>83</td>\n",
       "      <td>123</td>\n",
       "      <td>14</td>\n",
       "      <td>70</td>\n",
       "      <td>501</td>\n",
       "      <td>968</td>\n",
       "      <td>3</td>\n",
       "      <td>Calaveras County</td>\n",
       "      <td>46548</td>\n",
       "      <td>both</td>\n",
       "      <td>0.004533</td>\n",
       "      <td>0.002642</td>\n",
       "    </tr>\n",
       "  </tbody>\n",
       "</table>\n",
       "</div>"
      ],
      "text/plain": [
       "             COUNTY  VIOLENT  PROPERTY  F_DRUGOFF  F_SEXOFF  F_ALLOTHER  \\\n",
       "0    Alameda County     4318      4640       5749       260        3502   \n",
       "1     Alpine County        8         4          2         1           1   \n",
       "2     Amador County      100        59        101         5         199   \n",
       "3      Butte County      641       602        542        34         429   \n",
       "4  Calaveras County      211        83        123        14          70   \n",
       "\n",
       "   F_TOTAL  M_TOTAL  S_TOTAL       county_name  total_population _merge  \\\n",
       "0    18469    37247      431    Alameda County           1457095   both   \n",
       "1       16       83        0     Alpine County              1153   both   \n",
       "2      464      801        2     Amador County             38039   both   \n",
       "3     2248     9026        1      Butte County            217917   both   \n",
       "4      501      968        3  Calaveras County             46548   both   \n",
       "\n",
       "   violent_arrest_rate_2009  drug_arrest_rate_2009  \n",
       "0                  0.002963               0.003946  \n",
       "1                  0.006938               0.001735  \n",
       "2                  0.002629               0.002655  \n",
       "3                  0.002941               0.002487  \n",
       "4                  0.004533               0.002642  "
      ]
     },
     "execution_count": 37,
     "metadata": {},
     "output_type": "execute_result"
    }
   ],
   "source": [
    "# create a variables that calculates the arrest rates for each county\n",
    "ca_arrests_pop_2009[\"violent_arrest_rate_2009\"] = (\n",
    "    ca_arrests_pop_2009[\"VIOLENT\"] / ca_arrests_pop_2009[\"total_population\"]\n",
    ")\n",
    "ca_arrests_pop_2009[\"drug_arrest_rate_2009\"] = (\n",
    "    ca_arrests_pop_2009[\"F_DRUGOFF\"] / ca_arrests_pop_2009[\"total_population\"]\n",
    ")\n",
    "ca_arrests_pop_2009.head()"
   ]
  },
  {
   "cell_type": "markdown",
   "metadata": {},
   "source": [
    "### Exercise 13\n",
    "\n",
    "Make a scatter plot that shows the relationship between each county's violent arrest rate and it's drug arrest rate. Since we haven't done a lot with plotting yet, feel free to plot in whatever manner feels most comfortable. The easiest, if you're unsure, is just to use the `pandas` inbuilt `.plot()` method. Just specify the `x` keyword with your x-axis variable, the `y` keyword with your y-axis variable, and use `kind=\"scatter\"`."
   ]
  },
  {
   "cell_type": "code",
   "execution_count": 38,
   "metadata": {},
   "outputs": [
    {
     "data": {
      "text/plain": [
       "Text(0.5, 1.0, 'Drug Arrest Rate vs. Violent Arrest Rate in California Counties, 2009')"
      ]
     },
     "execution_count": 38,
     "metadata": {},
     "output_type": "execute_result"
    },
    {
     "data": {
      "image/png": "[encoded data removed]",
      "text/plain": [
       "<Figure size 640x480 with 1 Axes>"
      ]
     },
     "metadata": {},
     "output_type": "display_data"
    }
   ],
   "source": [
    "# Subset dataset for required variables\n",
    "ca_arrests_pop_2009.plot(\n",
    "    x=\"violent_arrest_rate_2009\", y=\"drug_arrest_rate_2009\", kind=\"scatter\"\n",
    ")\n",
    "plt.title(\"Drug Arrest Rate vs. Violent Arrest Rate in California Counties, 2009\")"
   ]
  },
  {
   "cell_type": "markdown",
   "metadata": {},
   "source": [
    "### Exercise 14\n",
    "\n",
    "Based on this simple comparison of 2009 violent arrest rates and drug arrest rates, what might you conclude about the relationship between the illegal drug trade and violent crime?"
   ]
  },
  {
   "cell_type": "code",
   "execution_count": 39,
   "metadata": {},
   "outputs": [
    {
     "name": "stdout",
     "output_type": "stream",
     "text": [
      "The correlation between drug and violent arrest rates is 0.3255.\n",
      "This suggest a moderately positive relationship between the two variables.\n"
     ]
    }
   ],
   "source": [
    "print(\n",
    "    \"The correlation between drug and violent arrest rates is {}.\".format(\n",
    "        ca_arrests_pop_2009[\"violent_arrest_rate_2009\"]\n",
    "        .corr(ca_arrests_pop_2009[\"drug_arrest_rate_2009\"])\n",
    "        .round(4)\n",
    "    )\n",
    ")\n",
    "print(\"This suggest a moderately positive relationship between the two variables.\")"
   ]
  },
  {
   "cell_type": "markdown",
   "metadata": {},
   "source": [
    "## Comparing with 2018 Arrests\n",
    "\n",
    "The preceding analysis can tell us about whether violent crime and the drug trade are correlated, but it doesn't tell us much about whether they are *causally* related. It *could* be the case that people dealing drugs *cause* more violent crime, but it could also be that certain communities, for some other reason, tend to have *both* more drug sales *and* more violent crime. \n",
    "\n",
    "To help answer this question, let's examine whether violent crime arrest rates changed in response to drug legalization. In particular, let's do this by comparing violent crime arrest rates in 2009 (before drug legalization) to violent crime arrest rates in 2018 (after drug legalization). If the illegal drug trade causes violent crime, then we would expect the violent crime rate to fall in response to drug legalization.\n"
   ]
  },
  {
   "cell_type": "markdown",
   "metadata": {},
   "source": [
    "### Exercise 15\n",
    "\n",
    "Just as we created violent arrest rates and drug arrest rates for 2009, now we want to do it for 2018. Using the data on 2018 arrests (also in the [same repository](https://github.com/nickeubank/practicaldatascience/tree/master/Example_Data/ca) we used before) and the same dataset of population data (you'll have to use population from 2013-2017, as 2018 population data has yet to be released), create a dataset of arrest rates. \n",
    "\n",
    "As before, *be careful with your merges!!!*"
   ]
  },
  {
   "cell_type": "code",
   "execution_count": 40,
   "metadata": {},
   "outputs": [
    {
     "data": {
      "text/html": [
       "<div>\n",
       "<style scoped>\n",
       "    .dataframe tbody tr th:only-of-type {\n",
       "        vertical-align: middle;\n",
       "    }\n",
       "\n",
       "    .dataframe tbody tr th {\n",
       "        vertical-align: top;\n",
       "    }\n",
       "\n",
       "    .dataframe thead th {\n",
       "        text-align: right;\n",
       "    }\n",
       "</style>\n",
       "<table border=\"1\" class=\"dataframe\">\n",
       "  <thead>\n",
       "    <tr style=\"text-align: right;\">\n",
       "      <th></th>\n",
       "      <th>Unnamed: 0</th>\n",
       "      <th>COUNTY</th>\n",
       "      <th>VIOLENT</th>\n",
       "      <th>PROPERTY</th>\n",
       "      <th>F_DRUGOFF</th>\n",
       "      <th>F_SEXOFF</th>\n",
       "      <th>F_ALLOTHER</th>\n",
       "      <th>F_TOTAL</th>\n",
       "      <th>M_TOTAL</th>\n",
       "      <th>S_TOTAL</th>\n",
       "    </tr>\n",
       "  </thead>\n",
       "  <tbody>\n",
       "    <tr>\n",
       "      <th>40</th>\n",
       "      <td>2244</td>\n",
       "      <td>San Mateo County</td>\n",
       "      <td>1415</td>\n",
       "      <td>874</td>\n",
       "      <td>228</td>\n",
       "      <td>64</td>\n",
       "      <td>910</td>\n",
       "      <td>3491</td>\n",
       "      <td>13494</td>\n",
       "      <td>43</td>\n",
       "    </tr>\n",
       "    <tr>\n",
       "      <th>15</th>\n",
       "      <td>2219</td>\n",
       "      <td>Kings County</td>\n",
       "      <td>603</td>\n",
       "      <td>307</td>\n",
       "      <td>86</td>\n",
       "      <td>42</td>\n",
       "      <td>747</td>\n",
       "      <td>1785</td>\n",
       "      <td>5545</td>\n",
       "      <td>88</td>\n",
       "    </tr>\n",
       "    <tr>\n",
       "      <th>21</th>\n",
       "      <td>2225</td>\n",
       "      <td>Mariposa County</td>\n",
       "      <td>32</td>\n",
       "      <td>32</td>\n",
       "      <td>14</td>\n",
       "      <td>3</td>\n",
       "      <td>18</td>\n",
       "      <td>99</td>\n",
       "      <td>390</td>\n",
       "      <td>0</td>\n",
       "    </tr>\n",
       "    <tr>\n",
       "      <th>48</th>\n",
       "      <td>2252</td>\n",
       "      <td>Sonoma County</td>\n",
       "      <td>1475</td>\n",
       "      <td>806</td>\n",
       "      <td>265</td>\n",
       "      <td>88</td>\n",
       "      <td>902</td>\n",
       "      <td>3536</td>\n",
       "      <td>13153</td>\n",
       "      <td>9</td>\n",
       "    </tr>\n",
       "    <tr>\n",
       "      <th>0</th>\n",
       "      <td>2204</td>\n",
       "      <td>Alameda County</td>\n",
       "      <td>4132</td>\n",
       "      <td>3051</td>\n",
       "      <td>1062</td>\n",
       "      <td>173</td>\n",
       "      <td>2619</td>\n",
       "      <td>11037</td>\n",
       "      <td>28305</td>\n",
       "      <td>82</td>\n",
       "    </tr>\n",
       "  </tbody>\n",
       "</table>\n",
       "</div>"
      ],
      "text/plain": [
       "    Unnamed: 0            COUNTY  VIOLENT  PROPERTY  F_DRUGOFF  F_SEXOFF  \\\n",
       "40        2244  San Mateo County     1415       874        228        64   \n",
       "15        2219      Kings County      603       307         86        42   \n",
       "21        2225   Mariposa County       32        32         14         3   \n",
       "48        2252     Sonoma County     1475       806        265        88   \n",
       "0         2204    Alameda County     4132      3051       1062       173   \n",
       "\n",
       "    F_ALLOTHER  F_TOTAL  M_TOTAL  S_TOTAL  \n",
       "40         910     3491    13494       43  \n",
       "15         747     1785     5545       88  \n",
       "21          18       99      390        0  \n",
       "48         902     3536    13153        9  \n",
       "0         2619    11037    28305       82  "
      ]
     },
     "execution_count": 40,
     "metadata": {},
     "output_type": "execute_result"
    }
   ],
   "source": [
    "ca_arrests_2018 = pd.read_csv(\n",
    "    \"https://github.com/nickeubank/practicaldatascience/raw/master/Example_Data/ca/ca_arrests_2018.csv\"\n",
    ")\n",
    "ca_arrests_2018.sample(5)"
   ]
  },
  {
   "cell_type": "code",
   "execution_count": 41,
   "metadata": {},
   "outputs": [
    {
     "data": {
      "text/plain": [
       "(58, 4)"
      ]
     },
     "execution_count": 41,
     "metadata": {},
     "output_type": "execute_result"
    }
   ],
   "source": [
    "# subset for only populations for 2018\n",
    "nhgis_county_pop_2018 = nhgis_county_pop[nhgis_county_pop[\"YEAR\"] == \"2013-2017\"]\n",
    "nhgis_county_pop_2018.shape"
   ]
  },
  {
   "cell_type": "code",
   "execution_count": 42,
   "metadata": {},
   "outputs": [
    {
     "data": {
      "text/html": [
       "<div>\n",
       "<style scoped>\n",
       "    .dataframe tbody tr th:only-of-type {\n",
       "        vertical-align: middle;\n",
       "    }\n",
       "\n",
       "    .dataframe tbody tr th {\n",
       "        vertical-align: top;\n",
       "    }\n",
       "\n",
       "    .dataframe thead th {\n",
       "        text-align: right;\n",
       "    }\n",
       "</style>\n",
       "<table border=\"1\" class=\"dataframe\">\n",
       "  <thead>\n",
       "    <tr style=\"text-align: right;\">\n",
       "      <th></th>\n",
       "      <th>COUNTY</th>\n",
       "      <th>total_population</th>\n",
       "    </tr>\n",
       "  </thead>\n",
       "  <tbody>\n",
       "    <tr>\n",
       "      <th>3407</th>\n",
       "      <td>Alameda County</td>\n",
       "      <td>1629615</td>\n",
       "    </tr>\n",
       "    <tr>\n",
       "      <th>3408</th>\n",
       "      <td>Alpine County</td>\n",
       "      <td>1203</td>\n",
       "    </tr>\n",
       "    <tr>\n",
       "      <th>3409</th>\n",
       "      <td>Amador County</td>\n",
       "      <td>37306</td>\n",
       "    </tr>\n",
       "    <tr>\n",
       "      <th>3410</th>\n",
       "      <td>Butte County</td>\n",
       "      <td>225207</td>\n",
       "    </tr>\n",
       "    <tr>\n",
       "      <th>3411</th>\n",
       "      <td>Calaveras County</td>\n",
       "      <td>45057</td>\n",
       "    </tr>\n",
       "  </tbody>\n",
       "</table>\n",
       "</div>"
      ],
      "text/plain": [
       "                COUNTY  total_population\n",
       "3407    Alameda County           1629615\n",
       "3408     Alpine County              1203\n",
       "3409     Amador County             37306\n",
       "3410      Butte County            225207\n",
       "3411  Calaveras County             45057"
      ]
     },
     "execution_count": 42,
     "metadata": {},
     "output_type": "execute_result"
    }
   ],
   "source": [
    "# subset for only needed columns as ca_county_pop_2018\n",
    "ca_county_pop_2018 = nhgis_county_pop_2018[[\"COUNTY\", \"total_population\"]]\n",
    "ca_county_pop_2018.head()"
   ]
  },
  {
   "cell_type": "code",
   "execution_count": 43,
   "metadata": {},
   "outputs": [
    {
     "data": {
      "text/html": [
       "<div>\n",
       "<style scoped>\n",
       "    .dataframe tbody tr th:only-of-type {\n",
       "        vertical-align: middle;\n",
       "    }\n",
       "\n",
       "    .dataframe tbody tr th {\n",
       "        vertical-align: top;\n",
       "    }\n",
       "\n",
       "    .dataframe thead th {\n",
       "        text-align: right;\n",
       "    }\n",
       "</style>\n",
       "<table border=\"1\" class=\"dataframe\">\n",
       "  <thead>\n",
       "    <tr style=\"text-align: right;\">\n",
       "      <th></th>\n",
       "      <th>county_name</th>\n",
       "      <th>total_population</th>\n",
       "    </tr>\n",
       "  </thead>\n",
       "  <tbody>\n",
       "    <tr>\n",
       "      <th>3407</th>\n",
       "      <td>Alameda County</td>\n",
       "      <td>1629615</td>\n",
       "    </tr>\n",
       "    <tr>\n",
       "      <th>3408</th>\n",
       "      <td>Alpine County</td>\n",
       "      <td>1203</td>\n",
       "    </tr>\n",
       "    <tr>\n",
       "      <th>3409</th>\n",
       "      <td>Amador County</td>\n",
       "      <td>37306</td>\n",
       "    </tr>\n",
       "    <tr>\n",
       "      <th>3410</th>\n",
       "      <td>Butte County</td>\n",
       "      <td>225207</td>\n",
       "    </tr>\n",
       "    <tr>\n",
       "      <th>3411</th>\n",
       "      <td>Calaveras County</td>\n",
       "      <td>45057</td>\n",
       "    </tr>\n",
       "  </tbody>\n",
       "</table>\n",
       "</div>"
      ],
      "text/plain": [
       "           county_name  total_population\n",
       "3407    Alameda County           1629615\n",
       "3408     Alpine County              1203\n",
       "3409     Amador County             37306\n",
       "3410      Butte County            225207\n",
       "3411  Calaveras County             45057"
      ]
     },
     "execution_count": 43,
     "metadata": {},
     "output_type": "execute_result"
    }
   ],
   "source": [
    "# rename column\n",
    "ca_county_pop_2018 = ca_county_pop_2018.rename(columns={\"COUNTY\": \"county_name\"})\n",
    "ca_county_pop_2018.head()"
   ]
  },
  {
   "cell_type": "code",
   "execution_count": 44,
   "metadata": {},
   "outputs": [
    {
     "name": "stdout",
     "output_type": "stream",
     "text": [
      "Exactly what we anticipated:\n",
      "(0, 13)\n"
     ]
    }
   ],
   "source": [
    "# Merge the two datasets using the \"COUNTY\" column as the key\n",
    "ca_arrests_pop_2018 = pd.merge(\n",
    "    ca_arrests_2018,\n",
    "    ca_county_pop_2018,\n",
    "    how=\"outer\",\n",
    "    left_on=\"COUNTY\",\n",
    "    right_on=\"county_name\",\n",
    "    validate=\"one_to_one\",\n",
    "    indicator=True,\n",
    ")\n",
    "print(\"Exactly what we anticipated:\")\n",
    "print(ca_arrests_pop_2018[ca_arrests_pop_2018._merge != \"both\"].shape)"
   ]
  },
  {
   "cell_type": "code",
   "execution_count": 45,
   "metadata": {},
   "outputs": [
    {
     "data": {
      "text/html": [
       "<div>\n",
       "<style scoped>\n",
       "    .dataframe tbody tr th:only-of-type {\n",
       "        vertical-align: middle;\n",
       "    }\n",
       "\n",
       "    .dataframe tbody tr th {\n",
       "        vertical-align: top;\n",
       "    }\n",
       "\n",
       "    .dataframe thead th {\n",
       "        text-align: right;\n",
       "    }\n",
       "</style>\n",
       "<table border=\"1\" class=\"dataframe\">\n",
       "  <thead>\n",
       "    <tr style=\"text-align: right;\">\n",
       "      <th></th>\n",
       "      <th>Unnamed: 0</th>\n",
       "      <th>COUNTY</th>\n",
       "      <th>VIOLENT</th>\n",
       "      <th>PROPERTY</th>\n",
       "      <th>F_DRUGOFF</th>\n",
       "      <th>F_SEXOFF</th>\n",
       "      <th>F_ALLOTHER</th>\n",
       "      <th>F_TOTAL</th>\n",
       "      <th>M_TOTAL</th>\n",
       "      <th>S_TOTAL</th>\n",
       "      <th>county_name</th>\n",
       "      <th>total_population</th>\n",
       "      <th>_merge</th>\n",
       "      <th>violent_arrest_rate_2018</th>\n",
       "      <th>drug_arrest_rate_2018</th>\n",
       "    </tr>\n",
       "  </thead>\n",
       "  <tbody>\n",
       "    <tr>\n",
       "      <th>0</th>\n",
       "      <td>2204</td>\n",
       "      <td>Alameda County</td>\n",
       "      <td>4132</td>\n",
       "      <td>3051</td>\n",
       "      <td>1062</td>\n",
       "      <td>173</td>\n",
       "      <td>2619</td>\n",
       "      <td>11037</td>\n",
       "      <td>28305</td>\n",
       "      <td>82</td>\n",
       "      <td>Alameda County</td>\n",
       "      <td>1629615</td>\n",
       "      <td>both</td>\n",
       "      <td>0.002536</td>\n",
       "      <td>0.000652</td>\n",
       "    </tr>\n",
       "    <tr>\n",
       "      <th>1</th>\n",
       "      <td>2205</td>\n",
       "      <td>Alpine County</td>\n",
       "      <td>5</td>\n",
       "      <td>2</td>\n",
       "      <td>1</td>\n",
       "      <td>0</td>\n",
       "      <td>3</td>\n",
       "      <td>11</td>\n",
       "      <td>41</td>\n",
       "      <td>0</td>\n",
       "      <td>Alpine County</td>\n",
       "      <td>1203</td>\n",
       "      <td>both</td>\n",
       "      <td>0.004156</td>\n",
       "      <td>0.000831</td>\n",
       "    </tr>\n",
       "    <tr>\n",
       "      <th>2</th>\n",
       "      <td>2206</td>\n",
       "      <td>Amador County</td>\n",
       "      <td>72</td>\n",
       "      <td>40</td>\n",
       "      <td>31</td>\n",
       "      <td>3</td>\n",
       "      <td>142</td>\n",
       "      <td>288</td>\n",
       "      <td>701</td>\n",
       "      <td>1</td>\n",
       "      <td>Amador County</td>\n",
       "      <td>37306</td>\n",
       "      <td>both</td>\n",
       "      <td>0.001930</td>\n",
       "      <td>0.000831</td>\n",
       "    </tr>\n",
       "    <tr>\n",
       "      <th>3</th>\n",
       "      <td>2207</td>\n",
       "      <td>Butte County</td>\n",
       "      <td>785</td>\n",
       "      <td>437</td>\n",
       "      <td>229</td>\n",
       "      <td>47</td>\n",
       "      <td>741</td>\n",
       "      <td>2239</td>\n",
       "      <td>8853</td>\n",
       "      <td>1</td>\n",
       "      <td>Butte County</td>\n",
       "      <td>225207</td>\n",
       "      <td>both</td>\n",
       "      <td>0.003486</td>\n",
       "      <td>0.001017</td>\n",
       "    </tr>\n",
       "    <tr>\n",
       "      <th>4</th>\n",
       "      <td>2208</td>\n",
       "      <td>Calaveras County</td>\n",
       "      <td>147</td>\n",
       "      <td>42</td>\n",
       "      <td>29</td>\n",
       "      <td>6</td>\n",
       "      <td>96</td>\n",
       "      <td>320</td>\n",
       "      <td>897</td>\n",
       "      <td>0</td>\n",
       "      <td>Calaveras County</td>\n",
       "      <td>45057</td>\n",
       "      <td>both</td>\n",
       "      <td>0.003263</td>\n",
       "      <td>0.000644</td>\n",
       "    </tr>\n",
       "  </tbody>\n",
       "</table>\n",
       "</div>"
      ],
      "text/plain": [
       "   Unnamed: 0            COUNTY  VIOLENT  PROPERTY  F_DRUGOFF  F_SEXOFF  \\\n",
       "0        2204    Alameda County     4132      3051       1062       173   \n",
       "1        2205     Alpine County        5         2          1         0   \n",
       "2        2206     Amador County       72        40         31         3   \n",
       "3        2207      Butte County      785       437        229        47   \n",
       "4        2208  Calaveras County      147        42         29         6   \n",
       "\n",
       "   F_ALLOTHER  F_TOTAL  M_TOTAL  S_TOTAL       county_name  total_population  \\\n",
       "0        2619    11037    28305       82    Alameda County           1629615   \n",
       "1           3       11       41        0     Alpine County              1203   \n",
       "2         142      288      701        1     Amador County             37306   \n",
       "3         741     2239     8853        1      Butte County            225207   \n",
       "4          96      320      897        0  Calaveras County             45057   \n",
       "\n",
       "  _merge  violent_arrest_rate_2018  drug_arrest_rate_2018  \n",
       "0   both                  0.002536               0.000652  \n",
       "1   both                  0.004156               0.000831  \n",
       "2   both                  0.001930               0.000831  \n",
       "3   both                  0.003486               0.001017  \n",
       "4   both                  0.003263               0.000644  "
      ]
     },
     "execution_count": 45,
     "metadata": {},
     "output_type": "execute_result"
    }
   ],
   "source": [
    "# create a variables that calculates the arrest rates for each county\n",
    "ca_arrests_pop_2018[\"violent_arrest_rate_2018\"] = (\n",
    "    ca_arrests_pop_2018[\"VIOLENT\"] / ca_arrests_pop_2018[\"total_population\"]\n",
    ")\n",
    "ca_arrests_pop_2018[\"drug_arrest_rate_2018\"] = (\n",
    "    ca_arrests_pop_2018[\"F_DRUGOFF\"] / ca_arrests_pop_2018[\"total_population\"]\n",
    ")\n",
    "ca_arrests_pop_2018.head()"
   ]
  },
  {
   "cell_type": "markdown",
   "metadata": {},
   "source": [
    "### Exercise 16\n",
    "\n",
    "Now merge our two county-level datasets so you have one row for every county, and variables for violent arrest rates in 2018, violent arrest rates in 2009, felony drug arrest rates in 2018, and felony drug arrest rates in 2009. Store the number of observations in your final data set in your `results` dictionary under the key `\"ex16_num_obs\"`."
   ]
  },
  {
   "cell_type": "code",
   "execution_count": 46,
   "metadata": {},
   "outputs": [
    {
     "data": {
      "text/plain": [
       "(58, 28)"
      ]
     },
     "execution_count": 46,
     "metadata": {},
     "output_type": "execute_result"
    }
   ],
   "source": [
    "# Merge all county-level datasets\n",
    "merged_arrest_rate = pd.merge(\n",
    "    ca_arrests_pop_2018,\n",
    "    ca_arrests_pop_2009,\n",
    "    how=\"outer\",\n",
    "    on=\"COUNTY\",\n",
    ")\n",
    "merged_arrest_rate.shape"
   ]
  },
  {
   "cell_type": "code",
   "execution_count": 47,
   "metadata": {},
   "outputs": [],
   "source": [
    "merged_arrest_rate = merged_arrest_rate[\n",
    "    [\n",
    "        \"COUNTY\",\n",
    "        \"violent_arrest_rate_2009\",\n",
    "        \"violent_arrest_rate_2018\",\n",
    "        \"drug_arrest_rate_2009\",\n",
    "        \"drug_arrest_rate_2018\",\n",
    "    ]\n",
    "]\n",
    "merged_arrest_rate.head()\n",
    "results[\"ex16_num_obs\"] = merged_arrest_rate.shape[0]"
   ]
  },
  {
   "cell_type": "markdown",
   "metadata": {},
   "source": [
    "### Exercise 17\n",
    "\n",
    "Did drug arrests go down from 2009 to 2018 in response to drug legalization? (they sure better! This is what's called a \"sanity check\" of your data and analysis. If you find drug arrests went *up*, you know something went wrong with your code or your understanding of the situations). \n",
    "\n",
    "Store the average county-level change in drug arrests per capita in `results` under the key `\"ex17_drug_change\"`."
   ]
  },
  {
   "cell_type": "code",
   "execution_count": 48,
   "metadata": {},
   "outputs": [
    {
     "name": "stdout",
     "output_type": "stream",
     "text": [
      "The average change in drug arrest rate between 2009 and 2018 is -0.0022.\n"
     ]
    }
   ],
   "source": [
    "results[\"ex17_drug_change\"] = (\n",
    "    merged_arrest_rate.drug_arrest_rate_2018.mean()\n",
    "    - merged_arrest_rate.drug_arrest_rate_2009.mean()\n",
    ")\n",
    "print(\n",
    "    \"The average change in drug arrest rate between 2009 and 2018 is {}.\".format(\n",
    "        results[\"ex17_drug_change\"].round(4)\n",
    "    )\n",
    ")"
   ]
  },
  {
   "cell_type": "markdown",
   "metadata": {},
   "source": [
    "### Exercise 18\n",
    "\n",
    "Now we want to look at whether violent crime decreased following drug legalization. Did the average violent arrest rate decrease? By how much? (Note: We're assuming that arrest rates are proportionate to crime rates. If policing increased so that there were more arrests per crime committed, that would impact our interpretation of these results. But this is just an exercise, so...)\n",
    "\n",
    "Store the average county-level change in violent arrests per capita in `results` under the key `\"ex18_violent_change\"`"
   ]
  },
  {
   "cell_type": "code",
   "execution_count": 49,
   "metadata": {},
   "outputs": [
    {
     "name": "stdout",
     "output_type": "stream",
     "text": [
      "The average change in violent arrest rate between 2009 and 2018 is -0.0003.\n"
     ]
    }
   ],
   "source": [
    "results[\"ex18_violent_change\"] = (\n",
    "    merged_arrest_rate.violent_arrest_rate_2018.mean()\n",
    "    - merged_arrest_rate.violent_arrest_rate_2009.mean()\n",
    ")\n",
    "print(\n",
    "    \"The average change in violent arrest rate between 2009 and 2018 is {}.\".format(\n",
    "        results[\"ex18_violent_change\"].round(4)\n",
    "    )\n",
    ")"
   ]
  },
  {
   "cell_type": "markdown",
   "metadata": {},
   "source": [
    "### Exercise 19\n",
    "\n",
    "Based on your answers to exercises 17 and 18, what might you conclude about the relationship between the illegal drug trade and violent crime? Did legalizing drugs increase violent crime (assuming arrest rates are a good proxy for crime rates)? Decrease violent crime? Have no effect? "
   ]
  },
  {
   "cell_type": "code",
   "execution_count": 50,
   "metadata": {},
   "outputs": [
    {
     "name": "stdout",
     "output_type": "stream",
     "text": [
      "The answers above has shown that both the violent and drug arrest rates have decreased between 2009 and 2018.This indicates that legalizing drugs the state of California resulted in violent crime decrease within the period of study.\n"
     ]
    }
   ],
   "source": [
    "print(\n",
    "    f\"The answers above has shown that both the violent and drug arrest rates have decreased between 2009 and 2018.\"\n",
    "    + f\"This indicates that legalizing drugs the state of California resulted in violent crime decrease within the period of study.\"\n",
    ")"
   ]
  },
  {
   "cell_type": "markdown",
   "metadata": {},
   "source": [
    "## Difference in Difference Analysis\n",
    "\n",
    "The preceding analysis is something we sometimes call a \"pre-post\" analysis, in that it is a comparison of how and outcome we care about (violent arrest rates) changes from before a treatment is introduced (\"pre\") to after (\"post\"). BUT: pre-post comparisons are imperfect. If we knew that violent crime was not going to change at all in a world without drug legalization, then this comparison is perfectly valid. But what if, absent drug legalization, violent crime would have fallen on its own (maybe because of advances in policing practices or a better economy)? Or maybe it would have increased?\n",
    "\n",
    "This is actually a very common problem. For example, imagine you're trying to figure out whether taking tylenol helps with headaches. You have a patient with a headache, you give them tylenol, and then the next day you ask them if they still have a headache, and find out that they don't — does that mean that tylenol cured the headache? Maybe... but most headaches eventually resolve on their own, so maybe the headache would have passed with or without the patient taking tylenol! In fact, there's a term for this phenomenon in medicine — the \"natural history\" of a disease, which is the trajectory that we think a disease might follow absent treatment. And the natural history of the disease is almost never for it to stay exactly the same indefinitely.\n",
    "\n",
    "(All of this is closely related to the discipline of causal inference, and if it makes your head to hurt, don't worry — that means you're doing it right! We will talk lots and lots more about it in the weeks and months to come.)\n",
    "\n",
    "One way to try to overcome this problem is with something called a difference-in-difference analysis. Rather than just looking at whether violent drug arrest rates increase or decrease between 2009 and 2018, we can split our sample of counties into those that were *more* impacted by drug legalization and those that were *less* impacted by drug legalization and evaluate whether we see a greater change in the violent drug arrest rate in the counties that were more impacted. \n",
    "\n",
    "What does it mean to have been \"more impacted\" by drug legalization? In this case, we can treat the counties that had higher drug arrest rates in 2009 as counties that were more impacted by drug legalization than those that had low drug arrest rates in 2009. After all, in a county that had no drug arrests, legalization wouldn't do anything, would it? \n"
   ]
  },
  {
   "cell_type": "markdown",
   "metadata": {},
   "source": [
    "\n",
    "### Exercise 20\n",
    "\n",
    "First, split our sample into two groups: high drug arrests in 2009, and low drug arrests in 2009 (cut the sample at the average drug arrest rate in 2009). \n"
   ]
  },
  {
   "cell_type": "code",
   "execution_count": 51,
   "metadata": {},
   "outputs": [
    {
     "data": {
      "text/html": [
       "<div>\n",
       "<style scoped>\n",
       "    .dataframe tbody tr th:only-of-type {\n",
       "        vertical-align: middle;\n",
       "    }\n",
       "\n",
       "    .dataframe tbody tr th {\n",
       "        vertical-align: top;\n",
       "    }\n",
       "\n",
       "    .dataframe thead th {\n",
       "        text-align: right;\n",
       "    }\n",
       "</style>\n",
       "<table border=\"1\" class=\"dataframe\">\n",
       "  <thead>\n",
       "    <tr style=\"text-align: right;\">\n",
       "      <th></th>\n",
       "      <th>COUNTY</th>\n",
       "      <th>violent_arrest_rate_2009</th>\n",
       "      <th>violent_arrest_rate_2018</th>\n",
       "      <th>drug_arrest_rate_2009</th>\n",
       "      <th>drug_arrest_rate_2018</th>\n",
       "    </tr>\n",
       "  </thead>\n",
       "  <tbody>\n",
       "    <tr>\n",
       "      <th>0</th>\n",
       "      <td>Alameda County</td>\n",
       "      <td>0.002963</td>\n",
       "      <td>0.002536</td>\n",
       "      <td>0.003946</td>\n",
       "      <td>0.000652</td>\n",
       "    </tr>\n",
       "    <tr>\n",
       "      <th>9</th>\n",
       "      <td>Fresno County</td>\n",
       "      <td>0.004914</td>\n",
       "      <td>0.004442</td>\n",
       "      <td>0.003938</td>\n",
       "      <td>0.000571</td>\n",
       "    </tr>\n",
       "    <tr>\n",
       "      <th>10</th>\n",
       "      <td>Glenn County</td>\n",
       "      <td>0.003729</td>\n",
       "      <td>0.003580</td>\n",
       "      <td>0.003729</td>\n",
       "      <td>0.000823</td>\n",
       "    </tr>\n",
       "    <tr>\n",
       "      <th>11</th>\n",
       "      <td>Humboldt County</td>\n",
       "      <td>0.003899</td>\n",
       "      <td>0.003631</td>\n",
       "      <td>0.005791</td>\n",
       "      <td>0.000989</td>\n",
       "    </tr>\n",
       "    <tr>\n",
       "      <th>12</th>\n",
       "      <td>Imperial County</td>\n",
       "      <td>0.003743</td>\n",
       "      <td>0.002228</td>\n",
       "      <td>0.004562</td>\n",
       "      <td>0.000806</td>\n",
       "    </tr>\n",
       "  </tbody>\n",
       "</table>\n",
       "</div>"
      ],
      "text/plain": [
       "             COUNTY  violent_arrest_rate_2009  violent_arrest_rate_2018  \\\n",
       "0    Alameda County                  0.002963                  0.002536   \n",
       "9     Fresno County                  0.004914                  0.004442   \n",
       "10     Glenn County                  0.003729                  0.003580   \n",
       "11  Humboldt County                  0.003899                  0.003631   \n",
       "12  Imperial County                  0.003743                  0.002228   \n",
       "\n",
       "    drug_arrest_rate_2009  drug_arrest_rate_2018  \n",
       "0                0.003946               0.000652  \n",
       "9                0.003938               0.000571  \n",
       "10               0.003729               0.000823  \n",
       "11               0.005791               0.000989  \n",
       "12               0.004562               0.000806  "
      ]
     },
     "execution_count": 51,
     "metadata": {},
     "output_type": "execute_result"
    }
   ],
   "source": [
    "high_drug_arrest = merged_arrest_rate.loc[\n",
    "    merged_arrest_rate[\"drug_arrest_rate_2009\"]\n",
    "    > merged_arrest_rate[\"drug_arrest_rate_2009\"].mean()\n",
    "]\n",
    "low_drug_arrest = merged_arrest_rate.loc[\n",
    "    merged_arrest_rate[\"drug_arrest_rate_2009\"]\n",
    "    < merged_arrest_rate[\"drug_arrest_rate_2009\"].mean()\n",
    "]\n",
    "high_drug_arrest.head()"
   ]
  },
  {
   "cell_type": "markdown",
   "metadata": {},
   "source": [
    "\n",
    "### Exercise 21\n",
    "\n",
    "Now, determine weather violent crime changed *more* from 2009 to 2018 in the counties that had lots of drug arrests in 2009 (where legalization likely had more of an effect) than in counties with fewer drug arrests in 2009 (where legalization likely mattered less)? \n",
    "\n",
    "Calculate this difference-in-difference:\n",
    "\n",
    "```\n",
    "(the change in violent crime rate per capita for counties with lots of drug arrests in 2009) \n",
    "- (the change in violent crime rate per capita for counties with few drug arrests in 2009)\n",
    "\n",
    "```\n",
    "\n",
    "Store your \"difference-in-difference\" estimate in your `results` dictionary under the key `\"ex21_diffindiff\"`."
   ]
  },
  {
   "cell_type": "code",
   "execution_count": 52,
   "metadata": {},
   "outputs": [
    {
     "name": "stdout",
     "output_type": "stream",
     "text": [
      "The difference-in-difference estimate is: -0.00025\n"
     ]
    }
   ],
   "source": [
    "c_high = (\n",
    "    high_drug_arrest.violent_arrest_rate_2018.mean()\n",
    "    - high_drug_arrest.violent_arrest_rate_2009.mean()\n",
    ")\n",
    "\n",
    "c_low = (\n",
    "    low_drug_arrest.violent_arrest_rate_2018.mean()\n",
    "    - low_drug_arrest.violent_arrest_rate_2009.mean()\n",
    ")\n",
    "\n",
    "results[\"ex21_diffindiff\"] = c_high - c_low\n",
    "print(\n",
    "    \"The difference-in-difference estimate is: {}\".format(\n",
    "        results[\"ex21_diffindiff\"].round(5)\n",
    "    )\n",
    ")"
   ]
  },
  {
   "cell_type": "markdown",
   "metadata": {},
   "source": [
    "### Exercise 22\n",
    "\n",
    "Interpret your difference in difference result."
   ]
  },
  {
   "cell_type": "code",
   "execution_count": null,
   "metadata": {},
   "outputs": [],
   "source": []
  },
  {
   "cell_type": "markdown",
   "metadata": {},
   "source": [
    "### Exercise 23\n",
    "\n",
    "The quantity we estimated above is a little difficult to interpret. Rather than calculating the *absolute* change in violent arrest rates per capita, let's calculate the *proportionate* change.\n",
    "\n",
    "Calculate:\n",
    "\n",
    "```\n",
    "(the county-level percentage change in violent crime rate with lots of drug arrests in 2009) \n",
    "- (the county-level percentage change in violent crime rate with few drug arrests in 2009)\n",
    "```\n",
    "Store your \"difference-in-difference\" estimate in your `results` dictionary under the key `\"ex24_diffindiff_proportionate\"`. Report your result in percentages, such that a value of `-100` would imply that the average county experienced a 100% decrease in the violent arrest rate."
   ]
  },
  {
   "cell_type": "code",
   "execution_count": 53,
   "metadata": {},
   "outputs": [
    {
     "name": "stdout",
     "output_type": "stream",
     "text": [
      "A propotionate change of -0.00024739378861355797 prepresents a 100% decrease in violent arrest rate for an average county in California.\n"
     ]
    }
   ],
   "source": [
    "diffindiff_proportionate = c_high - c_low\n",
    "\n",
    "ex23_diffindiff_proportionate = diffindiff_proportionate.mean()\n",
    "\n",
    "results[\"ex23_diffindiff_proportionate\"] = ex23_diffindiff_proportionate\n",
    "\n",
    "print(\n",
    "    \"A propotionate change of {} prepresents a 100% decrease in violent arrest rate for an average county in California.\".format(\n",
    "        results[\"ex23_diffindiff_proportionate\"]\n",
    "    )\n",
    ")"
   ]
  },
  {
   "cell_type": "code",
   "execution_count": 54,
   "metadata": {},
   "outputs": [],
   "source": [
    "assert set(results.keys()) == {\n",
    "    \"ex6_validate_keyword\",\n",
    "    \"ex10_merged_successfully\",\n",
    "    \"ex16_num_obs\",\n",
    "    \"ex17_drug_change\",\n",
    "    \"ex18_violent_change\",\n",
    "    \"ex21_diffindiff\",\n",
    "    \"ex23_diffindiff_proportionate\",\n",
    "}"
   ]
  }
 ],
 "metadata": {
  "kernelspec": {
   "display_name": "Python 3.10.6 ('base')",
   "language": "python",
   "name": "python3"
  },
  "language_info": {
   "codemirror_mode": {
    "name": "ipython",
    "version": 3
   },
   "file_extension": ".py",
   "mimetype": "text/x-python",
   "name": "python",
   "nbconvert_exporter": "python",
   "pygments_lexer": "ipython3",
   "version": "3.11.4"
  },
  "vscode": {
   "interpreter": {
    "hash": "718fed28bf9f8c7851519acf2fb923cd655120b36de3b67253eeb0428bd33d2d"
   }
  }
 },
 "nbformat": 4,
 "nbformat_minor": 4
}
